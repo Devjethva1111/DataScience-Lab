{
 "cells": [
  {
   "cell_type": "code",
   "execution_count": 4,
   "id": "b36ebcc5",
   "metadata": {},
   "outputs": [],
   "source": [
    "import numpy as np\n",
    "from PIL import Image\n",
    "\n",
    "def nearest_neighbor(image, scale_factor):\n",
    "    width, height = image.size\n",
    "    new_width = int(width * scale_factor)\n",
    "    new_height = int(height * scale_factor)\n",
    "    return image.resize((new_width, new_height), Image.NEAREST)\n",
    "\n",
    "def bilinear_interpolation(image, scale_factor):\n",
    "    width, height = image.size\n",
    "    new_width = int(width * scale_factor)\n",
    "    new_height = int(height * scale_factor)\n",
    "    return image.resize((new_width, new_height), Image.BILINEAR)\n",
    "\n",
    "def bicubic_interpolation(image, scale_factor):\n",
    "    width, height = image.size\n",
    "    new_width = int(width * scale_factor)\n",
    "    new_height = int(height * scale_factor)\n",
    "    return image.resize((new_width, new_height), Image.BICUBIC)\n",
    "\n",
    "def main():\n",
    "    # Load the image\n",
    "    img_path = r\"H:\\DataScience-Lab\\Sem-2\\FDS\\image.jpg\"\n",
    "    image = Image.open(r\"H:\\DataScience-Lab\\Sem-2\\FDS\\image.jpg\")\n",
    "\n",
    "    # Specify the scaling factor\n",
    "    scale_factor = 2  # Scale the image by a factor of 2\n",
    "\n",
    "    # Perform scaling using different algorithms\n",
    "    scaled_nearest = nearest_neighbor(image, scale_factor)\n",
    "    scaled_bilinear = bilinear_interpolation(image, scale_factor)\n",
    "    scaled_bicubic = bicubic_interpolation(image, scale_factor)\n",
    "\n",
    "    # Save the scaled images\n",
    "    scaled_nearest.save(r\"H:\\DataScience-Lab\\Sem-2\\FDS\\Nearesr_Neighbor.jpg\")\n",
    "    scaled_nearest.save(r\"H:\\DataScience-Lab\\Sem-2\\FDS\\bilinear_scaled.jpg\")\n",
    "    scaled_nearest.save(r\"H:\\DataScience-Lab\\Sem-2\\FDS\\bicubic_scaled.jpg\")\n",
    "\n",
    "    # Display the scaled images\n",
    "    scaled_nearest.show()\n",
    "    scaled_bilinear.show()\n",
    "    scaled_bicubic.show()\n",
    "\n",
    "if __name__ == \"__main__\":\n",
    "    main()"
   ]
  },
  {
   "cell_type": "code",
   "execution_count": null,
   "id": "c70f1c42",
   "metadata": {},
   "outputs": [],
   "source": []
  }
 ],
 "metadata": {
  "kernelspec": {
   "display_name": "Python 3 (ipykernel)",
   "language": "python",
   "name": "python3"
  },
  "language_info": {
   "codemirror_mode": {
    "name": "ipython",
    "version": 3
   },
   "file_extension": ".py",
   "mimetype": "text/x-python",
   "name": "python",
   "nbconvert_exporter": "python",
   "pygments_lexer": "ipython3",
   "version": "3.11.1"
  },
  "nbTranslate": {
   "displayLangs": [
    "*"
   ],
   "hotkey": "alt-t",
   "langInMainMenu": true,
   "sourceLang": "en",
   "targetLang": "fr",
   "useGoogleTranslate": true
  },
  "toc": {
   "base_numbering": 1,
   "nav_menu": {},
   "number_sections": true,
   "sideBar": true,
   "skip_h1_title": false,
   "title_cell": "Table of Contents",
   "title_sidebar": "Contents",
   "toc_cell": false,
   "toc_position": {},
   "toc_section_display": true,
   "toc_window_display": false
  },
  "varInspector": {
   "cols": {
    "lenName": 16,
    "lenType": 16,
    "lenVar": 40
   },
   "kernels_config": {
    "python": {
     "delete_cmd_postfix": "",
     "delete_cmd_prefix": "del ",
     "library": "var_list.py",
     "varRefreshCmd": "print(var_dic_list())"
    },
    "r": {
     "delete_cmd_postfix": ") ",
     "delete_cmd_prefix": "rm(",
     "library": "var_list.r",
     "varRefreshCmd": "cat(var_dic_list()) "
    }
   },
   "types_to_exclude": [
    "module",
    "function",
    "builtin_function_or_method",
    "instance",
    "_Feature"
   ],
   "window_display": false
  }
 },
 "nbformat": 4,
 "nbformat_minor": 5
}
