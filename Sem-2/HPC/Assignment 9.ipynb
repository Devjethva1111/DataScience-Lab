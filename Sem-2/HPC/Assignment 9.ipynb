{
 "cells": [
  {
   "cell_type": "markdown",
   "id": "503bde5e",
   "metadata": {},
   "source": [
    "# Assignment 9"
   ]
  },
  {
   "cell_type": "markdown",
   "id": "b9486575",
   "metadata": {},
   "source": [
    "* Calculate Pi value using openMPI send and receive messages for atleast 35-40 terms.\n",
    "* Change the value on n as 2, 4, 8, 16.\n",
    "* Analyze the performance improvement using number of processes."
   ]
  },
  {
   "cell_type": "code",
   "execution_count": 1,
   "id": "5c485647",
   "metadata": {},
   "outputs": [],
   "source": [
    "from mpi4py import MPI\n",
    "import random\n",
    "import matplotlib.pyplot as plt\n",
    "import time"
   ]
  },
  {
   "cell_type": "code",
   "execution_count": 2,
   "id": "eeffe469",
   "metadata": {},
   "outputs": [
    {
     "name": "stdout",
     "output_type": "stream",
     "text": [
      "Process 0 calculated: Pi = 3.141592643589326, Time = 16.853801012039185 seconds\n",
      "Number of processes: 1\n",
      "Estimated Pi: 3.141592643589326\n",
      "Execution time: 16.853801012039185 seconds\n"
     ]
    }
   ],
   "source": [
    "def calculate_pi(rank, num_processes, terms):\n",
    "    partial_sum = 0.0\n",
    "    for i in range(rank, terms, num_processes):\n",
    "        if i % 2 == 0:\n",
    "            partial_sum += 1.0 / (2 * i + 1)\n",
    "        else:\n",
    "            partial_sum -= 1.0 / (2 * i + 1)\n",
    "    return partial_sum * 4\n",
    "\n",
    "if __name__ == \"__main__\":\n",
    "    comm = MPI.COMM_WORLD\n",
    "    rank = comm.Get_rank()\n",
    "    size = comm.Get_size()\n",
    "\n",
    "    terms = 100000000\n",
    "\n",
    "    start_time = time.time()\n",
    "\n",
    "    partial_pi = calculate_pi(rank, size, terms)\n",
    "    print(f\"Process {rank} calculated: Pi = {partial_pi}, Time = {time.time() - start_time} seconds\")\n",
    "\n",
    "    if rank == 0:\n",
    "        total_pi = partial_pi\n",
    "        for i in range(1, size):\n",
    "            partial_result, partial_time = comm.recv(source=i)\n",
    "            total_pi += partial_result\n",
    "            print(f\"Process {i} received: Pi = {partial_result}, Time = {partial_time} seconds\")\n",
    "\n",
    "        print(\"Number of processes:\", size)\n",
    "        print(\"Estimated Pi:\", total_pi)\n",
    "        print(\"Execution time:\", time.time() - start_time, \"seconds\")\n",
    "    else:\n",
    "        comm.send((partial_pi, time.time() - start_time), dest=0)"
   ]
  },
  {
   "cell_type": "code",
   "execution_count": 3,
   "id": "5473191f",
   "metadata": {},
   "outputs": [
    {
     "name": "stdout",
     "output_type": "stream",
     "text": [
      "Process 1 calculated: Pi = -18.813394448175345, Time = 7.08020806312561 seconds\n",
      "Process 0 calculated: Pi = 21.954987091759833, Time = 7.084234952926636 seconds\n",
      "Process 1 received: Pi = -18.813394448175345, Time = 7.08020806312561 seconds\n",
      "Number of processes: 2\n",
      "Estimated Pi: 3.141592643584488\n",
      "Execution time: 7.084234952926636 seconds\n"
     ]
    }
   ],
   "source": [
    "!mpiexec -n 2 python Calculate_Pi_value.py"
   ]
  },
  {
   "cell_type": "code",
   "execution_count": 10,
   "id": "bc42c4df",
   "metadata": {},
   "outputs": [
    {
     "name": "stdout",
     "output_type": "stream",
     "text": [
      "Process 1 calculated: Pi = -9.894192713487952, Time = 5.464809417724609 seconds\n",
      "Process 2 calculated: Pi = 9.243547576205538, Time = 5.615514755249023 seconds\n",
      "Process 3 calculated: Pi = -8.919201734688878, Time = 5.6487884521484375 seconds\n",
      "Process 0 calculated: Pi = 12.711439515567903, Time = 5.480837345123291 seconds\n",
      "Process 1 received: Pi = -9.894192713487952, Time = 5.4658119678497314 seconds\n",
      "Process 2 received: Pi = 9.243547576205538, Time = 5.615514755249023 seconds\n",
      "Process 3 received: Pi = -8.919201734688878, Time = 5.6487884521484375 seconds\n",
      "Number of processes: 4\n",
      "Estimated Pi: 3.1415926435966117\n",
      "Execution time: 5.6487884521484375 seconds\n"
     ]
    }
   ],
   "source": [
    "!mpiexec -n 4 python Calculate_Pi_value.py"
   ]
  },
  {
   "cell_type": "code",
   "execution_count": 8,
   "id": "1a7c8c3c",
   "metadata": {},
   "outputs": [
    {
     "name": "stdout",
     "output_type": "stream",
     "text": [
      "Process 5 calculated: Pi = -4.399299923327154, Time = 4.300693988800049 seconds\n",
      "Process 4 calculated: Pi = 4.5064163512322155, Time = 4.332261800765991 seconds\n",
      "Process 3 calculated: Pi = -4.662641756747161, Time = 4.349788427352905 seconds\n",
      "Process 2 calculated: Pi = 4.924086190869872, Time = 4.361311197280884 seconds\n",
      "Process 6 calculated: Pi = 4.319461385334904, Time = 4.376924514770508 seconds\n",
      "Process 1 calculated: Pi = -5.494892790161891, Time = 4.4154744148254395 seconds\n",
      "Process 7 calculated: Pi = -4.256559977941305, Time = 4.42398738861084 seconds\n",
      "Process 0 calculated: Pi = 8.205023164331104, Time = 4.431013584136963 seconds\n",
      "Process 1 received: Pi = -5.494892790161891, Time = 4.4154744148254395 seconds\n",
      "Process 2 received: Pi = 4.924086190869872, Time = 4.361311197280884 seconds\n",
      "Process 3 received: Pi = -4.662641756747161, Time = 4.349788427352905 seconds\n",
      "Process 4 received: Pi = 4.5064163512322155, Time = 4.332261800765991 seconds\n",
      "Process 5 received: Pi = -4.399299923327154, Time = 4.301691293716431 seconds\n",
      "Process 6 received: Pi = 4.319461385334904, Time = 4.376924514770508 seconds\n",
      "Process 7 received: Pi = -4.256559977941305, Time = 4.42398738861084 seconds\n",
      "Number of processes: 8\n",
      "Estimated Pi: 3.1415926435905845\n",
      "Execution time: 4.432020425796509 seconds\n"
     ]
    }
   ],
   "source": [
    "!mpiexec -n 8 python Calculate_Pi_value.py"
   ]
  },
  {
   "cell_type": "code",
   "execution_count": 9,
   "id": "c0ad57fd",
   "metadata": {},
   "outputs": [
    {
     "name": "stdout",
     "output_type": "stream",
     "text": [
      "Process 15 calculated: Pi = -2.0347399856201327, Time = 2.499709367752075 seconds\n",
      "Process 14 calculated: Pi = 2.048883162920837, Time = 2.5267527103424072 seconds\n",
      "Process 6 calculated: Pi = 2.2705782224129933, Time = 2.5746617317199707 seconds\n",
      "Process 11 calculated: Pi = -2.102010079259159, Time = 2.591703176498413 seconds\n",
      "Process 7 calculated: Pi = -2.221819992321798, Time = 2.648799180984497 seconds\n",
      "Process 2 calculated: Pi = 2.799255131066239, Time = 2.6804044246673584 seconds\n",
      "Process 3 calculated: Pi = -2.5606316774894724, Time = 2.7119908332824707 seconds\n",
      "Process 13 calculated: Pi = -2.064566837527382, Time = 2.957490921020508 seconds\n",
      "Process 5 calculated: Pi = -2.334733085800057, Time = 3.46201753616333 seconds\n",
      "Process 10 calculated: Pi = 2.1248310598041242, Time = 3.718217134475708 seconds\n",
      "Process 1 calculated: Pi = -3.343438528087643, Time = 3.7381417751312256 seconds\n",
      "Process 9 calculated: Pi = -2.1514542620738304, Time = 3.7782135009765625 seconds\n",
      "Process 8 calculated: Pi = 2.1831425099178574, Time = 3.7782235145568848 seconds\n",
      "Process 4 calculated: Pi = 2.4242898780367725, Time = 3.769716739654541 seconds\n",
      "Process 12 calculated: Pi = 2.0821264731939486, Time = 3.782113790512085 seconds\n",
      "Process 0 calculated: Pi = 6.021880654414, Time = 3.7436184883117676 seconds\n",
      "Process 1 received: Pi = -3.343438528087643, Time = 3.7381417751312256 seconds\n",
      "Process 2 received: Pi = 2.799255131066239, Time = 2.6804044246673584 seconds\n",
      "Process 3 received: Pi = -2.5606316774894724, Time = 2.7119908332824707 seconds\n",
      "Process 4 received: Pi = 2.4242898780367725, Time = 3.769716739654541 seconds\n",
      "Process 5 received: Pi = -2.334733085800057, Time = 3.46201753616333 seconds\n",
      "Process 6 received: Pi = 2.2705782224129933, Time = 2.5746617317199707 seconds\n",
      "Process 7 received: Pi = -2.221819992321798, Time = 2.648799180984497 seconds\n",
      "Process 8 received: Pi = 2.1831425099178574, Time = 3.7782235145568848 seconds\n",
      "Process 9 received: Pi = -2.1514542620738304, Time = 3.7782135009765625 seconds\n",
      "Process 10 received: Pi = 2.1248310598041242, Time = 3.718217134475708 seconds\n",
      "Process 11 received: Pi = -2.102010079259159, Time = 2.591703176498413 seconds\n",
      "Process 12 received: Pi = 2.0821264731939486, Time = 3.782113790512085 seconds\n",
      "Process 13 received: Pi = -2.064566837527382, Time = 2.957490921020508 seconds\n",
      "Process 14 received: Pi = 2.048883162920837, Time = 2.5267527103424072 seconds\n",
      "Process 15 received: Pi = -2.0347399856201327, Time = 2.499709367752075 seconds\n",
      "Number of processes: 16\n",
      "Estimated Pi: 3.141592643587298\n",
      "Execution time: 3.7876338958740234 seconds\n"
     ]
    }
   ],
   "source": [
    "!mpiexec -n 16 python Calculate_Pi_value.py"
   ]
  },
  {
   "cell_type": "code",
   "execution_count": 11,
   "id": "2094fb65",
   "metadata": {},
   "outputs": [],
   "source": [
    "num_processes = [1,2, 4, 8, 16]\n",
    "execution_times = [ 16.853801012039185, 7.084234952926636, 4.198212623596191, 5.6487884521484375, 3.7876338958740234]"
   ]
  },
  {
   "cell_type": "code",
   "execution_count": 12,
   "id": "dea019e7",
   "metadata": {},
   "outputs": [
    {
     "data": {
      "image/png": "[encoded data removed]",
      "text/plain": [
       "<Figure size 800x500 with 1 Axes>"
      ]
     },
     "metadata": {},
     "output_type": "display_data"
    }
   ],
   "source": [
    "plt.figure(figsize=(8, 5))\n",
    "plt.plot(num_processes, execution_times, marker='o', color='blue')\n",
    "plt.title('Execution Time vs Number of Processes')\n",
    "plt.xlabel('Number of Processes')\n",
    "plt.ylabel('Execution Time (seconds)')\n",
    "plt.grid(True)\n",
    "plt.show()"
   ]
  }
 ],
 "metadata": {
  "kernelspec": {
   "display_name": "Python 3 (ipykernel)",
   "language": "python",
   "name": "python3"
  },
  "language_info": {
   "codemirror_mode": {
    "name": "ipython",
    "version": 3
   },
   "file_extension": ".py",
   "mimetype": "text/x-python",
   "name": "python",
   "nbconvert_exporter": "python",
   "pygments_lexer": "ipython3",
   "version": "3.11.5"
  }
 },
 "nbformat": 4,
 "nbformat_minor": 5
}
