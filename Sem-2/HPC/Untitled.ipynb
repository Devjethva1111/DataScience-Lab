{
 "cells": [
  {
   "cell_type": "code",
   "execution_count": 1,
   "id": "f511b0ff",
   "metadata": {},
   "outputs": [
    {
     "name": "stdout",
     "output_type": "stream",
     "text": [
      "[114, 160, 60, 27]\n",
      "[74, 97, 73, 14]\n",
      "[119, 157, 112, 23]\n"
     ]
    }
   ],
   "source": [
    "# Program to multiply two matrices using nested loops\n",
    "\n",
    "# 3x3 matrix\n",
    "X = [[12,7,3],\n",
    "    [4 ,5,6],\n",
    "    [7 ,8,9]]\n",
    "# 3x4 matrix\n",
    "Y = [[5,8,1,2],\n",
    "    [6,7,3,0],\n",
    "    [4,5,9,1]]\n",
    "# result is 3x4\n",
    "result = [[0,0,0,0],\n",
    "         [0,0,0,0],\n",
    "         [0,0,0,0]]\n",
    "\n",
    "# iterate through rows of X\n",
    "for i in range(len(X)):\n",
    "   # iterate through columns of Y\n",
    "   for j in range(len(Y[0])):\n",
    "       # iterate through rows of Y\n",
    "       for k in range(len(Y)):\n",
    "           result[i][j] += X[i][k] * Y[k][j]\n",
    "\n",
    "for r in result:\n",
    "   print(r)"
   ]
  },
  {
   "cell_type": "code",
   "execution_count": 2,
   "id": "0ce5036e",
   "metadata": {},
   "outputs": [
    {
     "name": "stdout",
     "output_type": "stream",
     "text": [
      "[[114 160  60  27]\n",
      " [ 74  97  73  14]\n",
      " [119 157 112  23]]\n"
     ]
    }
   ],
   "source": [
    "import numpy as np\n",
    "\n",
    "# 3x3 matrix\n",
    "X = [[12,7,3],\n",
    "    [4 ,5,6],\n",
    "    [7 ,8,9]]\n",
    "\n",
    "# 3x4 matrix\n",
    "Y = [[5,8,1,2],\n",
    "    [6,7,3,0],\n",
    "    [4,5,9,1]]\n",
    "\n",
    "# result is 3x4\n",
    "result = np.dot(X,Y)\n",
    "\n",
    "print(result)"
   ]
  },
  {
   "cell_type": "code",
   "execution_count": 1,
   "id": "600fa8e8",
   "metadata": {},
   "outputs": [
    {
     "name": "stdout",
     "output_type": "stream",
     "text": [
      "Matrix Size: (5, 5), Threads: 2\n",
      "Sequential Time: 0.32923650741577148438 seconds\n",
      "Parallel Time: 0.00000000000000000000 seconds\n",
      "==============================\n",
      "Matrix Size: (5, 5), Threads: 4\n",
      "Sequential Time: 0.32923650741577148438 seconds\n",
      "Parallel Time: 0.01562833786010742188 seconds\n",
      "==============================\n",
      "Matrix Size: (5, 5), Threads: 8\n",
      "Sequential Time: 0.32923650741577148438 seconds\n",
      "Parallel Time: 0.00000000000000000000 seconds\n",
      "==============================\n",
      "Matrix Size: (50, 50), Threads: 2\n",
      "Sequential Time: 0.00000000000000000000 seconds\n",
      "Parallel Time: 0.00000000000000000000 seconds\n",
      "==============================\n",
      "Matrix Size: (50, 50), Threads: 4\n",
      "Sequential Time: 0.00000000000000000000 seconds\n",
      "Parallel Time: 0.01561713218688964844 seconds\n",
      "==============================\n",
      "Matrix Size: (50, 50), Threads: 8\n",
      "Sequential Time: 0.00000000000000000000 seconds\n",
      "Parallel Time: 0.00000000000000000000 seconds\n",
      "==============================\n",
      "Matrix Size: (100, 100), Threads: 2\n",
      "Sequential Time: 0.01562356948852539062 seconds\n",
      "Parallel Time: 0.01668787002563476562 seconds\n",
      "==============================\n",
      "Matrix Size: (100, 100), Threads: 4\n",
      "Sequential Time: 0.01562356948852539062 seconds\n",
      "Parallel Time: 0.00000000000000000000 seconds\n",
      "==============================\n",
      "Matrix Size: (100, 100), Threads: 8\n",
      "Sequential Time: 0.01562356948852539062 seconds\n",
      "Parallel Time: 0.00000000000000000000 seconds\n",
      "==============================\n",
      "Matrix Size: (1000, 1000), Threads: 2\n",
      "Sequential Time: 0.03114652633666992188 seconds\n",
      "Parallel Time: 0.03774857521057128906 seconds\n",
      "==============================\n",
      "Matrix Size: (1000, 1000), Threads: 4\n",
      "Sequential Time: 0.03114652633666992188 seconds\n",
      "Parallel Time: 0.02515459060668945312 seconds\n",
      "==============================\n",
      "Matrix Size: (1000, 1000), Threads: 8\n",
      "Sequential Time: 0.03114652633666992188 seconds\n",
      "Parallel Time: 0.01560854911804199219 seconds\n",
      "==============================\n"
     ]
    }
   ],
   "source": [
    "import time\n",
    "import numpy as np\n",
    "import concurrent.futures\n",
    "\n",
    "def sequential_matrix_multiply(matrix_a, matrix_b):\n",
    "    return np.dot(matrix_a, matrix_b)\n",
    "\n",
    "def parallel_matrix_multiply(matrix_a, matrix_b, num_threads):\n",
    "    with concurrent.futures.ThreadPoolExecutor(max_workers=num_threads) as executor:\n",
    "        result = np.zeros_like(matrix_a)\n",
    "        chunk_size = len(matrix_a) // num_threads\n",
    "        futures = []\n",
    "\n",
    "        for i in range(num_threads):\n",
    "            start_idx = i * chunk_size\n",
    "            end_idx = start_idx + chunk_size\n",
    "            futures.append(executor.submit(np.dot, matrix_a[start_idx:end_idx], matrix_b, out=result[start_idx:end_idx]))\n",
    "\n",
    "        concurrent.futures.wait(futures)\n",
    "\n",
    "    return result\n",
    "\n",
    "matrix_sizes = [(5, 5), (50, 50), (100, 100), (1000, 1000)]\n",
    "\n",
    "for matrix_size in matrix_sizes:\n",
    "    rows, cols = matrix_size\n",
    "    matrix_a = np.random.rand(rows, cols)\n",
    "    matrix_b = np.random.rand(cols, rows)\n",
    "\n",
    "    # Sequential multiplication\n",
    "    start_time = time.time()\n",
    "    result_seq = sequential_matrix_multiply(matrix_a, matrix_b)\n",
    "    sequential_time = time.time() - start_time\n",
    "\n",
    "    # Parallel multiplication with different numbers of threads\n",
    "    for num_threads in [2, 4, 8]:\n",
    "        start_time = time.time()\n",
    "        result_parallel = parallel_matrix_multiply(matrix_a, matrix_b, num_threads)\n",
    "        parallel_time = time.time() - start_time\n",
    "\n",
    "        print(f\"Matrix Size: {matrix_size}, Threads: {num_threads}\")\n",
    "        print(f\"Sequential Time: {sequential_time:.20f} seconds\")\n",
    "        print(f\"Parallel Time: {parallel_time:.20f} seconds\")\n",
    "#         print(f\"Sequential Time: {sequential_time} seconds\")\n",
    "#         print(f\"Parallel Time: {parallel_time} seconds\")\n",
    "        print(\"=\" * 30)"
   ]
  },
  {
   "cell_type": "code",
   "execution_count": null,
   "id": "4773c24e",
   "metadata": {},
   "outputs": [],
   "source": []
  }
 ],
 "metadata": {
  "kernelspec": {
   "display_name": "Python 3 (ipykernel)",
   "language": "python",
   "name": "python3"
  },
  "language_info": {
   "codemirror_mode": {
    "name": "ipython",
    "version": 3
   },
   "file_extension": ".py",
   "mimetype": "text/x-python",
   "name": "python",
   "nbconvert_exporter": "python",
   "pygments_lexer": "ipython3",
   "version": "3.11.1"
  },
  "nbTranslate": {
   "displayLangs": [
    "*"
   ],
   "hotkey": "alt-t",
   "langInMainMenu": true,
   "sourceLang": "en",
   "targetLang": "fr",
   "useGoogleTranslate": true
  },
  "toc": {
   "base_numbering": 1,
   "nav_menu": {},
   "number_sections": true,
   "sideBar": true,
   "skip_h1_title": false,
   "title_cell": "Table of Contents",
   "title_sidebar": "Contents",
   "toc_cell": false,
   "toc_position": {},
   "toc_section_display": true,
   "toc_window_display": false
  },
  "varInspector": {
   "cols": {
    "lenName": 16,
    "lenType": 16,
    "lenVar": 40
   },
   "kernels_config": {
    "python": {
     "delete_cmd_postfix": "",
     "delete_cmd_prefix": "del ",
     "library": "var_list.py",
     "varRefreshCmd": "print(var_dic_list())"
    },
    "r": {
     "delete_cmd_postfix": ") ",
     "delete_cmd_prefix": "rm(",
     "library": "var_list.r",
     "varRefreshCmd": "cat(var_dic_list()) "
    }
   },
   "types_to_exclude": [
    "module",
    "function",
    "builtin_function_or_method",
    "instance",
    "_Feature"
   ],
   "window_display": false
  }
 },
 "nbformat": 4,
 "nbformat_minor": 5
}
