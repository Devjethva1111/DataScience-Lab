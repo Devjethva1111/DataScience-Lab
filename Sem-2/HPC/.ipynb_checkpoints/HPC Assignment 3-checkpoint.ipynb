{
 "cells": [
  {
   "cell_type": "markdown",
   "id": "fee79414",
   "metadata": {},
   "source": [
    "# Assignment 3"
   ]
  },
  {
   "cell_type": "markdown",
   "id": "b6108067",
   "metadata": {},
   "source": [
    "1. Implement Producer-Consumer problem (PCP). Analyze the significance of semaphore, mutex,\n",
    "bounded buffer, producer thread, consumer thread using the code available on Producer-\n",
    "Consumer Problem in Python - AskPython.\n",
    "(a) Write a brief about the problem and solution.\n",
    "(b) Code and Output\n",
    "2. Demonstrate how PCP occurs for a application of your choice."
   ]
  },
  {
   "cell_type": "markdown",
   "id": "04517faf",
   "metadata": {},
   "source": [
    "Ans >"
   ]
  },
  {
   "cell_type": "markdown",
   "id": "ac277447",
   "metadata": {},
   "source": [
    "The producer-consumer problem is a synchronization challenge in the field of operating systems, particularly in scenarios involving concurrent programming and multi-threading. It revolves around two types of processes:\n",
    "\n",
    "* Producers: These processes are responsible for generating data or items and placing them in a shared buffer.\n",
    "* Consumers: These processes retrieve and consume items from the buffer.\n"
   ]
  },
  {
   "cell_type": "markdown",
   "id": "c05662ce",
   "metadata": {},
   "source": [
    "--------------------------------------"
   ]
  },
  {
   "cell_type": "markdown",
   "id": "834ccd99",
   "metadata": {},
   "source": [
    "The primary goal is to ensure the following conditions are met:\n",
    "\n",
    "* Producers should refrain from producing items if the buffer is full.\n",
    "* Consumers should avoid consuming items if the buffer is empty.\n",
    "* The central objective is to maintain synchronization between producers and consumers to prevent issues such as data corruption, race conditions, and deadlocks.\n"
   ]
  },
  {
   "cell_type": "markdown",
   "id": "a320f4d6",
   "metadata": {},
   "source": [
    "--------------------------------------------"
   ]
  },
  {
   "cell_type": "markdown",
   "id": "a89ad277",
   "metadata": {},
   "source": [
    "Solution Approach:"
   ]
  },
  {
   "cell_type": "markdown",
   "id": "9b65afa2",
   "metadata": {
    "hide_input": false
   },
   "source": [
    "* Shared Buffer:\n",
    "    * A fixed-size buffer is utilized, acting as a common storage space for both producers and consumers.\n",
    "\n",
    "* Semaphore for Empty Slots (empty):\n",
    "    * Initialized to the size of the buffer.Represents the count of empty slots in the buffer. Decreases by producers when they add an item. Decreases by consumers when they remove an item.\n",
    "\n",
    "* Semaphore for Full Slots (full):\n",
    "    * Initialized to 0. Represents the count of filled slots in the buffer. Increased by producers when they add an item.\n",
    "Decreases by consumers when they remove an item. \n",
    "\n",
    "* Illustration with a Different Example:\n",
    "    * Let's consider a scenario in a restaurant where there are chefs (producers) preparing dishes and waiters (consumers) serving these dishes to customers. The shared buffer is the kitchen counter where dishes are temporarily placed before being served.\n"
   ]
  },
  {
   "cell_type": "markdown",
   "id": "52ed7a09",
   "metadata": {},
   "source": [
    "-----------------------------------"
   ]
  },
  {
   "cell_type": "markdown",
   "id": "d12aa8ff",
   "metadata": {},
   "source": [
    "* Shared Buffer (Kitchen Counter):\n",
    "    * Represents the kitchen counter where the prepared dishes are temporarily stored.\n",
    "\n",
    "* Semaphore for Empty Serving Plates (empty):\n",
    "    * Initialized to the maximum capacity of the counter. Indicates the count of empty serving plates on the kitchen counter. Decreases as chefs place prepared dishes on empty plates. Decreases as waiters take dishes from the counter to serve customers.\n",
    "\n",
    "* Semaphore for Full Serving Plates (full):\n",
    "    * Initialized to 0. Represents the count of plates with prepared dishes on the counter. Increases as chefs place dishes on empty plates. Decreases as waiters take dishes from the counter to serve customers.\n",
    "\n",
    "* In this analogy, the restaurant ensures that chefs don't prepare more dishes if there are no empty plates, and waiters don't serve if there are no prepared dishes on the counter, effectively managing the flow of food production and service."
   ]
  },
  {
   "cell_type": "code",
   "execution_count": 1,
   "id": "62a24322",
   "metadata": {},
   "outputs": [],
   "source": [
    "import numpy as np\n",
    "import pandas as pd\n",
    "import matplotlib.pyplot as plt\n"
   ]
  },
  {
   "cell_type": "code",
   "execution_count": 2,
   "id": "2af3f4c1",
   "metadata": {},
   "outputs": [],
   "source": [
    "import threading\n",
    "import time\n"
   ]
  },
  {
   "cell_type": "code",
   "execution_count": 3,
   "id": "c6989551",
   "metadata": {},
   "outputs": [],
   "source": [
    "# Shared Memory variables\n",
    "CAPACITY = 10\n",
    "buffer = [-1 for i in range(CAPACITY)]\n",
    "in_index = 0\n",
    "out_index = 0"
   ]
  },
  {
   "cell_type": "code",
   "execution_count": 4,
   "id": "6de91798",
   "metadata": {},
   "outputs": [],
   "source": [
    "# Declaring Semaphores\n",
    "mutex = threading.Semaphore()\n",
    "empty = threading.Semaphore(CAPACITY)\n",
    "full = threading.Semaphore(0)"
   ]
  },
  {
   "cell_type": "code",
   "execution_count": 5,
   "id": "ec814567",
   "metadata": {},
   "outputs": [],
   "source": [
    "# Producer Thread Class\n",
    "class Producer(threading.Thread):\n",
    " def run(self):\n",
    "  global CAPACITY, buffer, in_index, out_index\n",
    "  global mutex, empty, full\n",
    "  items_produced = 0\n",
    "  counter = 0\n",
    "  while items_produced < 20:\n",
    "   empty.acquire()\n",
    "   mutex.acquire()\n",
    "   counter += 1\n",
    "   buffer[in_index] = counter\n",
    "   in_index = (in_index + 1)%CAPACITY\n",
    "   print(\"Producer produced : \", counter)\n",
    "   mutex.release()\n",
    "   full.release()\n",
    "   time.sleep(0)\n",
    "   items_produced += 1\n"
   ]
  },
  {
   "cell_type": "code",
   "execution_count": 6,
   "id": "32eabdce",
   "metadata": {},
   "outputs": [],
   "source": [
    "# Consumer Thread Class\n",
    "class Consumer(threading.Thread):\n",
    " def run(self):\n",
    "  global CAPACITY, buffer, in_index, out_index, counter\n",
    "  global mutex, empty, full\n",
    "  items_consumed = 0\n",
    "  while items_consumed < 20:\n",
    "   full.acquire()\n",
    "   mutex.acquire()\n",
    "   item = buffer[out_index]\n",
    "   out_index = (out_index + 1)%CAPACITY\n",
    "   print(\"Consumer consumed item : \", item)\n",
    "   mutex.release()\n",
    "   empty.release()\n",
    "   time.sleep(0.5)\n",
    "   items_consumed += 1"
   ]
  },
  {
   "cell_type": "code",
   "execution_count": 7,
   "id": "720bafbc",
   "metadata": {},
   "outputs": [
    {
     "name": "stdout",
     "output_type": "stream",
     "text": [
      "Producer produced :  1\n",
      "Producer produced :  2\n",
      "Producer produced :  3\n",
      "Producer produced :  4\n",
      "Producer produced :  5\n",
      "Producer produced :  6\n",
      "Consumer consumed item :  1\n",
      "Producer produced :  7\n",
      "Producer produced :  8\n",
      "Producer produced :  9\n",
      "Producer produced :  10\n",
      "Producer produced :  11\n",
      "Consumer consumed item :  2\n",
      "Producer produced :  12\n",
      "Consumer consumed item :  3\n",
      "Producer produced :  13\n",
      "Consumer consumed item :  4\n",
      "Producer produced :  14\n",
      "Consumer consumed item :  5\n",
      "Producer produced :  15\n",
      "Consumer consumed item :  6\n",
      "Producer produced :  16\n",
      "Consumer consumed item :  7\n",
      "Producer produced :  17\n",
      "Consumer consumed item :  8\n",
      "Producer produced :  18\n",
      "Consumer consumed item :  9\n",
      "Producer produced :  19\n",
      "Consumer consumed item :  10\n",
      "Producer produced :  20\n",
      "Consumer consumed item :  11\n",
      "Consumer consumed item :  12\n",
      "Consumer consumed item :  13\n",
      "Consumer consumed item :  14\n",
      "Consumer consumed item :  15\n",
      "Consumer consumed item :  16\n",
      "Consumer consumed item :  17\n",
      "Consumer consumed item :  18\n",
      "Consumer consumed item :  19\n",
      "Consumer consumed item :  20\n"
     ]
    }
   ],
   "source": [
    "producer = Producer()\n",
    "consumer = Consumer()\n",
    "consumer.start()\n",
    "producer.start()\n",
    "producer.join()\n",
    "consumer.join()"
   ]
  },
  {
   "cell_type": "code",
   "execution_count": 8,
   "id": "aba2bcfc",
   "metadata": {},
   "outputs": [],
   "source": [
    "import time"
   ]
  },
  {
   "cell_type": "code",
   "execution_count": 9,
   "id": "3b94e32d",
   "metadata": {},
   "outputs": [],
   "source": [
    "CAPACITY = 10\n",
    "buffer = [-1 for i in range(CAPACITY)]\n",
    "in_index = 0\n",
    "out_index = 0"
   ]
  },
  {
   "cell_type": "code",
   "execution_count": 10,
   "id": "a85f6db5",
   "metadata": {},
   "outputs": [],
   "source": [
    "mutex = threading.Semaphore()\n",
    "empty = threading.Semaphore(CAPACITY)\n",
    "full = threading.Semaphore(0)\n"
   ]
  },
  {
   "cell_type": "code",
   "execution_count": 11,
   "id": "5c23b8b5",
   "metadata": {},
   "outputs": [],
   "source": [
    "class Producer(threading.Thread):\n",
    " def run(self):\n",
    "  global CAPACITY, buffer, in_index\n",
    "  global mutex, empty, full\n",
    "  for counter in range(1, 21):\n",
    "   empty.acquire()\n",
    "   mutex.acquire()\n",
    "   buffer[in_index] = counter\n",
    "   in_index = (in_index + 1) % CAPACITY\n",
    "   print(\"Producer produced:\", counter)\n",
    "   mutex.release()\n",
    "   full.release()\n",
    "   time.sleep(0)\n"
   ]
  },
  {
   "cell_type": "code",
   "execution_count": 12,
   "id": "b046b859",
   "metadata": {},
   "outputs": [],
   "source": [
    "class Consumer(threading.Thread):\n",
    " def run(self):\n",
    "  global CAPACITY, buffer, out_index\n",
    "  global mutex, empty, full\n",
    "  for _ in range(20):\n",
    "   full.acquire()\n",
    "   mutex.acquire()\n",
    "   item = buffer[out_index]\n",
    "   out_index = (out_index + 1) % CAPACITY\n",
    "   print(\"Consumer consumed item:\", item)\n",
    "   mutex.release()\n",
    "   empty.release()\n",
    "   time.sleep(0.5)"
   ]
  },
  {
   "cell_type": "code",
   "execution_count": 13,
   "id": "b09a4c59",
   "metadata": {},
   "outputs": [
    {
     "name": "stdout",
     "output_type": "stream",
     "text": [
      "Producer produced: 1\n",
      "Producer produced: 2\n",
      "Producer produced: 3\n",
      "Producer produced: 4\n",
      "Producer produced: 5\n",
      "Producer produced: 6\n",
      "Producer produced: 7\n",
      "Consumer consumed item: 1\n",
      "Producer produced: 8\n",
      "Producer produced: 9\n",
      "Producer produced: 10\n",
      "Producer produced: 11\n",
      "Consumer consumed item: 2\n",
      "Producer produced: 12\n",
      "Consumer consumed item: 3\n",
      "Producer produced: 13\n",
      "Consumer consumed item: 4\n",
      "Producer produced: 14\n",
      "Consumer consumed item: 5\n",
      "Producer produced: 15\n",
      "Consumer consumed item: 6\n",
      "Producer produced: 16\n",
      "Consumer consumed item: 7\n",
      "Producer produced: 17\n",
      "Consumer consumed item: 8\n",
      "Producer produced: 18\n",
      "Consumer consumed item: 9\n",
      "Producer produced: 19\n",
      "Consumer consumed item: 10\n",
      "Producer produced: 20\n",
      "Consumer consumed item: 11\n",
      "Consumer consumed item: 12\n",
      "Consumer consumed item: 13\n",
      "Consumer consumed item: 14\n",
      "Consumer consumed item: 15\n",
      "Consumer consumed item: 16\n",
      "Consumer consumed item: 17\n",
      "Consumer consumed item: 18\n",
      "Consumer consumed item: 19\n",
      "Consumer consumed item: 20\n"
     ]
    }
   ],
   "source": [
    "producer = Producer()\n",
    "consumer = Consumer()\n",
    "consumer.start()\n",
    "producer.start()\n",
    "producer.join()\n",
    "consumer.join()"
   ]
  },
  {
   "cell_type": "code",
   "execution_count": 14,
   "id": "88ceaf50",
   "metadata": {},
   "outputs": [],
   "source": [
    "import queue\n",
    "import random"
   ]
  },
  {
   "cell_type": "code",
   "execution_count": 15,
   "id": "2633913e",
   "metadata": {},
   "outputs": [],
   "source": [
    "MAX_QUEUE_SIZE = 5\n",
    "event_queue = queue.Queue(MAX_QUEUE_SIZE)\n",
    "mutex = threading.Lock()\n",
    "empty = threading.Semaphore(MAX_QUEUE_SIZE)\n",
    "full = threading.Semaphore(0)"
   ]
  },
  {
   "cell_type": "code",
   "execution_count": 16,
   "id": "f693d2b8",
   "metadata": {},
   "outputs": [],
   "source": [
    "class UserClickProducer(threading.Thread):\n",
    " def run(self):\n",
    "  global MAX_QUEUE_SIZE, event_queue\n",
    "  global mutex, empty, full\n",
    "  for _ in range(10):\n",
    "   print(\"User clicked\")\n",
    "   empty.acquire()\n",
    "   mutex.acquire()\n",
    "   event_queue.put(\"Click\")\n",
    "   mutex.release()\n",
    "   full.release()\n",
    "   time.sleep(random.uniform(0.1, 0.5))\n"
   ]
  },
  {
   "cell_type": "code",
   "execution_count": 20,
   "id": "d9b27b93",
   "metadata": {},
   "outputs": [],
   "source": [
    "class EventHandlerConsumer(threading.Thread):\n",
    " def run(self):\n",
    "  global MAX_QUEUE_SIZE, event_queue\n",
    "  global mutex, empty, full\n",
    "  for _ in range(10):\n",
    "   full.acquire()\n",
    "   mutex.acquire()\n",
    "   event = event_queue.get()\n",
    "   print(f\"Handling event: {event}\")\n",
    "   mutex.release()\n",
    "   empty.release()\n",
    "   time.sleep(random.uniform(0.1, 0.5))\n"
   ]
  },
  {
   "cell_type": "code",
   "execution_count": 21,
   "id": "0306872b",
   "metadata": {},
   "outputs": [
    {
     "name": "stdout",
     "output_type": "stream",
     "text": [
      "User clicked\n",
      "Handling event: Click\n",
      "User clicked\n",
      "Handling event: Click\n",
      "User clicked\n",
      "User clicked\n",
      "User clicked\n",
      "Handling event: Click\n",
      "Handling event: Click\n",
      "User clicked\n",
      "User clicked\n",
      "Handling event: Click\n",
      "User clicked\n",
      "User clicked\n",
      "Handling event: Click\n",
      "User clicked\n",
      "Handling event: Click\n",
      "Handling event: Click\n",
      "Handling event: Click\n",
      "Handling event: Click\n"
     ]
    }
   ],
   "source": [
    "user_click_producer = UserClickProducer()\n",
    "event_handler_consumer = EventHandlerConsumer()\n",
    "user_click_producer.start()\n",
    "event_handler_consumer.start()\n",
    "user_click_producer.join()\n",
    "event_handler_consumer.join()\n"
   ]
  },
  {
   "cell_type": "code",
   "execution_count": null,
   "id": "f852e288",
   "metadata": {},
   "outputs": [],
   "source": [
    "import queue\n",
    "import random"
   ]
  },
  {
   "cell_type": "markdown",
   "id": "770aa2ea",
   "metadata": {},
   "source": [
    "Example"
   ]
  },
  {
   "cell_type": "markdown",
   "id": "e7883c64",
   "metadata": {},
   "source": [
    "* Event Handling in GUI:\n",
    "    * Producers: User input events (clicks, keystrokes).\n",
    "    * Consumers: Event handlers or listeners.\n",
    "    * Buffer: Event queue."
   ]
  },
  {
   "cell_type": "code",
   "execution_count": 24,
   "id": "2ab304f5",
   "metadata": {},
   "outputs": [],
   "source": [
    "MAX_QUEUE_SIZE = 5\n",
    "event_queue = queue.Queue(MAX_QUEUE_SIZE)\n",
    "mutex = threading.Lock()\n",
    "empty = threading.Semaphore(MAX_QUEUE_SIZE)\n",
    "full = threading.Semaphore(0)"
   ]
  },
  {
   "cell_type": "code",
   "execution_count": 26,
   "id": "fe785661",
   "metadata": {},
   "outputs": [],
   "source": [
    "class UserClickProducer(threading.Thread):\n",
    "    def run(self):\n",
    "        global MAX_QUEUE_SIZE, event_queue\n",
    "        global mutex, empty, full\n",
    "        for _ in range(10):\n",
    "            print(\"User clicked\")\n",
    "empty.acquire()\n",
    "mutex.acquire()\n",
    "event_queue.put(\"Click\")\n",
    "mutex.release()\n",
    "full.release()\n",
    "time.sleep(random.uniform(0.1, 0.5))"
   ]
  },
  {
   "cell_type": "code",
   "execution_count": 28,
   "id": "2d22e893",
   "metadata": {},
   "outputs": [],
   "source": [
    "class EventHandlerConsumer(threading.Thread):\n",
    "    def run(self):\n",
    "        global MAX_QUEUE_SIZE, event_queue\n",
    "        global mutex, empty, full\n",
    "        for _ in range(10):\n",
    "            full.acquire()\n",
    "            mutex.acquire()\n",
    "            event = event_queue.get()\n",
    "            print(f\"Handling event: {event}\")\n",
    "            mutex.release()\n",
    "            empty.release()\n",
    "            time.sleep(random.uniform(0.1, 0.5))"
   ]
  },
  {
   "cell_type": "code",
   "execution_count": null,
   "id": "3dd721b2",
   "metadata": {},
   "outputs": [],
   "source": []
  }
 ],
 "metadata": {
  "kernelspec": {
   "display_name": "Python 3 (ipykernel)",
   "language": "python",
   "name": "python3"
  },
  "language_info": {
   "codemirror_mode": {
    "name": "ipython",
    "version": 3
   },
   "file_extension": ".py",
   "mimetype": "text/x-python",
   "name": "python",
   "nbconvert_exporter": "python",
   "pygments_lexer": "ipython3",
   "version": "3.11.1"
  },
  "nbTranslate": {
   "displayLangs": [
    "*"
   ],
   "hotkey": "alt-t",
   "langInMainMenu": true,
   "sourceLang": "en",
   "targetLang": "fr",
   "useGoogleTranslate": true
  },
  "toc": {
   "base_numbering": 1,
   "nav_menu": {},
   "number_sections": true,
   "sideBar": true,
   "skip_h1_title": false,
   "title_cell": "Table of Contents",
   "title_sidebar": "Contents",
   "toc_cell": false,
   "toc_position": {},
   "toc_section_display": true,
   "toc_window_display": false
  },
  "varInspector": {
   "cols": {
    "lenName": 16,
    "lenType": 16,
    "lenVar": 40
   },
   "kernels_config": {
    "python": {
     "delete_cmd_postfix": "",
     "delete_cmd_prefix": "del ",
     "library": "var_list.py",
     "varRefreshCmd": "print(var_dic_list())"
    },
    "r": {
     "delete_cmd_postfix": ") ",
     "delete_cmd_prefix": "rm(",
     "library": "var_list.r",
     "varRefreshCmd": "cat(var_dic_list()) "
    }
   },
   "types_to_exclude": [
    "module",
    "function",
    "builtin_function_or_method",
    "instance",
    "_Feature"
   ],
   "window_display": false
  }
 },
 "nbformat": 4,
 "nbformat_minor": 5
}
