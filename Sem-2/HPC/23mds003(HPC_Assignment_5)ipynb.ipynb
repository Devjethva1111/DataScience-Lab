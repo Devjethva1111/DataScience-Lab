{
  "nbformat": 4,
  "nbformat_minor": 0,
  "metadata": {
    "colab": {
      "provenance": []
    },
    "kernelspec": {
      "name": "python3",
      "display_name": "Python 3"
    },
    "language_info": {
      "name": "python"
    }
  },
  "cells": [
    {
      "cell_type": "markdown",
      "source": [
        "**Assignment 5**"
      ],
      "metadata": {
        "id": "BR9Byx-itcTF"
      }
    },
    {
      "cell_type": "markdown",
      "source": [
        "**Consider a scenario where a person visits a supermarket for shopping. S/He purchases various items in different sections such as clothing, grocery, utensils. Write an OpenMP program to process the bill parallelly in each section and display the final amount to be paid by the customer.Analyze the time take by sequential and parallel processing.**"
      ],
      "metadata": {
        "id": "NhJ7ao1XthT1"
      }
    },
    {
      "cell_type": "code",
      "execution_count": null,
      "metadata": {
        "id": "UIeHPnNutS7h"
      },
      "outputs": [],
      "source": [
        "import numpy as np\n",
        "import pandas as pd\n",
        "import matplotlib.pyplot as plt\n",
        "import seaborn as sns"
      ]
    },
    {
      "cell_type": "code",
      "source": [
        "import threading\n",
        "import time\n",
        "import matplotlib.pyplot as plt\n",
        "\n",
        "class ProcessingThread(threading.Thread):\n",
        "    def __init__(self, processing_function, num_items):\n",
        "        super().__init__()\n",
        "        self.processing_function = processing_function\n",
        "        self.num_items = num_items\n",
        "        self.results = []\n",
        "\n",
        "    def run(self):\n",
        "        for _ in range(self.num_items):\n",
        "            result = self.processing_function()\n",
        "            self.results.append(result)\n",
        "\n",
        "# Function to process bill in the clothing section\n",
        "def process_clothing():\n",
        "    print(\"Processing clothing item...\")\n",
        "    time.sleep(0.2)  # Simulating processing time\n",
        "    return 22  # Cost of each clothing item\n",
        "\n",
        "# Function to process bill in the grocery section\n",
        "def process_grocery():\n",
        "    print(\"Processing grocery item...\")\n",
        "    time.sleep(0.2)  # Simulating processing time\n",
        "    return 10  # Cost of each grocery item\n",
        "\n",
        "# Function to process bill in the utensils section\n",
        "def process_utensils():\n",
        "    print(\"Processing utensils item...\")\n",
        "    time.sleep(0.2)  # Simulating processing time\n",
        "    return 5  # Cost of each utensils item\n",
        "\n",
        "if __name__ == \"__main__\":\n",
        "    # Sequential Processing\n",
        "    start_time = time.time()\n",
        "\n",
        "    clothing_cost = sum(process_clothing() for _ in range(7))\n",
        "    grocery_cost = sum(process_grocery() for _ in range(7))\n",
        "    utensils_cost = sum(process_utensils() for _ in range(7))\n",
        "\n",
        "    total_cost = clothing_cost + grocery_cost + utensils_cost\n",
        "    sequential_time = time.time() - start_time\n",
        "    print(f\"Total amount to be paid (Sequential): ${total_cost:.2f}\")\n",
        "    print(f\"Time taken (Sequential): {sequential_time:.2f} seconds\\n\")\n",
        "\n",
        "    # Parallel Processing\n",
        "    start_time = time.time()\n",
        "\n",
        "    # Create threads for parallel processing\n",
        "    num_items = 7\n",
        "    threads = [\n",
        "        ProcessingThread(process_clothing, num_items),\n",
        "        ProcessingThread(process_grocery, num_items),\n",
        "        ProcessingThread(process_utensils, num_items)\n",
        "    ]\n",
        "\n",
        "    # Start threads\n",
        "    for thread in threads:\n",
        "        thread.start()\n",
        "\n",
        "    # Wait for all threads to finish\n",
        "    for thread in threads:\n",
        "        thread.join()\n",
        "\n",
        "    # Calculate total cost\n",
        "    total_cost_parallel = sum(sum(thread.results) for thread in threads)\n",
        "    parallel_time = time.time() - start_time\n",
        "    print(f\"Total amount to be paid (Parallel): ${total_cost_parallel:.2f}\")\n",
        "    print(f\"Time taken (Parallel): {parallel_time:.2f} seconds\")\n",
        "\n",
        "    # Plotting\n",
        "    labels = ['Sequential', 'Parallel']\n",
        "    times = [sequential_time, parallel_time]\n",
        "\n",
        "    plt.bar(labels, times, color=['Red', 'Black'])\n",
        "    plt.ylabel('Time (seconds)')\n",
        "    plt.title('Sequential vs Parallel Processing Time Comparison')\n",
        "    plt.show()\n"
      ],
      "metadata": {
        "colab": {
          "base_uri": "https://localhost:8080/",
          "height": 1000
        },
        "id": "mow48YMptm1t",
        "outputId": "50fbec02-c59a-4d06-8d65-18c412be7ee6"
      },
      "execution_count": 4,
      "outputs": [
        {
          "output_type": "stream",
          "name": "stdout",
          "text": [
            "Processing clothing item...\n",
            "Processing clothing item...\n",
            "Processing clothing item...\n",
            "Processing clothing item...\n",
            "Processing clothing item...\n",
            "Processing clothing item...\n",
            "Processing clothing item...\n",
            "Processing grocery item...\n",
            "Processing grocery item...\n",
            "Processing grocery item...\n",
            "Processing grocery item...\n",
            "Processing grocery item...\n",
            "Processing grocery item...\n",
            "Processing grocery item...\n",
            "Processing utensils item...\n",
            "Processing utensils item...\n",
            "Processing utensils item...\n",
            "Processing utensils item...\n",
            "Processing utensils item...\n",
            "Processing utensils item...\n",
            "Processing utensils item...\n",
            "Total amount to be paid (Sequential): $259.00\n",
            "Time taken (Sequential): 4.21 seconds\n",
            "\n",
            "Processing clothing item...\n",
            "Processing grocery item...\n",
            "Processing utensils item...\n",
            "Processing clothing item...\n",
            "Processing grocery item...\n",
            "Processing utensils item...\n",
            "Processing clothing item...Processing grocery item...\n",
            "\n",
            "Processing utensils item...\n",
            "Processing grocery item...\n",
            "Processing clothing item...\n",
            "Processing utensils item...\n",
            "Processing grocery item...\n",
            "Processing clothing item...\n",
            "Processing utensils item...\n",
            "Processing grocery item...\n",
            "Processing clothing item...\n",
            "Processing utensils item...\n",
            "Processing grocery item...\n",
            "Processing clothing item...\n",
            "Processing utensils item...\n",
            "Total amount to be paid (Parallel): $259.00\n",
            "Time taken (Parallel): 1.41 seconds\n"
          ]
        },
        {
          "output_type": "display_data",
          "data": {
            "text/plain": [
              "<Figure size 640x480 with 1 Axes>"
            ],
            "image/png": "[encoded data removed]"
          },
          "metadata": {}
        }
      ]
    },
    {
      "cell_type": "markdown",
      "source": [
        "According to the graph, parallel processing takes less time than sequential processing since each process runs on a separate thread, but sequential processing takes nearly three times as long."
      ],
      "metadata": {
        "id": "9K3qTZyPt2iA"
      }
    },
    {
      "cell_type": "code",
      "source": [],
      "metadata": {
        "id": "Md3AIGQNtx9s"
      },
      "execution_count": null,
      "outputs": []
    }
  ]
}