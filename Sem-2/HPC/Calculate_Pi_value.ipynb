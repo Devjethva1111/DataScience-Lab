{
 "cells": [
  {
   "cell_type": "code",
   "execution_count": 10,
   "id": "14bb6f6f",
   "metadata": {},
   "outputs": [],
   "source": [
    "from mpi4py import MPI\n",
    "import random\n",
    "import time"
   ]
  },
  {
   "cell_type": "code",
   "execution_count": 13,
   "id": "23bf8b25",
   "metadata": {},
   "outputs": [
    {
     "name": "stdout",
     "output_type": "stream",
     "text": [
      "Process 0 calculated: Pi = 3.141592643589326, Time = 14.576971530914307 seconds\n",
      "Number of processes: 1\n",
      "Estimated Pi: 3.141592643589326\n",
      "Execution time: 14.576971530914307 seconds\n"
     ]
    }
   ],
   "source": [
    "def calculate_pi(rank, num_processes, terms):\n",
    "    partial_sum = 0.0\n",
    "    for i in range(rank, terms, num_processes):\n",
    "        if i % 2 == 0:\n",
    "            partial_sum += 1.0 / (2 * i + 1)\n",
    "        else:\n",
    "            partial_sum -= 1.0 / (2 * i + 1)\n",
    "    return partial_sum * 4\n",
    "\n",
    "if __name__ == \"__main__\":\n",
    "    comm = MPI.COMM_WORLD\n",
    "    rank = comm.Get_rank()\n",
    "    size = comm.Get_size()\n",
    "\n",
    "    terms = 100000000\n",
    "\n",
    "    start_time = time.time()\n",
    "\n",
    "    partial_pi = calculate_pi(rank, size, terms)\n",
    "    print(f\"Process {rank} calculated: Pi = {partial_pi}, Time = {time.time() - start_time} seconds\")\n",
    "\n",
    "    if rank == 0:\n",
    "        total_pi = partial_pi\n",
    "        for i in range(1, size):\n",
    "            partial_result, partial_time = comm.recv(source=i)\n",
    "            total_pi += partial_result\n",
    "            print(f\"Process {i} received: Pi = {partial_result}, Time = {partial_time} seconds\")\n",
    "\n",
    "        print(\"Number of processes:\", size)\n",
    "        print(\"Estimated Pi:\", total_pi)\n",
    "        print(\"Execution time:\", time.time() - start_time, \"seconds\")\n",
    "    else:\n",
    "        comm.send((partial_pi, time.time() - start_time), dest=0)"
   ]
  },
  {
   "cell_type": "code",
   "execution_count": null,
   "id": "d4326bc3",
   "metadata": {},
   "outputs": [],
   "source": []
  }
 ],
 "metadata": {
  "kernelspec": {
   "display_name": "Python 3 (ipykernel)",
   "language": "python",
   "name": "python3"
  },
  "language_info": {
   "codemirror_mode": {
    "name": "ipython",
    "version": 3
   },
   "file_extension": ".py",
   "mimetype": "text/x-python",
   "name": "python",
   "nbconvert_exporter": "python",
   "pygments_lexer": "ipython3",
   "version": "3.11.5"
  }
 },
 "nbformat": 4,
 "nbformat_minor": 5
}
