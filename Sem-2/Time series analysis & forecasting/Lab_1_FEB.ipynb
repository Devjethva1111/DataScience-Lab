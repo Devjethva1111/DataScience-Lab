{
 "cells": [
  {
   "cell_type": "code",
   "execution_count": 1,
   "id": "1c1271b2",
   "metadata": {},
   "outputs": [],
   "source": [
    "import pandas as pd\n",
    "import numpy as np\n",
    "import matplotlib.pyplot as plt\n",
    "import seaborn as sns\n",
    "import statsmodels.api as sm\n",
    "from sklearn.model_selection import train_test_split\n",
    "from sklearn.metrics import mean_squared_error\n",
    "from datetime import datetime"
   ]
  },
  {
   "cell_type": "code",
   "execution_count": 2,
   "id": "863bc534",
   "metadata": {},
   "outputs": [
    {
     "data": {
      "text/html": [
       "<div>\n",
       "<style scoped>\n",
       "    .dataframe tbody tr th:only-of-type {\n",
       "        vertical-align: middle;\n",
       "    }\n",
       "\n",
       "    .dataframe tbody tr th {\n",
       "        vertical-align: top;\n",
       "    }\n",
       "\n",
       "    .dataframe thead th {\n",
       "        text-align: right;\n",
       "    }\n",
       "</style>\n",
       "<table border=\"1\" class=\"dataframe\">\n",
       "  <thead>\n",
       "    <tr style=\"text-align: right;\">\n",
       "      <th></th>\n",
       "      <th>Observation</th>\n",
       "      <th>Age(x1)</th>\n",
       "      <th>Severity(x2)</th>\n",
       "      <th>Satisfaction(y)</th>\n",
       "    </tr>\n",
       "  </thead>\n",
       "  <tbody>\n",
       "    <tr>\n",
       "      <th>0</th>\n",
       "      <td>1</td>\n",
       "      <td>55</td>\n",
       "      <td>50</td>\n",
       "      <td>68</td>\n",
       "    </tr>\n",
       "    <tr>\n",
       "      <th>1</th>\n",
       "      <td>2</td>\n",
       "      <td>46</td>\n",
       "      <td>24</td>\n",
       "      <td>77</td>\n",
       "    </tr>\n",
       "    <tr>\n",
       "      <th>2</th>\n",
       "      <td>3</td>\n",
       "      <td>30</td>\n",
       "      <td>46</td>\n",
       "      <td>96</td>\n",
       "    </tr>\n",
       "    <tr>\n",
       "      <th>3</th>\n",
       "      <td>4</td>\n",
       "      <td>35</td>\n",
       "      <td>48</td>\n",
       "      <td>80</td>\n",
       "    </tr>\n",
       "    <tr>\n",
       "      <th>4</th>\n",
       "      <td>5</td>\n",
       "      <td>59</td>\n",
       "      <td>58</td>\n",
       "      <td>43</td>\n",
       "    </tr>\n",
       "    <tr>\n",
       "      <th>5</th>\n",
       "      <td>6</td>\n",
       "      <td>61</td>\n",
       "      <td>60</td>\n",
       "      <td>44</td>\n",
       "    </tr>\n",
       "    <tr>\n",
       "      <th>6</th>\n",
       "      <td>7</td>\n",
       "      <td>74</td>\n",
       "      <td>65</td>\n",
       "      <td>26</td>\n",
       "    </tr>\n",
       "    <tr>\n",
       "      <th>7</th>\n",
       "      <td>8</td>\n",
       "      <td>38</td>\n",
       "      <td>42</td>\n",
       "      <td>88</td>\n",
       "    </tr>\n",
       "    <tr>\n",
       "      <th>8</th>\n",
       "      <td>9</td>\n",
       "      <td>27</td>\n",
       "      <td>42</td>\n",
       "      <td>75</td>\n",
       "    </tr>\n",
       "    <tr>\n",
       "      <th>9</th>\n",
       "      <td>10</td>\n",
       "      <td>51</td>\n",
       "      <td>50</td>\n",
       "      <td>57</td>\n",
       "    </tr>\n",
       "    <tr>\n",
       "      <th>10</th>\n",
       "      <td>11</td>\n",
       "      <td>53</td>\n",
       "      <td>38</td>\n",
       "      <td>56</td>\n",
       "    </tr>\n",
       "    <tr>\n",
       "      <th>11</th>\n",
       "      <td>12</td>\n",
       "      <td>41</td>\n",
       "      <td>30</td>\n",
       "      <td>88</td>\n",
       "    </tr>\n",
       "    <tr>\n",
       "      <th>12</th>\n",
       "      <td>13</td>\n",
       "      <td>37</td>\n",
       "      <td>31</td>\n",
       "      <td>88</td>\n",
       "    </tr>\n",
       "    <tr>\n",
       "      <th>13</th>\n",
       "      <td>14</td>\n",
       "      <td>24</td>\n",
       "      <td>34</td>\n",
       "      <td>102</td>\n",
       "    </tr>\n",
       "    <tr>\n",
       "      <th>14</th>\n",
       "      <td>15</td>\n",
       "      <td>42</td>\n",
       "      <td>30</td>\n",
       "      <td>88</td>\n",
       "    </tr>\n",
       "    <tr>\n",
       "      <th>15</th>\n",
       "      <td>16</td>\n",
       "      <td>50</td>\n",
       "      <td>48</td>\n",
       "      <td>70</td>\n",
       "    </tr>\n",
       "    <tr>\n",
       "      <th>16</th>\n",
       "      <td>17</td>\n",
       "      <td>58</td>\n",
       "      <td>61</td>\n",
       "      <td>52</td>\n",
       "    </tr>\n",
       "    <tr>\n",
       "      <th>17</th>\n",
       "      <td>18</td>\n",
       "      <td>60</td>\n",
       "      <td>71</td>\n",
       "      <td>43</td>\n",
       "    </tr>\n",
       "    <tr>\n",
       "      <th>18</th>\n",
       "      <td>19</td>\n",
       "      <td>62</td>\n",
       "      <td>62</td>\n",
       "      <td>46</td>\n",
       "    </tr>\n",
       "    <tr>\n",
       "      <th>19</th>\n",
       "      <td>20</td>\n",
       "      <td>68</td>\n",
       "      <td>38</td>\n",
       "      <td>56</td>\n",
       "    </tr>\n",
       "    <tr>\n",
       "      <th>20</th>\n",
       "      <td>21</td>\n",
       "      <td>70</td>\n",
       "      <td>41</td>\n",
       "      <td>59</td>\n",
       "    </tr>\n",
       "    <tr>\n",
       "      <th>21</th>\n",
       "      <td>22</td>\n",
       "      <td>79</td>\n",
       "      <td>66</td>\n",
       "      <td>26</td>\n",
       "    </tr>\n",
       "    <tr>\n",
       "      <th>22</th>\n",
       "      <td>23</td>\n",
       "      <td>63</td>\n",
       "      <td>31</td>\n",
       "      <td>52</td>\n",
       "    </tr>\n",
       "    <tr>\n",
       "      <th>23</th>\n",
       "      <td>24</td>\n",
       "      <td>39</td>\n",
       "      <td>42</td>\n",
       "      <td>83</td>\n",
       "    </tr>\n",
       "    <tr>\n",
       "      <th>24</th>\n",
       "      <td>25</td>\n",
       "      <td>49</td>\n",
       "      <td>40</td>\n",
       "      <td>75</td>\n",
       "    </tr>\n",
       "  </tbody>\n",
       "</table>\n",
       "</div>"
      ],
      "text/plain": [
       "    Observation  Age(x1)  Severity(x2)  Satisfaction(y)\n",
       "0             1       55            50               68\n",
       "1             2       46            24               77\n",
       "2             3       30            46               96\n",
       "3             4       35            48               80\n",
       "4             5       59            58               43\n",
       "5             6       61            60               44\n",
       "6             7       74            65               26\n",
       "7             8       38            42               88\n",
       "8             9       27            42               75\n",
       "9            10       51            50               57\n",
       "10           11       53            38               56\n",
       "11           12       41            30               88\n",
       "12           13       37            31               88\n",
       "13           14       24            34              102\n",
       "14           15       42            30               88\n",
       "15           16       50            48               70\n",
       "16           17       58            61               52\n",
       "17           18       60            71               43\n",
       "18           19       62            62               46\n",
       "19           20       68            38               56\n",
       "20           21       70            41               59\n",
       "21           22       79            66               26\n",
       "22           23       63            31               52\n",
       "23           24       39            42               83\n",
       "24           25       49            40               75"
      ]
     },
     "execution_count": 2,
     "metadata": {},
     "output_type": "execute_result"
    }
   ],
   "source": [
    "df = pd.read_csv(r\"H:\\DataScience-Lab\\Sem-2\\Time series analysis & forecasting\\files\\Patient Satisfaction Survey Data.csv\")\n",
    "df"
   ]
  },
  {
   "cell_type": "code",
   "execution_count": 3,
   "id": "02b4b7d7",
   "metadata": {},
   "outputs": [],
   "source": [
    "df.rename({\"Age(x1)\":\"Age\",\"Severity(x2)\":\"Severity\",\"Satisfaction(y)\":\"Satisfaction\"},inplace=True,axis=1)"
   ]
  },
  {
   "cell_type": "code",
   "execution_count": 4,
   "id": "0d356840",
   "metadata": {},
   "outputs": [
    {
     "data": {
      "text/html": [
       "<div>\n",
       "<style scoped>\n",
       "    .dataframe tbody tr th:only-of-type {\n",
       "        vertical-align: middle;\n",
       "    }\n",
       "\n",
       "    .dataframe tbody tr th {\n",
       "        vertical-align: top;\n",
       "    }\n",
       "\n",
       "    .dataframe thead th {\n",
       "        text-align: right;\n",
       "    }\n",
       "</style>\n",
       "<table border=\"1\" class=\"dataframe\">\n",
       "  <thead>\n",
       "    <tr style=\"text-align: right;\">\n",
       "      <th></th>\n",
       "      <th>Observation</th>\n",
       "      <th>Age</th>\n",
       "      <th>Severity</th>\n",
       "      <th>Satisfaction</th>\n",
       "    </tr>\n",
       "  </thead>\n",
       "  <tbody>\n",
       "    <tr>\n",
       "      <th>0</th>\n",
       "      <td>1</td>\n",
       "      <td>55</td>\n",
       "      <td>50</td>\n",
       "      <td>68</td>\n",
       "    </tr>\n",
       "    <tr>\n",
       "      <th>1</th>\n",
       "      <td>2</td>\n",
       "      <td>46</td>\n",
       "      <td>24</td>\n",
       "      <td>77</td>\n",
       "    </tr>\n",
       "    <tr>\n",
       "      <th>2</th>\n",
       "      <td>3</td>\n",
       "      <td>30</td>\n",
       "      <td>46</td>\n",
       "      <td>96</td>\n",
       "    </tr>\n",
       "    <tr>\n",
       "      <th>3</th>\n",
       "      <td>4</td>\n",
       "      <td>35</td>\n",
       "      <td>48</td>\n",
       "      <td>80</td>\n",
       "    </tr>\n",
       "    <tr>\n",
       "      <th>4</th>\n",
       "      <td>5</td>\n",
       "      <td>59</td>\n",
       "      <td>58</td>\n",
       "      <td>43</td>\n",
       "    </tr>\n",
       "  </tbody>\n",
       "</table>\n",
       "</div>"
      ],
      "text/plain": [
       "   Observation  Age  Severity  Satisfaction\n",
       "0            1   55        50            68\n",
       "1            2   46        24            77\n",
       "2            3   30        46            96\n",
       "3            4   35        48            80\n",
       "4            5   59        58            43"
      ]
     },
     "execution_count": 4,
     "metadata": {},
     "output_type": "execute_result"
    }
   ],
   "source": [
    "df.head()"
   ]
  },
  {
   "cell_type": "code",
   "execution_count": 5,
   "id": "ca588e9c",
   "metadata": {},
   "outputs": [
    {
     "name": "stdout",
     "output_type": "stream",
     "text": [
      "Intercept: 143.47201181279553\n",
      "Coefficients: [-1.03105341 -0.55603781]\n"
     ]
    }
   ],
   "source": [
    "from sklearn.linear_model import LinearRegression\n",
    "# Extract features (X) and target variable (y)\n",
    "X = df[['Age', 'Severity']]\n",
    "y = df['Satisfaction']\n",
    "\n",
    "# Create a linear regression model\n",
    "model = LinearRegression()\n",
    "\n",
    "# Fit the model to the data\n",
    "model.fit(X, y)\n",
    "\n",
    "# Print the coefficients\n",
    "print('Intercept:', model.intercept_)\n",
    "print('Coefficients:', model.coef_)"
   ]
  },
  {
   "cell_type": "code",
   "execution_count": 6,
   "id": "3c73ebf2",
   "metadata": {},
   "outputs": [],
   "source": [
    "# X = np.column_stack((X, np.ones(len(X))))\n",
    "# X"
   ]
  },
  {
   "cell_type": "code",
   "execution_count": 7,
   "id": "7713c0bd",
   "metadata": {},
   "outputs": [],
   "source": [
    "# Calculate the coefficients using the normal equation\n",
    "X_transpose_X = np.dot(X.T, X)\n",
    "X_transpose_y = np.dot(X.T, y)"
   ]
  },
  {
   "cell_type": "code",
   "execution_count": 8,
   "id": "00ca4504",
   "metadata": {},
   "outputs": [
    {
     "data": {
      "text/plain": [
       "array([[69881, 60814],\n",
       "       [60814, 56790]], dtype=int64)"
      ]
     },
     "execution_count": 8,
     "metadata": {},
     "output_type": "execute_result"
    }
   ],
   "source": [
    "X_transpose_X"
   ]
  },
  {
   "cell_type": "code",
   "execution_count": 9,
   "id": "3d64c3bc",
   "metadata": {},
   "outputs": [
    {
     "data": {
      "text/plain": [
       "array([76487, 70426], dtype=int64)"
      ]
     },
     "execution_count": 9,
     "metadata": {},
     "output_type": "execute_result"
    }
   ],
   "source": [
    "X_transpose_y"
   ]
  },
  {
   "cell_type": "code",
   "execution_count": 10,
   "id": "10925d2f",
   "metadata": {},
   "outputs": [
    {
     "data": {
      "text/plain": [
       "array([0.22505589, 0.99910989])"
      ]
     },
     "execution_count": 10,
     "metadata": {},
     "output_type": "execute_result"
    }
   ],
   "source": [
    "coefficients = np.linalg.inv(X_transpose_X).dot(X_transpose_y)\n",
    "coefficients"
   ]
  },
  {
   "cell_type": "code",
   "execution_count": 11,
   "id": "d6db6eaf",
   "metadata": {},
   "outputs": [
    {
     "name": "stdout",
     "output_type": "stream",
     "text": [
      "Intercept: 0.22505589335259718\n",
      "Coefficients: 1    0.99911\n",
      "dtype: float64\n"
     ]
    }
   ],
   "source": [
    "# Calculate the coefficients using the formula\n",
    "beta = np.linalg.inv(X.T @ X) @ X.T @ y\n",
    "\n",
    "print('Intercept:', beta[0])\n",
    "print('Coefficients:', beta[1:])"
   ]
  },
  {
   "cell_type": "code",
   "execution_count": 12,
   "id": "6852e598",
   "metadata": {},
   "outputs": [
    {
     "name": "stdout",
     "output_type": "stream",
     "text": [
      "Satisfaction = 143.47201181279553 + (-1.0310534139856795 * Age) + (-0.5560378102300436 * Severity)\n"
     ]
    }
   ],
   "source": [
    "print(f'Satisfaction = {model.intercept_} + ({model.coef_[0]} * Age) + ({model.coef_[1]} * Severity)')"
   ]
  },
  {
   "cell_type": "code",
   "execution_count": 13,
   "id": "b8d331ce",
   "metadata": {},
   "outputs": [],
   "source": [
    "# X = df[['Age', 'Severity']]\n",
    "# y = df['Satisfaction']\n"
   ]
  },
  {
   "cell_type": "code",
   "execution_count": 14,
   "id": "48aff011",
   "metadata": {},
   "outputs": [
    {
     "data": {
      "image/png": "[encoded data removed]",
      "text/plain": [
       "<Figure size 640x480 with 1 Axes>"
      ]
     },
     "metadata": {},
     "output_type": "display_data"
    }
   ],
   "source": [
    "# Predicted values\n",
    "predicted_satisfaction = model.predict(X)\n",
    "\n",
    "# Actual values\n",
    "actual_satisfaction = y\n",
    "\n",
    "# Plot the best-fit line\n",
    "plt.plot([min(actual_satisfaction), max(actual_satisfaction)], [min(actual_satisfaction), max(actual_satisfaction)], color='red', linestyle='--', linewidth=2, label='Best Fit Line')\n",
    "\n",
    "# Plotting\n",
    "plt.scatter(actual_satisfaction, predicted_satisfaction)\n",
    "plt.title('Actual Satisfaction vs Predicted Satisfaction')\n",
    "plt.xlabel('Actual Satisfaction')\n",
    "plt.ylabel('Predicted Satisfaction')\n",
    "plt.legend()\n",
    "plt.show()"
   ]
  },
  {
   "cell_type": "code",
   "execution_count": 20,
   "id": "d8567594",
   "metadata": {},
   "outputs": [
    {
     "name": "stdout",
     "output_type": "stream",
     "text": [
      "Residual Errors:\n",
      "0      9.037816\n",
      "1     -5.698647\n",
      "2      9.037330\n",
      "3     -0.695327\n",
      "4     -7.389667\n",
      "5     -3.215485\n",
      "6     -5.031602\n",
      "7      7.061606\n",
      "8    -17.279982\n",
      "9     -6.086397\n",
      "10   -11.696744\n",
      "11     3.482312\n",
      "12    -0.085863\n",
      "13     2.178556\n",
      "14     4.513366\n",
      "15     4.770474\n",
      "16     2.247393\n",
      "17     0.869878\n",
      "18     0.927644\n",
      "19     3.769057\n",
      "20    10.499277\n",
      "21     0.679703\n",
      "22    -9.278475\n",
      "23     3.092659\n",
      "24     4.291118\n",
      "Name: Satisfaction, dtype: float64\n",
      "Mean Squared Error: 44.58183797698442\n"
     ]
    }
   ],
   "source": [
    "from sklearn.metrics import mean_squared_error\n",
    "\n",
    "# Calculate residuals\n",
    "residuals = actual_satisfaction - predicted_satisfaction\n",
    "\n",
    "# Calculate mean squared error\n",
    "mse = mean_squared_error(actual_satisfaction, predicted_satisfaction)\n",
    "\n",
    "# Print residual errors\n",
    "print(f'Residual Errors:\\n{residuals}')\n",
    "\n",
    "# Print mean squared error\n",
    "print(f'Mean Squared Error: {mse}')"
   ]
  },
  {
   "cell_type": "code",
   "execution_count": null,
   "id": "a63bccec",
   "metadata": {},
   "outputs": [],
   "source": []
  },
  {
   "cell_type": "code",
   "execution_count": null,
   "id": "7631e768",
   "metadata": {},
   "outputs": [],
   "source": []
  },
  {
   "cell_type": "code",
   "execution_count": null,
   "id": "e8cb3a0a",
   "metadata": {},
   "outputs": [],
   "source": []
  },
  {
   "cell_type": "code",
   "execution_count": null,
   "id": "5b309205",
   "metadata": {},
   "outputs": [],
   "source": []
  },
  {
   "cell_type": "code",
   "execution_count": null,
   "id": "6cd4d0eb",
   "metadata": {},
   "outputs": [],
   "source": []
  },
  {
   "cell_type": "code",
   "execution_count": null,
   "id": "20480d72",
   "metadata": {},
   "outputs": [],
   "source": []
  },
  {
   "cell_type": "code",
   "execution_count": null,
   "id": "4d08d175",
   "metadata": {},
   "outputs": [],
   "source": []
  },
  {
   "cell_type": "code",
   "execution_count": null,
   "id": "6171155e",
   "metadata": {},
   "outputs": [],
   "source": []
  },
  {
   "cell_type": "code",
   "execution_count": 16,
   "id": "7c2c7b71",
   "metadata": {},
   "outputs": [
    {
     "name": "stdout",
     "output_type": "stream",
     "text": [
      "Intercept: 0.22505589335259718\n",
      "Coefficients: 1    0.99911\n",
      "dtype: float64\n"
     ]
    }
   ],
   "source": [
    "# Calculate the coefficients using the formula\n",
    "beta = np.linalg.inv(X.T @ X) @ X.T @ y\n",
    "\n",
    "print('Intercept:', beta[0])\n",
    "print('Coefficients:', beta[1:])"
   ]
  },
  {
   "cell_type": "code",
   "execution_count": 17,
   "id": "b28bf6ff",
   "metadata": {},
   "outputs": [
    {
     "name": "stdout",
     "output_type": "stream",
     "text": [
      "Satisfaction = 143.47201181279553 + (-1.0310534139856795 * Age) + (-0.5560378102300436 * Severity)\n"
     ]
    }
   ],
   "source": [
    "print(f'Satisfaction = {model.intercept_} + ({model.coef_[0]} * Age) + ({model.coef_[1]} * Severity)')"
   ]
  },
  {
   "cell_type": "code",
   "execution_count": 18,
   "id": "4ab8830e",
   "metadata": {},
   "outputs": [
    {
     "data": {
      "image/png": "[encoded data removed]",
      "text/plain": [
       "<Figure size 640x480 with 1 Axes>"
      ]
     },
     "metadata": {},
     "output_type": "display_data"
    }
   ],
   "source": [
    "# Predicted values\n",
    "predicted_satisfaction = model.predict(X)\n",
    "\n",
    "# Actual values\n",
    "actual_satisfaction = y\n",
    "\n",
    "# Plotting\n",
    "plt.scatter(actual_satisfaction, predicted_satisfaction)\n",
    "plt.title('Actual Satisfaction vs Predicted Satisfaction')\n",
    "plt.xlabel('Actual Satisfaction')\n",
    "plt.ylabel('Predicted Satisfaction')\n",
    "plt.show()"
   ]
  },
  {
   "cell_type": "code",
   "execution_count": 19,
   "id": "7478c8c0",
   "metadata": {},
   "outputs": [
    {
     "data": {
      "image/png": "[encoded data removed]",
      "text/plain": [
       "<Figure size 640x480 with 1 Axes>"
      ]
     },
     "metadata": {},
     "output_type": "display_data"
    }
   ],
   "source": [
    "import matplotlib.pyplot as plt\n",
    "import numpy as np\n",
    "\n",
    "# Predicted values\n",
    "predicted_satisfaction = model.predict(X)\n",
    "\n",
    "# Actual values\n",
    "actual_satisfaction = y\n",
    "\n",
    "# Plotting\n",
    "plt.scatter(actual_satisfaction, predicted_satisfaction, label='Data Points')\n",
    "plt.plot([min(actual_satisfaction), max(actual_satisfaction)], [min(actual_satisfaction), max(actual_satisfaction)], color='red', linestyle='', label='Perfect Prediction Line')\n",
    "plt.title('Actual Satisfaction vs Predicted Satisfaction')\n",
    "plt.xlabel('Actual Satisfaction')\n",
    "plt.ylabel('Predicted Satisfaction')\n",
    "plt.legend()\n",
    "plt.show()\n"
   ]
  },
  {
   "cell_type": "code",
   "execution_count": null,
   "id": "698111a1",
   "metadata": {},
   "outputs": [],
   "source": []
  }
 ],
 "metadata": {
  "kernelspec": {
   "display_name": "Python 3 (ipykernel)",
   "language": "python",
   "name": "python3"
  },
  "language_info": {
   "codemirror_mode": {
    "name": "ipython",
    "version": 3
   },
   "file_extension": ".py",
   "mimetype": "text/x-python",
   "name": "python",
   "nbconvert_exporter": "python",
   "pygments_lexer": "ipython3",
   "version": "3.11.1"
  },
  "nbTranslate": {
   "displayLangs": [
    "*"
   ],
   "hotkey": "alt-t",
   "langInMainMenu": true,
   "sourceLang": "en",
   "targetLang": "fr",
   "useGoogleTranslate": true
  },
  "toc": {
   "base_numbering": 1,
   "nav_menu": {},
   "number_sections": true,
   "sideBar": true,
   "skip_h1_title": false,
   "title_cell": "Table of Contents",
   "title_sidebar": "Contents",
   "toc_cell": false,
   "toc_position": {},
   "toc_section_display": true,
   "toc_window_display": false
  },
  "varInspector": {
   "cols": {
    "lenName": 16,
    "lenType": 16,
    "lenVar": 40
   },
   "kernels_config": {
    "python": {
     "delete_cmd_postfix": "",
     "delete_cmd_prefix": "del ",
     "library": "var_list.py",
     "varRefreshCmd": "print(var_dic_list())"
    },
    "r": {
     "delete_cmd_postfix": ") ",
     "delete_cmd_prefix": "rm(",
     "library": "var_list.r",
     "varRefreshCmd": "cat(var_dic_list()) "
    }
   },
   "types_to_exclude": [
    "module",
    "function",
    "builtin_function_or_method",
    "instance",
    "_Feature"
   ],
   "window_display": false
  }
 },
 "nbformat": 4,
 "nbformat_minor": 5
}
