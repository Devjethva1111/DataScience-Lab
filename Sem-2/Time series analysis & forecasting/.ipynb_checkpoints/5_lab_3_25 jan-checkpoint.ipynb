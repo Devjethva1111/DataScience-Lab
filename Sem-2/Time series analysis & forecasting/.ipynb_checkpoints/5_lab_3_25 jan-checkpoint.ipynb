{
 "cells": [
  {
   "cell_type": "code",
   "execution_count": 1,
   "id": "7b32e631",
   "metadata": {},
   "outputs": [],
   "source": [
    "import pandas as pd\n",
    "import numpy as np\n",
    "import seaborn as sns\n",
    "import matplotlib.pyplot as plt"
   ]
  },
  {
   "cell_type": "code",
   "execution_count": 10,
   "id": "147352e3",
   "metadata": {},
   "outputs": [
    {
     "data": {
      "text/html": [
       "<div>\n",
       "<style scoped>\n",
       "    .dataframe tbody tr th:only-of-type {\n",
       "        vertical-align: middle;\n",
       "    }\n",
       "\n",
       "    .dataframe tbody tr th {\n",
       "        vertical-align: top;\n",
       "    }\n",
       "\n",
       "    .dataframe thead th {\n",
       "        text-align: right;\n",
       "    }\n",
       "</style>\n",
       "<table border=\"1\" class=\"dataframe\">\n",
       "  <thead>\n",
       "    <tr style=\"text-align: right;\">\n",
       "      <th></th>\n",
       "      <th>week</th>\n",
       "      <th>Sales</th>\n",
       "    </tr>\n",
       "  </thead>\n",
       "  <tbody>\n",
       "    <tr>\n",
       "      <th>0</th>\n",
       "      <td>1</td>\n",
       "      <td>10618.1</td>\n",
       "    </tr>\n",
       "    <tr>\n",
       "      <th>1</th>\n",
       "      <td>2</td>\n",
       "      <td>10537.9</td>\n",
       "    </tr>\n",
       "    <tr>\n",
       "      <th>2</th>\n",
       "      <td>3</td>\n",
       "      <td>10209.3</td>\n",
       "    </tr>\n",
       "    <tr>\n",
       "      <th>3</th>\n",
       "      <td>4</td>\n",
       "      <td>10553.0</td>\n",
       "    </tr>\n",
       "    <tr>\n",
       "      <th>4</th>\n",
       "      <td>5</td>\n",
       "      <td>9934.9</td>\n",
       "    </tr>\n",
       "    <tr>\n",
       "      <th>...</th>\n",
       "      <td>...</td>\n",
       "      <td>...</td>\n",
       "    </tr>\n",
       "    <tr>\n",
       "      <th>115</th>\n",
       "      <td>116</td>\n",
       "      <td>10650.0</td>\n",
       "    </tr>\n",
       "    <tr>\n",
       "      <th>116</th>\n",
       "      <td>117</td>\n",
       "      <td>10741.6</td>\n",
       "    </tr>\n",
       "    <tr>\n",
       "      <th>117</th>\n",
       "      <td>118</td>\n",
       "      <td>10246.0</td>\n",
       "    </tr>\n",
       "    <tr>\n",
       "      <th>118</th>\n",
       "      <td>119</td>\n",
       "      <td>10354.4</td>\n",
       "    </tr>\n",
       "    <tr>\n",
       "      <th>119</th>\n",
       "      <td>120</td>\n",
       "      <td>10155.4</td>\n",
       "    </tr>\n",
       "  </tbody>\n",
       "</table>\n",
       "<p>120 rows × 2 columns</p>\n",
       "</div>"
      ],
      "text/plain": [
       "     week    Sales\n",
       "0       1  10618.1\n",
       "1       2  10537.9\n",
       "2       3  10209.3\n",
       "3       4  10553.0\n",
       "4       5   9934.9\n",
       "..    ...      ...\n",
       "115   116  10650.0\n",
       "116   117  10741.6\n",
       "117   118  10246.0\n",
       "118   119  10354.4\n",
       "119   120  10155.4\n",
       "\n",
       "[120 rows x 2 columns]"
      ]
     },
     "execution_count": 10,
     "metadata": {},
     "output_type": "execute_result"
    }
   ],
   "source": [
    "df = pd.read_csv(r\"H:\\DataScience-Lab\\Sem-2\\Time series analysis & forecasting\\files\\TSA_week_wise_sales_25_01_24.csv\")\n",
    "df"
   ]
  },
  {
   "cell_type": "code",
   "execution_count": 14,
   "id": "26586c8c",
   "metadata": {},
   "outputs": [
    {
     "data": {
      "text/html": [
       "<div>\n",
       "<style scoped>\n",
       "    .dataframe tbody tr th:only-of-type {\n",
       "        vertical-align: middle;\n",
       "    }\n",
       "\n",
       "    .dataframe tbody tr th {\n",
       "        vertical-align: top;\n",
       "    }\n",
       "\n",
       "    .dataframe thead th {\n",
       "        text-align: right;\n",
       "    }\n",
       "</style>\n",
       "<table border=\"1\" class=\"dataframe\">\n",
       "  <thead>\n",
       "    <tr style=\"text-align: right;\">\n",
       "      <th></th>\n",
       "      <th>Time Period</th>\n",
       "      <th>Reading</th>\n",
       "    </tr>\n",
       "  </thead>\n",
       "  <tbody>\n",
       "    <tr>\n",
       "      <th>0</th>\n",
       "      <td>1</td>\n",
       "      <td>86.7418</td>\n",
       "    </tr>\n",
       "    <tr>\n",
       "      <th>1</th>\n",
       "      <td>2</td>\n",
       "      <td>85.3195</td>\n",
       "    </tr>\n",
       "    <tr>\n",
       "      <th>2</th>\n",
       "      <td>3</td>\n",
       "      <td>84.7355</td>\n",
       "    </tr>\n",
       "    <tr>\n",
       "      <th>3</th>\n",
       "      <td>4</td>\n",
       "      <td>85.1113</td>\n",
       "    </tr>\n",
       "    <tr>\n",
       "      <th>4</th>\n",
       "      <td>5</td>\n",
       "      <td>85.1487</td>\n",
       "    </tr>\n",
       "    <tr>\n",
       "      <th>...</th>\n",
       "      <td>...</td>\n",
       "      <td>...</td>\n",
       "    </tr>\n",
       "    <tr>\n",
       "      <th>95</th>\n",
       "      <td>96</td>\n",
       "      <td>85.7609</td>\n",
       "    </tr>\n",
       "    <tr>\n",
       "      <th>96</th>\n",
       "      <td>97</td>\n",
       "      <td>85.2302</td>\n",
       "    </tr>\n",
       "    <tr>\n",
       "      <th>97</th>\n",
       "      <td>98</td>\n",
       "      <td>86.7312</td>\n",
       "    </tr>\n",
       "    <tr>\n",
       "      <th>98</th>\n",
       "      <td>99</td>\n",
       "      <td>87.0048</td>\n",
       "    </tr>\n",
       "    <tr>\n",
       "      <th>99</th>\n",
       "      <td>100</td>\n",
       "      <td>85.0572</td>\n",
       "    </tr>\n",
       "  </tbody>\n",
       "</table>\n",
       "<p>100 rows × 2 columns</p>\n",
       "</div>"
      ],
      "text/plain": [
       "    Time Period  Reading\n",
       "0             1  86.7418\n",
       "1             2  85.3195\n",
       "2             3  84.7355\n",
       "3             4  85.1113\n",
       "4             5  85.1487\n",
       "..          ...      ...\n",
       "95           96  85.7609\n",
       "96           97  85.2302\n",
       "97           98  86.7312\n",
       "98           99  87.0048\n",
       "99          100  85.0572\n",
       "\n",
       "[100 rows x 2 columns]"
      ]
     },
     "execution_count": 14,
     "metadata": {},
     "output_type": "execute_result"
    }
   ],
   "source": [
    "df1 = pd.read_csv(r\"H:\\DataScience-Lab\\Sem-2\\Time series analysis & forecasting\\files\\Chemical Process Viscosity.csv\")\n",
    "df1"
   ]
  },
  {
   "cell_type": "code",
   "execution_count": 8,
   "id": "466a2579",
   "metadata": {},
   "outputs": [
    {
     "data": {
      "text/html": [
       "<div>\n",
       "<style scoped>\n",
       "    .dataframe tbody tr th:only-of-type {\n",
       "        vertical-align: middle;\n",
       "    }\n",
       "\n",
       "    .dataframe tbody tr th {\n",
       "        vertical-align: top;\n",
       "    }\n",
       "\n",
       "    .dataframe thead th {\n",
       "        text-align: right;\n",
       "    }\n",
       "</style>\n",
       "<table border=\"1\" class=\"dataframe\">\n",
       "  <thead>\n",
       "    <tr style=\"text-align: right;\">\n",
       "      <th></th>\n",
       "      <th>week</th>\n",
       "      <th>Sales (In Week Thousands)</th>\n",
       "    </tr>\n",
       "  </thead>\n",
       "  <tbody>\n",
       "    <tr>\n",
       "      <th>0</th>\n",
       "      <td>NaN</td>\n",
       "      <td>NaN</td>\n",
       "    </tr>\n",
       "    <tr>\n",
       "      <th>1</th>\n",
       "      <td>1.0</td>\n",
       "      <td>10618.1</td>\n",
       "    </tr>\n",
       "    <tr>\n",
       "      <th>2</th>\n",
       "      <td>2.0</td>\n",
       "      <td>10537.9</td>\n",
       "    </tr>\n",
       "    <tr>\n",
       "      <th>3</th>\n",
       "      <td>3.0</td>\n",
       "      <td>10209.3</td>\n",
       "    </tr>\n",
       "    <tr>\n",
       "      <th>4</th>\n",
       "      <td>4.0</td>\n",
       "      <td>10553.0</td>\n",
       "    </tr>\n",
       "  </tbody>\n",
       "</table>\n",
       "</div>"
      ],
      "text/plain": [
       "   week  Sales (In Week Thousands) \n",
       "0   NaN                         NaN\n",
       "1   1.0                     10618.1\n",
       "2   2.0                     10537.9\n",
       "3   3.0                     10209.3\n",
       "4   4.0                     10553.0"
      ]
     },
     "execution_count": 8,
     "metadata": {},
     "output_type": "execute_result"
    }
   ],
   "source": [
    "df.head()"
   ]
  },
  {
   "cell_type": "code",
   "execution_count": 15,
   "id": "e79aadec",
   "metadata": {},
   "outputs": [
    {
     "data": {
      "text/html": [
       "<div>\n",
       "<style scoped>\n",
       "    .dataframe tbody tr th:only-of-type {\n",
       "        vertical-align: middle;\n",
       "    }\n",
       "\n",
       "    .dataframe tbody tr th {\n",
       "        vertical-align: top;\n",
       "    }\n",
       "\n",
       "    .dataframe thead th {\n",
       "        text-align: right;\n",
       "    }\n",
       "</style>\n",
       "<table border=\"1\" class=\"dataframe\">\n",
       "  <thead>\n",
       "    <tr style=\"text-align: right;\">\n",
       "      <th></th>\n",
       "      <th>Time Period</th>\n",
       "      <th>Reading</th>\n",
       "    </tr>\n",
       "  </thead>\n",
       "  <tbody>\n",
       "    <tr>\n",
       "      <th>0</th>\n",
       "      <td>1</td>\n",
       "      <td>86.7418</td>\n",
       "    </tr>\n",
       "    <tr>\n",
       "      <th>1</th>\n",
       "      <td>2</td>\n",
       "      <td>85.3195</td>\n",
       "    </tr>\n",
       "    <tr>\n",
       "      <th>2</th>\n",
       "      <td>3</td>\n",
       "      <td>84.7355</td>\n",
       "    </tr>\n",
       "    <tr>\n",
       "      <th>3</th>\n",
       "      <td>4</td>\n",
       "      <td>85.1113</td>\n",
       "    </tr>\n",
       "    <tr>\n",
       "      <th>4</th>\n",
       "      <td>5</td>\n",
       "      <td>85.1487</td>\n",
       "    </tr>\n",
       "  </tbody>\n",
       "</table>\n",
       "</div>"
      ],
      "text/plain": [
       "   Time Period  Reading\n",
       "0            1  86.7418\n",
       "1            2  85.3195\n",
       "2            3  84.7355\n",
       "3            4  85.1113\n",
       "4            5  85.1487"
      ]
     },
     "execution_count": 15,
     "metadata": {},
     "output_type": "execute_result"
    }
   ],
   "source": [
    "df1.head()"
   ]
  },
  {
   "cell_type": "code",
   "execution_count": 11,
   "id": "2e0c685b",
   "metadata": {},
   "outputs": [
    {
     "data": {
      "text/plain": [
       "<Axes: xlabel='week', ylabel='Sales'>"
      ]
     },
     "execution_count": 11,
     "metadata": {},
     "output_type": "execute_result"
    },
    {
     "data": {
      "image/png": "[encoded data removed]",
      "text/plain": [
       "<Figure size 640x480 with 1 Axes>"
      ]
     },
     "metadata": {},
     "output_type": "display_data"
    }
   ],
   "source": [
    "sns.scatterplot(x='week', y='Sales', data=df)"
   ]
  },
  {
   "cell_type": "code",
   "execution_count": 12,
   "id": "5cda0106",
   "metadata": {},
   "outputs": [
    {
     "data": {
      "image/png": "[encoded data removed]",
      "text/plain": [
       "<Figure size 640x480 with 1 Axes>"
      ]
     },
     "metadata": {},
     "output_type": "display_data"
    }
   ],
   "source": [
    "plt.scatter(df['Sales'][:-1], df['Sales'][1:])\n",
    "plt.title('Scatter Plot: t vs t+1')\n",
    "plt.xlabel('Sales at time t')\n",
    "plt.ylabel('Sales at time t+1')\n",
    "plt.show()"
   ]
  },
  {
   "cell_type": "code",
   "execution_count": 17,
   "id": "a94906a3",
   "metadata": {},
   "outputs": [
    {
     "data": {
      "image/png": "[encoded data removed]",
      "text/plain": [
       "<Figure size 640x480 with 1 Axes>"
      ]
     },
     "metadata": {},
     "output_type": "display_data"
    }
   ],
   "source": [
    "plt.scatter(df1['Reading'][:-1], df1['Reading'][1:])\n",
    "plt.title('Scatter Plot: t vs t+1')\n",
    "plt.xlabel('Sales at time t')\n",
    "plt.ylabel('Sales at time t+1')\n",
    "plt.show()"
   ]
  },
  {
   "cell_type": "code",
   "execution_count": 25,
   "id": "a1a335ac",
   "metadata": {},
   "outputs": [
    {
     "name": "stdout",
     "output_type": "stream",
     "text": [
      "Autocovariance at lag T/4: 23200.01905000001\n"
     ]
    },
    {
     "data": {
      "image/png": "[encoded data removed]",
      "text/plain": [
       "<Figure size 640x480 with 1 Axes>"
      ]
     },
     "metadata": {},
     "output_type": "display_data"
    }
   ],
   "source": [
    "# Calculate autocovariance values for different lags\n",
    "lags = len(df['Sales']) //4\n",
    "autocovariance_values = autocovariance(df['Sales'], lag)\n",
    "\n",
    "# Print the autocovariance at T/4 lag\n",
    "print(f'Autocovariance at lag T/4: {autocovariance_value}')\n",
    "\n",
    "# Plot autocovariance graph\n",
    "lags = range(1, len(df['Sales']))\n",
    "autocovariance_values = [autocovariance(df['Sales'], lag) for lag in lags]\n",
    "\n",
    "# Plot autocovariance graph\n",
    "plt.bar(lags, autocovariance_values)\n",
    "plt.title('Autocovariance Graph')\n",
    "plt.xlabel('Lag')\n",
    "plt.ylabel('Autocovariance')\n",
    "plt.show()"
   ]
  },
  {
   "cell_type": "code",
   "execution_count": 37,
   "id": "e8f90c22",
   "metadata": {},
   "outputs": [
    {
     "data": {
      "text/plain": [
       "84.915335"
      ]
     },
     "execution_count": 37,
     "metadata": {},
     "output_type": "execute_result"
    }
   ],
   "source": [
    "R_mean = df1[\"Reading\"].mean()\n",
    "R_mean"
   ]
  },
  {
   "cell_type": "code",
   "execution_count": 31,
   "id": "db82a348",
   "metadata": {},
   "outputs": [],
   "source": [
    "X=0\n",
    "for i in range(100):\n",
    "    X+= (df1[\"Reading\"][i]-R_mean)**2\n",
    "c0 = (1/100)*X"
   ]
  },
  {
   "cell_type": "code",
   "execution_count": 32,
   "id": "9fc311b8",
   "metadata": {},
   "outputs": [],
   "source": [
    "summ=0\n",
    "for i in range(99):\n",
    "    summ+= (df1[\"Reading\"][i]-R_mean)*(df1[\"Reading\"][i+1]-R_mean)\n",
    "c1 = summ/100"
   ]
  },
  {
   "cell_type": "code",
   "execution_count": 36,
   "id": "bfcbe9be",
   "metadata": {},
   "outputs": [
    {
     "data": {
      "text/plain": [
       "220.31374556027515"
      ]
     },
     "execution_count": 36,
     "metadata": {},
     "output_type": "execute_result"
    }
   ],
   "source": [
    "c1*100"
   ]
  },
  {
   "cell_type": "code",
   "execution_count": 35,
   "id": "84272b36",
   "metadata": {},
   "outputs": [
    {
     "data": {
      "text/plain": [
       "280.9332232475001"
      ]
     },
     "execution_count": 35,
     "metadata": {},
     "output_type": "execute_result"
    }
   ],
   "source": [
    "c0*100"
   ]
  },
  {
   "cell_type": "code",
   "execution_count": 39,
   "id": "ff8765d0",
   "metadata": {},
   "outputs": [
    {
     "data": {
      "text/plain": [
       "0.7842210437538046"
      ]
     },
     "execution_count": 39,
     "metadata": {},
     "output_type": "execute_result"
    }
   ],
   "source": [
    "r1 = c1/c0\n",
    "r1"
   ]
  },
  {
   "cell_type": "code",
   "execution_count": 47,
   "id": "79b8e866",
   "metadata": {},
   "outputs": [],
   "source": [
    "# Calculate autocovariance coefficients up to c25\n",
    "c_values = np.zeros(26)  # Initialize an array to store c0 to c25\n",
    "\n",
    "for k in range(26):\n",
    "    summ = 0\n",
    "    for i in range(100 - k):\n",
    "        summ += (df1[\"Reading\"][i] - R_mean) * (df1[\"Reading\"][i + k] - R_mean)\n",
    "    c_values[k] = summ / 100"
   ]
  },
  {
   "cell_type": "code",
   "execution_count": 48,
   "id": "e2a9ea18",
   "metadata": {},
   "outputs": [
    {
     "data": {
      "text/plain": [
       "array([ 2.80933223,  2.20313746,  1.76440272,  1.38102314,  1.01944475,\n",
       "        0.85558721,  0.58708791,  0.46163073,  0.40675999,  0.29111733,\n",
       "        0.18698471,  0.01108516, -0.21695819, -0.14595869,  0.05765553,\n",
       "        0.2044723 ,  0.19877034,  0.00374679, -0.16135807, -0.34589973,\n",
       "       -0.5072173 , -0.45642164, -0.41010496, -0.24558815, -0.03252493,\n",
       "        0.17747218])"
      ]
     },
     "execution_count": 48,
     "metadata": {},
     "output_type": "execute_result"
    }
   ],
   "source": [
    "c_values"
   ]
  },
  {
   "cell_type": "code",
   "execution_count": 50,
   "id": "3bddd86f",
   "metadata": {},
   "outputs": [],
   "source": [
    "r_values = c_values / c_values[0]"
   ]
  },
  {
   "cell_type": "code",
   "execution_count": 51,
   "id": "ee57947f",
   "metadata": {},
   "outputs": [
    {
     "data": {
      "text/plain": [
       "array([ 1.        ,  0.78422104,  0.62805057,  0.49158413,  0.36287796,\n",
       "        0.30455181,  0.20897774,  0.16432045,  0.14478885,  0.1036251 ,\n",
       "        0.06655842,  0.00394583, -0.07722767, -0.05195494,  0.02052286,\n",
       "        0.07278324,  0.07075359,  0.0013337 , -0.05743645, -0.12312525,\n",
       "       -0.18054728, -0.16246624, -0.14597951, -0.08741869, -0.01157746,\n",
       "        0.06317237])"
      ]
     },
     "execution_count": 51,
     "metadata": {},
     "output_type": "execute_result"
    }
   ],
   "source": [
    "r_values"
   ]
  },
  {
   "cell_type": "code",
   "execution_count": 52,
   "id": "572965eb",
   "metadata": {},
   "outputs": [],
   "source": [
    "df3 = pd.DataFrame(c_values, r_values)"
   ]
  },
  {
   "cell_type": "code",
   "execution_count": 53,
   "id": "abaed510",
   "metadata": {},
   "outputs": [
    {
     "data": {
      "text/html": [
       "<div>\n",
       "<style scoped>\n",
       "    .dataframe tbody tr th:only-of-type {\n",
       "        vertical-align: middle;\n",
       "    }\n",
       "\n",
       "    .dataframe tbody tr th {\n",
       "        vertical-align: top;\n",
       "    }\n",
       "\n",
       "    .dataframe thead th {\n",
       "        text-align: right;\n",
       "    }\n",
       "</style>\n",
       "<table border=\"1\" class=\"dataframe\">\n",
       "  <thead>\n",
       "    <tr style=\"text-align: right;\">\n",
       "      <th></th>\n",
       "      <th>0</th>\n",
       "    </tr>\n",
       "  </thead>\n",
       "  <tbody>\n",
       "    <tr>\n",
       "      <th>1.000000</th>\n",
       "      <td>2.809332</td>\n",
       "    </tr>\n",
       "    <tr>\n",
       "      <th>0.784221</th>\n",
       "      <td>2.203137</td>\n",
       "    </tr>\n",
       "    <tr>\n",
       "      <th>0.628051</th>\n",
       "      <td>1.764403</td>\n",
       "    </tr>\n",
       "    <tr>\n",
       "      <th>0.491584</th>\n",
       "      <td>1.381023</td>\n",
       "    </tr>\n",
       "    <tr>\n",
       "      <th>0.362878</th>\n",
       "      <td>1.019445</td>\n",
       "    </tr>\n",
       "    <tr>\n",
       "      <th>0.304552</th>\n",
       "      <td>0.855587</td>\n",
       "    </tr>\n",
       "    <tr>\n",
       "      <th>0.208978</th>\n",
       "      <td>0.587088</td>\n",
       "    </tr>\n",
       "    <tr>\n",
       "      <th>0.164320</th>\n",
       "      <td>0.461631</td>\n",
       "    </tr>\n",
       "    <tr>\n",
       "      <th>0.144789</th>\n",
       "      <td>0.406760</td>\n",
       "    </tr>\n",
       "    <tr>\n",
       "      <th>0.103625</th>\n",
       "      <td>0.291117</td>\n",
       "    </tr>\n",
       "    <tr>\n",
       "      <th>0.066558</th>\n",
       "      <td>0.186985</td>\n",
       "    </tr>\n",
       "    <tr>\n",
       "      <th>0.003946</th>\n",
       "      <td>0.011085</td>\n",
       "    </tr>\n",
       "    <tr>\n",
       "      <th>-0.077228</th>\n",
       "      <td>-0.216958</td>\n",
       "    </tr>\n",
       "    <tr>\n",
       "      <th>-0.051955</th>\n",
       "      <td>-0.145959</td>\n",
       "    </tr>\n",
       "    <tr>\n",
       "      <th>0.020523</th>\n",
       "      <td>0.057656</td>\n",
       "    </tr>\n",
       "    <tr>\n",
       "      <th>0.072783</th>\n",
       "      <td>0.204472</td>\n",
       "    </tr>\n",
       "    <tr>\n",
       "      <th>0.070754</th>\n",
       "      <td>0.198770</td>\n",
       "    </tr>\n",
       "    <tr>\n",
       "      <th>0.001334</th>\n",
       "      <td>0.003747</td>\n",
       "    </tr>\n",
       "    <tr>\n",
       "      <th>-0.057436</th>\n",
       "      <td>-0.161358</td>\n",
       "    </tr>\n",
       "    <tr>\n",
       "      <th>-0.123125</th>\n",
       "      <td>-0.345900</td>\n",
       "    </tr>\n",
       "    <tr>\n",
       "      <th>-0.180547</th>\n",
       "      <td>-0.507217</td>\n",
       "    </tr>\n",
       "    <tr>\n",
       "      <th>-0.162466</th>\n",
       "      <td>-0.456422</td>\n",
       "    </tr>\n",
       "    <tr>\n",
       "      <th>-0.145980</th>\n",
       "      <td>-0.410105</td>\n",
       "    </tr>\n",
       "    <tr>\n",
       "      <th>-0.087419</th>\n",
       "      <td>-0.245588</td>\n",
       "    </tr>\n",
       "    <tr>\n",
       "      <th>-0.011577</th>\n",
       "      <td>-0.032525</td>\n",
       "    </tr>\n",
       "    <tr>\n",
       "      <th>0.063172</th>\n",
       "      <td>0.177472</td>\n",
       "    </tr>\n",
       "  </tbody>\n",
       "</table>\n",
       "</div>"
      ],
      "text/plain": [
       "                  0\n",
       " 1.000000  2.809332\n",
       " 0.784221  2.203137\n",
       " 0.628051  1.764403\n",
       " 0.491584  1.381023\n",
       " 0.362878  1.019445\n",
       " 0.304552  0.855587\n",
       " 0.208978  0.587088\n",
       " 0.164320  0.461631\n",
       " 0.144789  0.406760\n",
       " 0.103625  0.291117\n",
       " 0.066558  0.186985\n",
       " 0.003946  0.011085\n",
       "-0.077228 -0.216958\n",
       "-0.051955 -0.145959\n",
       " 0.020523  0.057656\n",
       " 0.072783  0.204472\n",
       " 0.070754  0.198770\n",
       " 0.001334  0.003747\n",
       "-0.057436 -0.161358\n",
       "-0.123125 -0.345900\n",
       "-0.180547 -0.507217\n",
       "-0.162466 -0.456422\n",
       "-0.145980 -0.410105\n",
       "-0.087419 -0.245588\n",
       "-0.011577 -0.032525\n",
       " 0.063172  0.177472"
      ]
     },
     "execution_count": 53,
     "metadata": {},
     "output_type": "execute_result"
    }
   ],
   "source": [
    "df3"
   ]
  },
  {
   "cell_type": "code",
   "execution_count": 59,
   "id": "c40dce60",
   "metadata": {},
   "outputs": [],
   "source": [
    "df3[\"New_column\"] = range(0,26)"
   ]
  },
  {
   "cell_type": "code",
   "execution_count": 60,
   "id": "bc9dc5e4",
   "metadata": {},
   "outputs": [
    {
     "data": {
      "text/html": [
       "<div>\n",
       "<style scoped>\n",
       "    .dataframe tbody tr th:only-of-type {\n",
       "        vertical-align: middle;\n",
       "    }\n",
       "\n",
       "    .dataframe tbody tr th {\n",
       "        vertical-align: top;\n",
       "    }\n",
       "\n",
       "    .dataframe thead th {\n",
       "        text-align: right;\n",
       "    }\n",
       "</style>\n",
       "<table border=\"1\" class=\"dataframe\">\n",
       "  <thead>\n",
       "    <tr style=\"text-align: right;\">\n",
       "      <th></th>\n",
       "      <th>0</th>\n",
       "      <th>New_column</th>\n",
       "    </tr>\n",
       "  </thead>\n",
       "  <tbody>\n",
       "    <tr>\n",
       "      <th>1.000000</th>\n",
       "      <td>2.809332</td>\n",
       "      <td>0</td>\n",
       "    </tr>\n",
       "    <tr>\n",
       "      <th>0.784221</th>\n",
       "      <td>2.203137</td>\n",
       "      <td>1</td>\n",
       "    </tr>\n",
       "    <tr>\n",
       "      <th>0.628051</th>\n",
       "      <td>1.764403</td>\n",
       "      <td>2</td>\n",
       "    </tr>\n",
       "    <tr>\n",
       "      <th>0.491584</th>\n",
       "      <td>1.381023</td>\n",
       "      <td>3</td>\n",
       "    </tr>\n",
       "    <tr>\n",
       "      <th>0.362878</th>\n",
       "      <td>1.019445</td>\n",
       "      <td>4</td>\n",
       "    </tr>\n",
       "    <tr>\n",
       "      <th>0.304552</th>\n",
       "      <td>0.855587</td>\n",
       "      <td>5</td>\n",
       "    </tr>\n",
       "    <tr>\n",
       "      <th>0.208978</th>\n",
       "      <td>0.587088</td>\n",
       "      <td>6</td>\n",
       "    </tr>\n",
       "    <tr>\n",
       "      <th>0.164320</th>\n",
       "      <td>0.461631</td>\n",
       "      <td>7</td>\n",
       "    </tr>\n",
       "    <tr>\n",
       "      <th>0.144789</th>\n",
       "      <td>0.406760</td>\n",
       "      <td>8</td>\n",
       "    </tr>\n",
       "    <tr>\n",
       "      <th>0.103625</th>\n",
       "      <td>0.291117</td>\n",
       "      <td>9</td>\n",
       "    </tr>\n",
       "    <tr>\n",
       "      <th>0.066558</th>\n",
       "      <td>0.186985</td>\n",
       "      <td>10</td>\n",
       "    </tr>\n",
       "    <tr>\n",
       "      <th>0.003946</th>\n",
       "      <td>0.011085</td>\n",
       "      <td>11</td>\n",
       "    </tr>\n",
       "    <tr>\n",
       "      <th>-0.077228</th>\n",
       "      <td>-0.216958</td>\n",
       "      <td>12</td>\n",
       "    </tr>\n",
       "    <tr>\n",
       "      <th>-0.051955</th>\n",
       "      <td>-0.145959</td>\n",
       "      <td>13</td>\n",
       "    </tr>\n",
       "    <tr>\n",
       "      <th>0.020523</th>\n",
       "      <td>0.057656</td>\n",
       "      <td>14</td>\n",
       "    </tr>\n",
       "    <tr>\n",
       "      <th>0.072783</th>\n",
       "      <td>0.204472</td>\n",
       "      <td>15</td>\n",
       "    </tr>\n",
       "    <tr>\n",
       "      <th>0.070754</th>\n",
       "      <td>0.198770</td>\n",
       "      <td>16</td>\n",
       "    </tr>\n",
       "    <tr>\n",
       "      <th>0.001334</th>\n",
       "      <td>0.003747</td>\n",
       "      <td>17</td>\n",
       "    </tr>\n",
       "    <tr>\n",
       "      <th>-0.057436</th>\n",
       "      <td>-0.161358</td>\n",
       "      <td>18</td>\n",
       "    </tr>\n",
       "    <tr>\n",
       "      <th>-0.123125</th>\n",
       "      <td>-0.345900</td>\n",
       "      <td>19</td>\n",
       "    </tr>\n",
       "    <tr>\n",
       "      <th>-0.180547</th>\n",
       "      <td>-0.507217</td>\n",
       "      <td>20</td>\n",
       "    </tr>\n",
       "    <tr>\n",
       "      <th>-0.162466</th>\n",
       "      <td>-0.456422</td>\n",
       "      <td>21</td>\n",
       "    </tr>\n",
       "    <tr>\n",
       "      <th>-0.145980</th>\n",
       "      <td>-0.410105</td>\n",
       "      <td>22</td>\n",
       "    </tr>\n",
       "    <tr>\n",
       "      <th>-0.087419</th>\n",
       "      <td>-0.245588</td>\n",
       "      <td>23</td>\n",
       "    </tr>\n",
       "    <tr>\n",
       "      <th>-0.011577</th>\n",
       "      <td>-0.032525</td>\n",
       "      <td>24</td>\n",
       "    </tr>\n",
       "    <tr>\n",
       "      <th>0.063172</th>\n",
       "      <td>0.177472</td>\n",
       "      <td>25</td>\n",
       "    </tr>\n",
       "  </tbody>\n",
       "</table>\n",
       "</div>"
      ],
      "text/plain": [
       "                  0  New_column\n",
       " 1.000000  2.809332           0\n",
       " 0.784221  2.203137           1\n",
       " 0.628051  1.764403           2\n",
       " 0.491584  1.381023           3\n",
       " 0.362878  1.019445           4\n",
       " 0.304552  0.855587           5\n",
       " 0.208978  0.587088           6\n",
       " 0.164320  0.461631           7\n",
       " 0.144789  0.406760           8\n",
       " 0.103625  0.291117           9\n",
       " 0.066558  0.186985          10\n",
       " 0.003946  0.011085          11\n",
       "-0.077228 -0.216958          12\n",
       "-0.051955 -0.145959          13\n",
       " 0.020523  0.057656          14\n",
       " 0.072783  0.204472          15\n",
       " 0.070754  0.198770          16\n",
       " 0.001334  0.003747          17\n",
       "-0.057436 -0.161358          18\n",
       "-0.123125 -0.345900          19\n",
       "-0.180547 -0.507217          20\n",
       "-0.162466 -0.456422          21\n",
       "-0.145980 -0.410105          22\n",
       "-0.087419 -0.245588          23\n",
       "-0.011577 -0.032525          24\n",
       " 0.063172  0.177472          25"
      ]
     },
     "execution_count": 60,
     "metadata": {},
     "output_type": "execute_result"
    }
   ],
   "source": [
    "df3"
   ]
  },
  {
   "cell_type": "code",
   "execution_count": null,
   "id": "913b9fcf",
   "metadata": {},
   "outputs": [],
   "source": []
  },
  {
   "cell_type": "code",
   "execution_count": null,
   "id": "61bdf466",
   "metadata": {},
   "outputs": [],
   "source": []
  },
  {
   "cell_type": "code",
   "execution_count": null,
   "id": "f8f70013",
   "metadata": {},
   "outputs": [],
   "source": []
  },
  {
   "cell_type": "code",
   "execution_count": null,
   "id": "d0407658",
   "metadata": {},
   "outputs": [],
   "source": []
  },
  {
   "cell_type": "code",
   "execution_count": null,
   "id": "17decacf",
   "metadata": {},
   "outputs": [],
   "source": []
  },
  {
   "cell_type": "code",
   "execution_count": null,
   "id": "b5ab1883",
   "metadata": {},
   "outputs": [],
   "source": []
  },
  {
   "cell_type": "code",
   "execution_count": 20,
   "id": "ed662aeb",
   "metadata": {},
   "outputs": [
    {
     "name": "stdout",
     "output_type": "stream",
     "text": [
      "     week    Sales           Ck            C0\n",
      "0       1  10618.1  23200.01905  46877.516433\n",
      "1       2  10537.9  23200.01905  46877.516433\n",
      "2       3  10209.3  23200.01905  46877.516433\n",
      "3       4  10553.0  23200.01905  46877.516433\n",
      "4       5   9934.9  23200.01905  46877.516433\n",
      "..    ...      ...          ...           ...\n",
      "115   116  10650.0  23200.01905  46877.516433\n",
      "116   117  10741.6  23200.01905  46877.516433\n",
      "117   118  10246.0  23200.01905  46877.516433\n",
      "118   119  10354.4  23200.01905  46877.516433\n",
      "119   120  10155.4  23200.01905  46877.516433\n",
      "\n",
      "[120 rows x 4 columns]\n"
     ]
    }
   ],
   "source": [
    "# Calculate autocovariance at T/4 lag\n",
    "lag_t4 = len(df['Sales']) // 4\n",
    "autocovariance_t4 = autocovariance(df['Sales'], lag_t4)\n",
    "\n",
    "# Calculate autocovariance at lag 0\n",
    "autocovariance_0 = autocovariance(df['Sales'], 0)\n",
    "\n",
    "# Create a new DataFrame with Ck and C0 columns\n",
    "autocovariance_df = pd.DataFrame({\n",
    "    'Ck': [autocovariance_t4] * len(df),\n",
    "    'C0': [autocovariance_0] * len(df),\n",
    "})\n",
    "\n",
    "# Concatenate the new DataFrame with the original DataFrame\n",
    "result_df = pd.concat([df, autocovariance_df], axis=1)\n",
    "\n",
    "# Print the result\n",
    "print(result_df)"
   ]
  },
  {
   "cell_type": "code",
   "execution_count": null,
   "id": "23b8683d",
   "metadata": {},
   "outputs": [],
   "source": []
  },
  {
   "cell_type": "code",
   "execution_count": null,
   "id": "76378fa0",
   "metadata": {},
   "outputs": [],
   "source": []
  }
 ],
 "metadata": {
  "kernelspec": {
   "display_name": "Python 3 (ipykernel)",
   "language": "python",
   "name": "python3"
  },
  "language_info": {
   "codemirror_mode": {
    "name": "ipython",
    "version": 3
   },
   "file_extension": ".py",
   "mimetype": "text/x-python",
   "name": "python",
   "nbconvert_exporter": "python",
   "pygments_lexer": "ipython3",
   "version": "3.11.1"
  },
  "nbTranslate": {
   "displayLangs": [
    "*"
   ],
   "hotkey": "alt-t",
   "langInMainMenu": true,
   "sourceLang": "en",
   "targetLang": "fr",
   "useGoogleTranslate": true
  },
  "toc": {
   "base_numbering": 1,
   "nav_menu": {},
   "number_sections": true,
   "sideBar": true,
   "skip_h1_title": false,
   "title_cell": "Table of Contents",
   "title_sidebar": "Contents",
   "toc_cell": false,
   "toc_position": {},
   "toc_section_display": true,
   "toc_window_display": false
  },
  "varInspector": {
   "cols": {
    "lenName": 16,
    "lenType": 16,
    "lenVar": 40
   },
   "kernels_config": {
    "python": {
     "delete_cmd_postfix": "",
     "delete_cmd_prefix": "del ",
     "library": "var_list.py",
     "varRefreshCmd": "print(var_dic_list())"
    },
    "r": {
     "delete_cmd_postfix": ") ",
     "delete_cmd_prefix": "rm(",
     "library": "var_list.r",
     "varRefreshCmd": "cat(var_dic_list()) "
    }
   },
   "types_to_exclude": [
    "module",
    "function",
    "builtin_function_or_method",
    "instance",
    "_Feature"
   ],
   "window_display": false
  }
 },
 "nbformat": 4,
 "nbformat_minor": 5
}
