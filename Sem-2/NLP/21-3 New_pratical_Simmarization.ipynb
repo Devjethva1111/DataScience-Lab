{
 "cells": [
  {
   "cell_type": "code",
   "execution_count": 7,
   "id": "5462d140",
   "metadata": {},
   "outputs": [
    {
     "name": "stderr",
     "output_type": "stream",
     "text": [
      "[nltk_data] Downloading package punkt to\n",
      "[nltk_data]     C:\\Users\\devje\\AppData\\Roaming\\nltk_data...\n",
      "[nltk_data]   Package punkt is already up-to-date!\n"
     ]
    },
    {
     "data": {
      "text/plain": [
       "True"
      ]
     },
     "execution_count": 7,
     "metadata": {},
     "output_type": "execute_result"
    }
   ],
   "source": [
    "import nltk\n",
    "\n",
    "from nltk.corpus import stopwords\n",
    "from nltk.tokenize import word_tokenize, sent_tokenize\n",
    "nltk.download('punkt')"
   ]
  },
  {
   "cell_type": "code",
   "execution_count": 10,
   "id": "ceb2b0d6",
   "metadata": {},
   "outputs": [
    {
     "name": "stderr",
     "output_type": "stream",
     "text": [
      "[nltk_data] Downloading package stopwords to\n",
      "[nltk_data]     C:\\Users\\devje\\AppData\\Roaming\\nltk_data...\n",
      "[nltk_data]   Package stopwords is already up-to-date!\n"
     ]
    },
    {
     "data": {
      "text/plain": [
       "True"
      ]
     },
     "execution_count": 10,
     "metadata": {},
     "output_type": "execute_result"
    }
   ],
   "source": [
    "nltk.download('stopwords')"
   ]
  },
  {
   "cell_type": "code",
   "execution_count": 8,
   "id": "b2ed29a3",
   "metadata": {},
   "outputs": [],
   "source": [
    "from docx import Document"
   ]
  },
  {
   "cell_type": "code",
   "execution_count": 12,
   "id": "f8d15ce1",
   "metadata": {
    "scrolled": false
   },
   "outputs": [
    {
     "name": "stdout",
     "output_type": "stream",
     "text": [
      "\n",
      "Tokens for Document 1 after removing stopwords:\n",
      "Words: ['Formula', 'One', ',', 'commonly', 'known', 'Formula', '1', 'F1', ',', 'highest', 'class', 'international', 'racing', 'open-wheel', 'single-seater', 'formula', 'racing', 'cars', 'sanctioned', 'Fédération', 'Internationale', 'de', \"l'Automobile\", '(', 'FIA', ')', '.', 'FIA', 'Formula', 'One', 'World', 'Championship', 'one', 'premier', 'forms', 'racing', 'around', 'world', 'since', 'inaugural', 'running', '1950', '.', 'word', 'formula', 'name', 'refers', 'set', 'rules', 'participants', \"'\", 'cars', 'must', 'conform', '.', 'Formula', 'One', 'season', 'consists', 'series', 'races', ',', 'known', 'Grands', 'Prix', '.', 'Grands', 'Prix', 'take', 'place', 'multiple', 'countries', 'continents', 'around', 'world', 'either', 'purpose-built', 'circuits', 'closed', 'public', 'roads', '.', 'point-system', 'used', 'Grands', 'Prix', 'determine', 'two', 'annual', 'World', 'Championships', ':', 'one', 'drivers', ',', 'one', 'constructors', '(', 'teams', ')', '.', 'driver', 'must', 'hold', 'valid', 'Super', 'Licence', ',', 'highest', 'class', 'racing', 'licence', 'issued', 'FIA', ',', 'races', 'must', 'held', 'grade', 'one', 'tracks', ',', 'highest', 'grade-rating', 'issued', 'FIA', 'tracks', '.']\n",
      "Sentences: [\"Formula One, commonly known as Formula 1 or F1, is the highest class of international racing for open-wheel single-seater formula racing cars sanctioned by the Fédération Internationale de l'Automobile (FIA).\", 'The FIA Formula One World Championship has been one of the premier forms of racing around the world since its inaugural running in 1950.', \"The word formula in the name refers to the set of rules to which all participants' cars must conform.\", 'A Formula One season consists of a series of races, known as Grands Prix.', 'Grands Prix take place in multiple countries and continents around the world on either purpose-built circuits or closed public roads.', 'A point-system is used at Grands Prix to determine two annual World Championships: one for the drivers, and one for the constructors (the teams).', 'Each driver must hold a valid Super Licence, the highest class of racing licence issued by the FIA, and the races must be held on grade one tracks, the highest grade-rating issued by the FIA for tracks.']\n",
      "\n",
      "Tokens for Document 2 after removing stopwords:\n",
      "Words: ['track', ',', 'McLaren', 'Williams', 'teams', 'dominated', '1980s', '1990s', '.', 'Brabham', 'also', 'competitive', 'early', 'part', '1980s', ',', 'winning', 'two', 'Drivers', \"'\", 'Championships', 'Nelson', 'Piquet', '.', 'Powered', 'Porsche', ',', 'Honda', ',', 'Mercedes-Benz', ',', 'McLaren', 'sixteen', 'championships', '(', 'seven', 'constructors', \"'\", 'nine', 'drivers', \"'\", ')', 'period', ',', 'Williams', 'used', 'engines', 'Ford', ',', 'Honda', ',', 'Renault', 'also', 'win', 'sixteen', 'titles', '(', 'nine', 'constructors', \"'\", 'seven', 'drivers', \"'\", ')', '.', 'rivalry', 'racers', 'Ayrton', 'Senna', 'Alain', 'Prost', 'became', 'F1', \"'s\", 'central', 'focus', '1988', 'continued', 'Prost', 'retired', 'end', '1993', '.', 'Senna', 'died', '1994', 'San', 'Marino', 'Grand', 'Prix', 'crashing', 'wall', 'exit', 'notorious', 'curve', 'Tamburello', '.', 'FIA', 'worked', 'improve', 'sport', \"'s\", 'safety', 'standards', 'since', 'weekend', ',', 'Roland', 'Ratzenberger', 'also', 'died', 'accident', 'Saturday', 'qualifying', '.', 'driver', 'died', 'injuries', 'sustained', 'track', 'wheel', 'Formula', 'One', 'car', '20', 'years', '2014', 'Japanese', 'Grand', 'Prix', ',', 'Jules', 'Bianchi', 'collided', 'recovery', 'vehicle', 'aquaplaning', 'circuit', ',', 'dying', 'nine', 'months', 'later', 'injuries', '.', 'Since', '1994', ',', 'three', 'track', 'marshals', 'died', ',', 'one', '2000', 'Italian', 'Grand', 'Prix', ',', '[', '31', ']', 'second', '2001', 'Australian', 'Grand', 'Prix', '[', '31', ']', 'third', '2013', 'Canadian', 'Grand', 'Prix', '.']\n",
      "Sentences: ['On the track, the McLaren and Williams teams dominated the 1980s and 1990s.', \"Brabham were also being competitive during the early part of the 1980s, winning two Drivers' Championships with Nelson Piquet.\", \"Powered by Porsche, Honda, and Mercedes-Benz, McLaren won sixteen championships (seven constructors' and nine drivers') in that period, while Williams used engines from Ford, Honda, and Renault to also win sixteen titles (nine constructors' and seven drivers').\", \"The rivalry between racers Ayrton Senna and Alain Prost became F1's central focus during 1988 and continued until Prost retired at the end of 1993.\", 'Senna died at the 1994 San Marino Grand Prix after crashing into a wall on the exit of the notorious curve Tamburello.', \"The FIA worked to improve the sport's safety standards since that weekend, during which Roland Ratzenberger also died in an accident during Saturday qualifying.\", 'No driver died of injuries sustained on the track at the wheel of a Formula One car for 20 years until the 2014 Japanese Grand Prix, where Jules Bianchi collided with a recovery vehicle after aquaplaning off the circuit, dying nine months later from his injuries.', 'Since 1994, three track marshals have died, one at the 2000 Italian Grand Prix,[31] the second at the 2001 Australian Grand Prix[31] and the third at the 2013 Canadian Grand Prix.']\n",
      "\n",
      "Tokens for Document 3 after removing stopwords:\n",
      "Words: ['major', 'rule', 'shake-up', '2014', 'saw', '2.4-litre', 'naturally', 'aspirated', 'V8', 'engines', 'replaced', '1.6-litre', 'turbocharged', 'hybrid', 'power', 'units', '.', 'prompted', 'Honda', 'return', 'sport', '2015', 'championship', \"'s\", 'fourth', 'power', 'unit', 'manufacturer', '.', 'Mercedes', 'emerged', 'dominant', 'force', 'rule', 'shake-up', ',', 'Lewis', 'Hamilton', 'winning', 'championship', 'closely', 'followed', 'main', 'rival', 'teammate', ',', 'Nico', 'Rosberg', ',', 'team', 'winning', '16', '19', 'races', 'season', '.', 'team', 'continued', 'form', 'following', 'two', 'seasons', ',', 'winning', '16', 'races', '2015', 'taking', 'record', '19', 'wins', '2016', ',', 'Hamilton', 'claiming', 'title', 'former', 'year', 'Rosberg', 'winning', 'latter', 'five', 'points', '.', '2016', 'season', 'also', 'saw', 'new', 'team', ',', 'Haas', ',', 'join', 'grid', ',', 'Max', 'Verstappen', 'became', 'youngest-ever', 'race', 'winner', 'age', '18', 'Spain', '.']\n",
      "Sentences: ['A major rule shake-up in 2014 saw the 2.4-litre naturally aspirated V8 engines replaced by 1.6-litre turbocharged hybrid power units.', \"This prompted Honda to return to the sport in 2015 as the championship's fourth power unit manufacturer.\", 'Mercedes emerged as the dominant force after the rule shake-up, with Lewis Hamilton winning the championship closely followed by his main rival and teammate, Nico Rosberg, with the team winning 16 out of the 19 races that season.', 'The team continued this form in the following two seasons, again winning 16 races in 2015 before taking a record 19 wins in 2016, with Hamilton claiming the title in the former year and Rosberg winning it in the latter by five points.', 'The 2016 season also saw a new team, Haas, join the grid, while Max Verstappen became the youngest-ever race winner at the age of 18 in Spain.']\n",
      "\n",
      "Tokens for Document 4 after removing stopwords:\n",
      "Words: ['race', 'begins', 'warm-up', 'lap', ',', 'cars', 'assemble', 'starting', 'grid', 'order', 'qualified', '.', 'lap', 'often', 'referred', 'formation', 'lap', ',', 'cars', 'lap', 'formation', 'overtaking', '(', 'although', 'driver', 'makes', 'mistake', 'may', 'regain', 'lost', 'ground', ')', '.', 'warm-up', 'lap', 'allows', 'drivers', 'check', 'condition', 'track', 'car', ',', 'gives', 'tyres', 'chance', 'warm', 'increase', 'traction', 'grip', ',', 'also', 'gives', 'pit', 'crews', 'time', 'clear', 'equipment', 'grid', 'race', 'start', '.']\n",
      "Sentences: ['The race begins with a warm-up lap, after which the cars assemble on the starting grid in the order they qualified.', 'This lap is often referred to as the formation lap, as the cars lap in formation with no overtaking (although a driver who makes a mistake may regain lost ground).', 'The warm-up lap allows drivers to check the condition of the track and their car, gives the tyres a chance to warm up to increase traction and grip, and also gives the pit crews time to clear themselves and their equipment from the grid for the race start.']\n",
      "\n",
      "Tokens for Document 5 after removing stopwords:\n",
      "Words: ['Formula', 'One', 'constructor', 'entity', 'credited', 'designing', 'chassis', 'engine', '.', '[', '97', ']', 'designed', 'company', ',', 'company', 'receives', 'sole', 'credit', 'constructor', '(', 'e.g.', ',', 'Ferrari', ')', '.', 'designed', 'different', 'companies', ',', 'credited', ',', 'name', 'chassis', 'designer', 'placed', 'engine', 'designer', '(', 'e.g.', ',', 'McLaren-Mercedes', ')', '.', 'constructors', 'scored', 'individually', ',', 'even', 'share', 'either', 'chassis', 'engine', 'another', 'constructor', '(', 'e.g.', ',', 'Williams-Ford', ',', 'Williams-Honda', '1983', ')', '.']\n",
      "Sentences: ['A Formula One constructor is the entity credited for designing the chassis and the engine.', '[97] If both are designed by the same company, that company receives sole credit as the constructor (e.g., Ferrari).', 'If they are designed by different companies, both are credited, and the name of the chassis designer is placed before that of the engine designer (e.g., McLaren-Mercedes).', 'All constructors are scored individually, even if they share either chassis or engine with another constructor (e.g., Williams-Ford, Williams-Honda in 1983).']\n",
      "\n",
      "Tokens for Document 6 after removing stopwords:\n",
      "Words: ['use', 'volunteers', 'integral', 'making', 'maintaining', 'Wikipedia', '.', 'However', ',', 'even', 'without', 'internet', ',', 'huge', 'complex', 'projects', 'similar', 'nature', 'made', 'use', 'volunteers', '.', 'Specifically', ',', 'creation', 'Oxford', 'English', 'Dictionary', 'conceived', 'speech', 'London', 'Library', ',', 'Guy', 'Fawkes', 'Day', ',', '5', 'November', '1857', ',', 'Richard', 'Chenevix', 'Trench', '.', 'took', '70', 'years', 'complete', '.', 'Dr.', 'Trench', 'envisioned', 'grand', 'new', 'dictionary', 'every', 'word', 'English', 'language', ',', 'used', 'democratically', 'freely', '.', 'According', 'author', 'Simon', 'Winchester', ',', '``', 'undertaking', 'scheme', ',', 'said', ',', 'beyond', 'ability', 'one', 'man', '.', 'peruse', 'English', 'literature', '–', 'comb', 'London', 'New', 'York', 'newspapers', 'literate', 'magazines', 'journals', '–', 'must', 'instead', \"'the\", 'combined', 'action', 'many', '.', \"'\", 'would', 'necessary', 'recruit', 'team', '–', 'moreover', ',', 'huge', 'one', '–', 'probably', 'comprising', 'hundreds', 'hundreds', 'unpaid', 'amateurs', ',', 'working', 'volunteers', '.']\n",
      "Sentences: ['The use of volunteers was integral in making and maintaining Wikipedia.', 'However, even without the internet, huge complex projects of similar nature had made use of volunteers.', 'Specifically, the creation of the Oxford English Dictionary was conceived with the speech at the London Library, on Guy Fawkes Day, 5 November 1857, by Richard Chenevix Trench.', 'It took about 70 years to complete.', 'Dr. Trench envisioned a grand new dictionary of every word in the English language, and to be used democratically and freely.', 'According to author Simon Winchester, \"The undertaking of the scheme, he said, was beyond the ability of any one man.', \"To peruse all of English literature – and to comb the London and New York newspapers and the most literate of the magazines and journals – must be instead 'the combined action of many.'\", 'It would be necessary to recruit a team – moreover, a huge one – probably comprising hundreds and hundreds of unpaid amateurs, all of them working as volunteers.']\n"
     ]
    }
   ],
   "source": [
    "def read_word_files(file_paths):\n",
    "    all_content = []\n",
    "    for file_path in file_paths:\n",
    "        try:\n",
    "            doc = Document(file_path)\n",
    "            text = []\n",
    "            for paragraph in doc.paragraphs:\n",
    "                text.append(paragraph.text)\n",
    "            all_content.append('\\n'.join(text))\n",
    "        except Exception as e:\n",
    "            print(f\"Error reading the Word file '{file_path}': {e}\")\n",
    "    return all_content\n",
    "\n",
    "word_file_paths = [r\"H:\\DataScience-Lab\\Sem-2\\NLP\\Doc1.docx\", r\"H:\\DataScience-Lab\\Sem-2\\NLP\\Doc2.docx\", r\"H:\\DataScience-Lab\\Sem-2\\NLP\\Doc3.docx\",\n",
    "                   r\"H:\\DataScience-Lab\\Sem-2\\NLP\\Doc4.docx\", r\"H:\\DataScience-Lab\\Sem-2\\NLP\\Doc5.docx\", r\"H:\\DataScience-Lab\\Sem-2\\NLP\\Doc6.docx\"]\n",
    "\n",
    "contents = read_word_files(word_file_paths)\n",
    "\n",
    "def tokenize_and_remove_stopwords(contents):\n",
    "    stop_words = set(stopwords.words('english'))\n",
    "    tokenized_docs = []\n",
    "    for doc_content in contents:\n",
    "        words = word_tokenize(doc_content)\n",
    "        words = [word for word in words if word.lower() not in stop_words]\n",
    "        sentences = sent_tokenize(doc_content)\n",
    "        tokenized_docs.append((words, sentences))\n",
    "    return tokenized_docs\n",
    "\n",
    "tokenized_docs_no_stopwords = tokenize_and_remove_stopwords(contents)\n",
    "\n",
    "for i, (words, sentences) in enumerate(tokenized_docs_no_stopwords, start=1):\n",
    "    print(f\"\\nTokens for Document {i} after removing stopwords:\")\n",
    "    print(\"Words:\", words)\n",
    "    print(\"Sentences:\", sentences)"
   ]
  },
  {
   "cell_type": "code",
   "execution_count": 13,
   "id": "035b12fe",
   "metadata": {},
   "outputs": [],
   "source": [
    "import numpy as np\n",
    "from sklearn.feature_extraction.text import TfidfVectorizer\n",
    "from nltk.tokenize import sent_tokenize, word_tokenize"
   ]
  },
  {
   "cell_type": "code",
   "execution_count": 14,
   "id": "a964079b",
   "metadata": {},
   "outputs": [
    {
     "name": "stdout",
     "output_type": "stream",
     "text": [
      "Top 5 words based on TF-IDF scores:\n",
      "one: 0.09446063755636129\n",
      "lap: 0.09063245606237069\n",
      "prix: 0.07810972780528723\n",
      "formula: 0.07234073035134353\n",
      "chassis: 0.061396642684729705\n",
      "\n",
      "Selected Sentences based on TF-IDF:\n",
      "1. Formula One season consists series races , known Grands Prix .\n",
      "2. point-system used Grands Prix determine two annual World Championships : one drivers , one constructors ( teams ) .\n",
      "3. driver died injuries sustained track wheel Formula One car 20 years 2014 Japanese Grand Prix , Jules Bianchi collided recovery vehicle aquaplaning circuit , dying nine months later injuries .\n",
      "4. Since 1994 , three track marshals died , one 2000 Italian Grand Prix , [ 31 ] second 2001 Australian Grand Prix [ 31 ] third 2013 Canadian Grand Prix .\n",
      "5. 2016 season also saw new team , Haas , join grid , Max Verstappen became youngest-ever race winner age 18 Spain .\n",
      "6. team continued form following two seasons , winning 16 races 2015 taking record 19 wins 2016 , Hamilton claiming title former year Rosberg winning latter five points .\n",
      "7. warm-up lap allows drivers check condition track car , gives tyres chance warm increase traction grip , also gives pit crews time clear equipment grid race start .\n",
      "8. lap often referred formation lap , cars lap formation overtaking ( although driver makes mistake may regain lost ground ) .\n",
      "9. Formula One constructor entity credited designing chassis engine .\n",
      "10. constructors scored individually , even share either chassis engine another constructor ( e.g.\n",
      "11. would necessary recruit team – moreover , huge one – probably comprising hundreds hundreds unpaid amateurs , working volunteers .\n",
      "12. According author Simon Winchester , `` undertaking scheme , said , beyond ability one man .\n"
     ]
    }
   ],
   "source": [
    "def select_content_tfidf(tokenized_docs, num_sentences):\n",
    "    documents = [' '.join(words) for words, _ in tokenized_docs]\n",
    "\n",
    "    vectorizer = TfidfVectorizer()\n",
    "    tfidf_matrix = vectorizer.fit_transform(documents)\n",
    "    feature_names = vectorizer.get_feature_names_out()\n",
    "    word_tfidf_means = np.mean(tfidf_matrix, axis=0)\n",
    "    word_tfidf_means = np.array(word_tfidf_means).reshape(-1)\n",
    "    top_word_indices = np.argsort(word_tfidf_means)[::-1][:5]  \n",
    "\n",
    "    print(\"Top 5 words based on TF-IDF scores:\")\n",
    "    for idx in top_word_indices[:5]:\n",
    "        word = feature_names[idx]\n",
    "        tfidf_score = word_tfidf_means[idx]\n",
    "        print(f\"{word}: {tfidf_score}\")\n",
    "    \n",
    "    selected_sentences = []\n",
    "    for doc_idx, (words, _) in enumerate(tokenized_docs):\n",
    "        doc_content = ' '.join(words)\n",
    "        sentences = sent_tokenize(doc_content)\n",
    "        sentence_tfidf_scores = []\n",
    "        for sentence in sentences:\n",
    "            sentence_words = word_tokenize(sentence.lower())\n",
    "            sentence_tfidf = 0\n",
    "            for word_idx in top_word_indices:\n",
    "                word = feature_names[word_idx]\n",
    "                if word in sentence_words:\n",
    "                    word_tfidf = word_tfidf_means[word_idx]\n",
    "                    sentence_tfidf += word_tfidf\n",
    "            sentence_tfidf_scores.append(sentence_tfidf)\n",
    "        top_sentence_indices = np.argsort(sentence_tfidf_scores)[::-1][:num_sentences]\n",
    "        selected_sentences.extend([sentences[idx] for idx in top_sentence_indices])\n",
    "    return selected_sentences\n",
    "\n",
    "selected_sentences_tfidf = select_content_tfidf(tokenized_docs_no_stopwords, num_sentences=2)\n",
    "print(\"\\nSelected Sentences based on TF-IDF:\")\n",
    "for i, sentence in enumerate(selected_sentences_tfidf, start=1):\n",
    "    print(f\"{i}. {sentence}\")"
   ]
  },
  {
   "cell_type": "code",
   "execution_count": 17,
   "id": "0b6594f1",
   "metadata": {},
   "outputs": [
    {
     "name": "stdout",
     "output_type": "stream",
     "text": [
      "Top 5 words based on TF scores:\n",
      ",: 0.0806697108066971\n",
      ".: 0.0532724505327245\n",
      "one: 0.0182648401826484\n",
      "formula: 0.0121765601217656\n",
      "(: 0.0121765601217656\n",
      "\n",
      "Selected Sentences based on TF:\n",
      "1. Each driver must hold a valid Super Licence, the highest class of racing licence issued by the FIA, and the races must be held on grade one tracks, the highest grade-rating issued by the FIA for tracks.\n",
      "2. Formula One, commonly known as Formula 1 or F1, is the highest class of international racing for open-wheel single-seater formula racing cars sanctioned by the Fédération Internationale de l'Automobile (FIA).\n",
      "3. Powered by Porsche, Honda, and Mercedes-Benz, McLaren won sixteen championships (seven constructors' and nine drivers') in that period, while Williams used engines from Ford, Honda, and Renault to also win sixteen titles (nine constructors' and seven drivers').\n",
      "4. Since 1994, three track marshals have died, one at the 2000 Italian Grand Prix,[31] the second at the 2001 Australian Grand Prix[31] and the third at the 2013 Canadian Grand Prix.\n",
      "5. Mercedes emerged as the dominant force after the rule shake-up, with Lewis Hamilton winning the championship closely followed by his main rival and teammate, Nico Rosberg, with the team winning 16 out of the 19 races that season.\n",
      "6. The 2016 season also saw a new team, Haas, join the grid, while Max Verstappen became the youngest-ever race winner at the age of 18 in Spain.\n",
      "7. The warm-up lap allows drivers to check the condition of the track and their car, gives the tyres a chance to warm up to increase traction and grip, and also gives the pit crews time to clear themselves and their equipment from the grid for the race start.\n",
      "8. This lap is often referred to as the formation lap, as the cars lap in formation with no overtaking (although a driver who makes a mistake may regain lost ground).\n",
      "9. All constructors are scored individually, even if they share either chassis or engine with another constructor (e.g., Williams-Ford, Williams-Honda in 1983).\n",
      "10. If they are designed by different companies, both are credited, and the name of the chassis designer is placed before that of the engine designer (e.g., McLaren-Mercedes).\n",
      "11. Specifically, the creation of the Oxford English Dictionary was conceived with the speech at the London Library, on Guy Fawkes Day, 5 November 1857, by Richard Chenevix Trench.\n",
      "12. According to author Simon Winchester, \"The undertaking of the scheme, he said, was beyond the ability of any one man.\n"
     ]
    }
   ],
   "source": [
    "from nltk.tokenize import word_tokenize\n",
    "\n",
    "def select_content_tf(tokenized_docs, num_sentences):\n",
    "    word_freq = {}\n",
    "    total_words = 0\n",
    "\n",
    "    # Calculate word frequency across all documents\n",
    "    for words, _ in tokenized_docs:\n",
    "        for word in words:\n",
    "            word = word.lower()  # Normalize words to lowercase\n",
    "            if word not in word_freq:\n",
    "                word_freq[word] = 1\n",
    "            else:\n",
    "                word_freq[word] += 1\n",
    "            total_words += 1\n",
    "\n",
    "    # Calculate TF scores for each word\n",
    "    word_tf_scores = {word: freq / total_words for word, freq in word_freq.items()}\n",
    "\n",
    "    # Select top 5 words based on TF scores\n",
    "    top_words = sorted(word_tf_scores.items(), key=lambda x: x[1], reverse=True)[:5]\n",
    "\n",
    "    print(\"Top 5 words based on TF scores:\")\n",
    "    for word, tf_score in top_words:\n",
    "        print(f\"{word}: {tf_score}\")\n",
    "\n",
    "    selected_sentences = []\n",
    "    for doc_words, doc_sentences in tokenized_docs:\n",
    "        sentence_scores = {}\n",
    "        for sentence in doc_sentences:\n",
    "            score = 0\n",
    "            for word in word_tokenize(sentence.lower()):\n",
    "                if word in word_tf_scores:\n",
    "                    score += word_tf_scores[word]\n",
    "            sentence_scores[sentence] = score\n",
    "        top_sentences = sorted(sentence_scores.items(), key=lambda x: x[1], reverse=True)[:num_sentences]\n",
    "        selected_sentences.extend([sentence for sentence, _ in top_sentences])\n",
    "\n",
    "    return selected_sentences\n",
    "\n",
    "selected_sentences_tf = select_content_tf(tokenized_docs_no_stopwords, num_sentences=2)\n",
    "print(\"\\nSelected Sentences based on TF:\")\n",
    "for i, sentence in enumerate(selected_sentences_tf, start=1):\n",
    "    print(f\"{i}. {sentence}\")\n"
   ]
  },
  {
   "cell_type": "code",
   "execution_count": 18,
   "id": "de667029",
   "metadata": {},
   "outputs": [
    {
     "name": "stdout",
     "output_type": "stream",
     "text": [
      "['track', ',', 'McLaren', 'Williams', 'teams', 'dominated', '1980s', '1990s', '.', 'Brabham', 'also', 'competitive', 'early', 'part', '1980s', ',', 'winning', 'two', 'Drivers', \"'\", 'Championships', 'Nelson', 'Piquet', '.', 'Powered', 'Porsche', ',', 'Honda', ',', 'Mercedes-Benz', ',', 'McLaren', 'sixteen', 'championships', '(', 'seven', 'constructors', \"'\", 'nine', 'drivers', \"'\", ')', 'period', ',', 'Williams', 'used', 'engines', 'Ford', ',', 'Honda', ',', 'Renault', 'also', 'win', 'sixteen', 'titles', '(', 'nine', 'constructors', \"'\", 'seven', 'drivers', \"'\", ')', '.', 'rivalry', 'racers', 'Ayrton', 'Senna', 'Alain', 'Prost', 'became', 'F1', \"'s\", 'central', 'focus', '1988', 'continued', 'Prost', 'retired', 'end', '1993', '.', 'Senna', 'died', '1994', 'San', 'Marino', 'Grand', 'Prix', 'crashing', 'wall', 'exit', 'notorious', 'curve', 'Tamburello', '.', 'FIA', 'worked', 'improve', 'sport', \"'s\", 'safety', 'standards', 'since', 'weekend', ',', 'Roland', 'Ratzenberger', 'also', 'died', 'accident', 'Saturday', 'qualifying', '.', 'driver', 'died', 'injuries', 'sustained', 'track', 'wheel', 'Formula', 'One', 'car', '20', 'years', '2014', 'Japanese', 'Grand', 'Prix', ',', 'Jules', 'Bianchi', 'collided', 'recovery', 'vehicle', 'aquaplaning', 'circuit', ',', 'dying', 'nine', 'months', 'later', 'injuries', '.', 'Since', '1994', ',', 'three', 'track', 'marshals', 'died', ',', 'one', '2000', 'Italian', 'Grand', 'Prix', ',', '[', '31', ']', 'second', '2001', 'Australian', 'Grand', 'Prix', '[', '31', ']', 'third', '2013', 'Canadian', 'Grand', 'Prix', '.']\n"
     ]
    }
   ],
   "source": [
    "import nltk\n",
    "from nltk.corpus import stopwords\n",
    "from nltk.tokenize import word_tokenize\n",
    "\n",
    "def remove_stopwords(text):\n",
    "    stop_words = set(stopwords.words('english'))\n",
    "    word_tokens = word_tokenize(text)\n",
    "    filtered_text = [word for word in word_tokens if word.lower() not in stop_words]\n",
    "    return filtered_text\n",
    "\n",
    "document = \"On the track, the McLaren and Williams teams dominated the 1980s and 1990s. Brabham were also being competitive during the early part of the 1980s, winning two Drivers' Championships with Nelson Piquet. Powered by Porsche, Honda, and Mercedes-Benz, McLaren won sixteen championships (seven constructors' and nine drivers') in that period, while Williams used engines from Ford, Honda, and Renault to also win sixteen titles (nine constructors' and seven drivers'). The rivalry between racers Ayrton Senna and Alain Prost became F1's central focus during 1988 and continued until Prost retired at the end of 1993. Senna died at the 1994 San Marino Grand Prix after crashing into a wall on the exit of the notorious curve Tamburello. The FIA worked to improve the sport's safety standards since that weekend, during which Roland Ratzenberger also died in an accident during Saturday qualifying. No driver died of injuries sustained on the track at the wheel of a Formula One car for 20 years until the 2014 Japanese Grand Prix, where Jules Bianchi collided with a recovery vehicle after aquaplaning off the circuit, dying nine months later from his injuries. Since 1994, three track marshals have died, one at the 2000 Italian Grand Prix,[31] the second at the 2001 Australian Grand Prix[31] and the third at the 2013 Canadian Grand Prix.\"\n",
    "tokenized_document = remove_stopwords(document)\n",
    "print(tokenized_document)"
   ]
  },
  {
   "cell_type": "code",
   "execution_count": 19,
   "id": "98f346a6",
   "metadata": {},
   "outputs": [
    {
     "name": "stdout",
     "output_type": "stream",
     "text": [
      "Term              TF Score\n",
      "---------------------------------------\n",
      "Grand               0.035461\n",
      "Prix                0.035461\n",
      "died                0.028369\n",
      "track               0.021277\n",
      "also                0.021277\n",
      "nine                0.021277\n",
      "McLaren             0.014184\n",
      "Williams            0.014184\n",
      "1980s               0.014184\n",
      "Honda               0.014184\n",
      "sixteen             0.014184\n",
      "seven               0.014184\n",
      "constructors        0.014184\n",
      "drivers             0.014184\n",
      "Senna               0.014184\n",
      "Prost               0.014184\n",
      "s                   0.014184\n",
      "1994                0.014184\n",
      "injuries            0.014184\n",
      "31                  0.014184\n",
      "teams               0.007092\n",
      "dominated           0.007092\n",
      "1990s               0.007092\n",
      "Brabham             0.007092\n",
      "competitive         0.007092\n",
      "early               0.007092\n",
      "part                0.007092\n",
      "winning             0.007092\n",
      "two                 0.007092\n",
      "Drivers             0.007092\n",
      "Championships       0.007092\n",
      "Nelson              0.007092\n",
      "Piquet              0.007092\n",
      "Powered             0.007092\n",
      "Porsche             0.007092\n",
      "MercedesBenz        0.007092\n",
      "championships       0.007092\n",
      "period              0.007092\n",
      "used                0.007092\n",
      "engines             0.007092\n",
      "Ford                0.007092\n",
      "Renault             0.007092\n",
      "win                 0.007092\n",
      "titles              0.007092\n",
      "rivalry             0.007092\n",
      "racers              0.007092\n",
      "Ayrton              0.007092\n",
      "Alain               0.007092\n",
      "became              0.007092\n",
      "F1                  0.007092\n",
      "central             0.007092\n",
      "focus               0.007092\n",
      "1988                0.007092\n",
      "continued           0.007092\n",
      "retired             0.007092\n",
      "end                 0.007092\n",
      "1993                0.007092\n",
      "San                 0.007092\n",
      "Marino              0.007092\n",
      "crashing            0.007092\n",
      "wall                0.007092\n",
      "exit                0.007092\n",
      "notorious           0.007092\n",
      "curve               0.007092\n",
      "Tamburello          0.007092\n",
      "FIA                 0.007092\n",
      "worked              0.007092\n",
      "improve             0.007092\n",
      "sport               0.007092\n",
      "safety              0.007092\n",
      "standards           0.007092\n",
      "since               0.007092\n",
      "weekend             0.007092\n",
      "Roland              0.007092\n",
      "Ratzenberger        0.007092\n",
      "accident            0.007092\n",
      "Saturday            0.007092\n",
      "qualifying          0.007092\n",
      "driver              0.007092\n",
      "sustained           0.007092\n",
      "wheel               0.007092\n",
      "Formula             0.007092\n",
      "One                 0.007092\n",
      "car                 0.007092\n",
      "20                  0.007092\n",
      "years               0.007092\n",
      "2014                0.007092\n",
      "Japanese            0.007092\n",
      "Jules               0.007092\n",
      "Bianchi             0.007092\n",
      "collided            0.007092\n",
      "recovery            0.007092\n",
      "vehicle             0.007092\n",
      "aquaplaning         0.007092\n",
      "circuit             0.007092\n",
      "dying               0.007092\n",
      "months              0.007092\n",
      "later               0.007092\n",
      "Since               0.007092\n",
      "three               0.007092\n",
      "marshals            0.007092\n",
      "one                 0.007092\n",
      "2000                0.007092\n",
      "Italian             0.007092\n",
      "second              0.007092\n",
      "2001                0.007092\n",
      "Australian          0.007092\n",
      "third               0.007092\n",
      "2013                0.007092\n",
      "Canadian            0.007092\n"
     ]
    }
   ],
   "source": [
    "from collections import Counter\n",
    "\n",
    "def calculate_tf(tokens):\n",
    "    cleaned_tokens = [''.join(char for char in token if char.isalnum()) for token in tokens]\n",
    "    cleaned_tokens = [token for token in cleaned_tokens if token]  # Remove empty tokens\n",
    "    tf_scores = Counter(cleaned_tokens)\n",
    "    total_tokens = len(cleaned_tokens)\n",
    "    for token in tf_scores:\n",
    "        tf_scores[token] /= total_tokens\n",
    "    return tf_scores\n",
    "\n",
    "tf_scores = calculate_tf(tokenized_document)\n",
    "sorted_tf_scores = sorted(tf_scores.items(), key=lambda x: x[1], reverse=True)\n",
    "\n",
    "def print_tf_scores(sorted_tf_scores):\n",
    "    print(\"Term              TF Score\")\n",
    "    print(\"---------------------------------------\")\n",
    "    for term, tf_score in sorted_tf_scores:\n",
    "        print(f\"{term.ljust(20)}{tf_score:.6f}\")\n",
    "\n",
    "print_tf_scores(sorted_tf_scores)"
   ]
  },
  {
   "cell_type": "code",
   "execution_count": 21,
   "id": "544e5655",
   "metadata": {},
   "outputs": [],
   "source": [
    "def get_sentence_tf(sentence, tf_scores):\n",
    "    tokens = nltk.word_tokenize(sentence.lower())\n",
    "    total_words = len(tokens)\n",
    "    tf_score = sum(tf_scores[word] for word in tokens) / total_words\n",
    "    return tf_score"
   ]
  },
  {
   "cell_type": "code",
   "execution_count": 22,
   "id": "77fbca50",
   "metadata": {},
   "outputs": [
    {
     "name": "stdout",
     "output_type": "stream",
     "text": [
      "Top Sentences:\n",
      "---------------------------------------\n",
      "Sentence 1: No driver died of injuries sustained on the track at the wheel of a Formula One car for 20 years until the 2014 Japanese Grand Prix, where Jules Bianchi collided with a recovery vehicle after aquaplaning off the circuit, dying nine months later from his injuries.\n",
      "---------------------------------------\n",
      "Sentence 2: Powered by Porsche, Honda, and Mercedes-Benz, McLaren won sixteen championships (seven constructors' and nine drivers') in that period, while Williams used engines from Ford, Honda, and Renault to also win sixteen titles (nine constructors' and seven drivers').\n",
      "---------------------------------------\n",
      "Sentence 3: The FIA worked to improve the sport's safety standards since that weekend, during which Roland Ratzenberger also died in an accident during Saturday qualifying.\n",
      "---------------------------------------\n"
     ]
    }
   ],
   "source": [
    "def get_top_sentences(document, tf_scores, num_sentences=3):\n",
    "    sentences = nltk.sent_tokenize(document)\n",
    "    sentence_tfs = [(sentence, get_sentence_tf(sentence, tf_scores)) for sentence in sentences]\n",
    "    sorted_sentence_tfs = sorted(sentence_tfs, key=lambda x: x[1], reverse=True)[:num_sentences]\n",
    "    return [sentence for sentence, _ in sorted_sentence_tfs]\n",
    "\n",
    "top_sentences = get_top_sentences(document, tf_scores)\n",
    "def print_top_sentences(top_sentences):\n",
    "    print(\"Top Sentences:\")\n",
    "    print(\"---------------------------------------\")\n",
    "    for i, sentence in enumerate(top_sentences, 1):\n",
    "        print(f\"Sentence {i}: {sentence}\")\n",
    "        print(\"---------------------------------------\")\n",
    "\n",
    "print_top_sentences(top_sentences)"
   ]
  },
  {
   "cell_type": "code",
   "execution_count": null,
   "id": "e6ee4e60",
   "metadata": {},
   "outputs": [],
   "source": []
  }
 ],
 "metadata": {
  "kernelspec": {
   "display_name": "Python 3 (ipykernel)",
   "language": "python",
   "name": "python3"
  },
  "language_info": {
   "codemirror_mode": {
    "name": "ipython",
    "version": 3
   },
   "file_extension": ".py",
   "mimetype": "text/x-python",
   "name": "python",
   "nbconvert_exporter": "python",
   "pygments_lexer": "ipython3",
   "version": "3.11.1"
  },
  "nbTranslate": {
   "displayLangs": [
    "*"
   ],
   "hotkey": "alt-t",
   "langInMainMenu": true,
   "sourceLang": "en",
   "targetLang": "fr",
   "useGoogleTranslate": true
  },
  "toc": {
   "base_numbering": 1,
   "nav_menu": {},
   "number_sections": true,
   "sideBar": true,
   "skip_h1_title": false,
   "title_cell": "Table of Contents",
   "title_sidebar": "Contents",
   "toc_cell": false,
   "toc_position": {},
   "toc_section_display": true,
   "toc_window_display": false
  },
  "varInspector": {
   "cols": {
    "lenName": 16,
    "lenType": 16,
    "lenVar": 40
   },
   "kernels_config": {
    "python": {
     "delete_cmd_postfix": "",
     "delete_cmd_prefix": "del ",
     "library": "var_list.py",
     "varRefreshCmd": "print(var_dic_list())"
    },
    "r": {
     "delete_cmd_postfix": ") ",
     "delete_cmd_prefix": "rm(",
     "library": "var_list.r",
     "varRefreshCmd": "cat(var_dic_list()) "
    }
   },
   "types_to_exclude": [
    "module",
    "function",
    "builtin_function_or_method",
    "instance",
    "_Feature"
   ],
   "window_display": false
  }
 },
 "nbformat": 4,
 "nbformat_minor": 5
}
