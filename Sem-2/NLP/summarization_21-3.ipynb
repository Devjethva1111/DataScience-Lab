{
 "cells": [
  {
   "cell_type": "code",
   "execution_count": 1,
   "id": "29732269-25d1-4145-9b80-d23267863f78",
   "metadata": {},
   "outputs": [
    {
     "name": "stderr",
     "output_type": "stream",
     "text": [
      "[nltk_data] Downloading package punkt to\n",
      "[nltk_data]     C:\\Users\\devje\\AppData\\Roaming\\nltk_data...\n",
      "[nltk_data]   Package punkt is already up-to-date!\n"
     ]
    },
    {
     "data": {
      "text/plain": [
       "True"
      ]
     },
     "execution_count": 1,
     "metadata": {},
     "output_type": "execute_result"
    }
   ],
   "source": [
    "import nltk\n",
    "from nltk.tokenize import word_tokenize\n",
    "nltk.download('punkt')"
   ]
  },
  {
   "cell_type": "code",
   "execution_count": 2,
   "id": "76337660-62cb-4dbc-a08a-7d093f0ce6e1",
   "metadata": {},
   "outputs": [],
   "source": [
    "from docx import Document"
   ]
  },
  {
   "cell_type": "code",
   "execution_count": 3,
   "id": "61bfc399-ccf0-40e6-85d2-d7fa5a0ad3b9",
   "metadata": {},
   "outputs": [],
   "source": [
    "def tokenize_document(document):\n",
    "    tokens = word_tokenize(document)\n",
    "    return tokens"
   ]
  },
  {
   "cell_type": "code",
   "execution_count": 9,
   "id": "73e5e7cb-2a1d-4ee9-aa8e-16d26e1ff5e4",
   "metadata": {},
   "outputs": [],
   "source": [
    "doc = Document(r\"H:\\DataScience-Lab\\Sem-2\\NLP\\Doc1.docx\")"
   ]
  },
  {
   "cell_type": "code",
   "execution_count": 10,
   "id": "c26f2537-d1fa-4083-8d86-56eeef1da6df",
   "metadata": {},
   "outputs": [],
   "source": [
    "document_text = \"\""
   ]
  },
  {
   "cell_type": "code",
   "execution_count": 11,
   "id": "573e8ebb-204c-4536-8811-2292a0f9e1a4",
   "metadata": {},
   "outputs": [],
   "source": [
    "for paragraph in doc.paragraphs:\n",
    "    document_text += paragraph.text + \"\\n\""
   ]
  },
  {
   "cell_type": "code",
   "execution_count": 12,
   "id": "ee868cd2-ece8-4212-b4be-ad90b2e0652f",
   "metadata": {},
   "outputs": [],
   "source": [
    "tokenized_document = tokenize_document(document_text)"
   ]
  },
  {
   "cell_type": "code",
   "execution_count": 13,
   "id": "cb4cc815-4aed-44fa-b1d9-abb2df609deb",
   "metadata": {},
   "outputs": [
    {
     "name": "stdout",
     "output_type": "stream",
     "text": [
      "Tokenized document:\n",
      "['Formula', 'One', ',', 'commonly', 'known', 'as', 'Formula', '1', 'or', 'F1', ',', 'is', 'the', 'highest', 'class', 'of', 'international', 'racing', 'for', 'open-wheel', 'single-seater', 'formula', 'racing', 'cars', 'sanctioned', 'by', 'the', 'Fédération', 'Internationale', 'de', \"l'Automobile\", '(', 'FIA', ')', '.', 'The', 'FIA', 'Formula', 'One', 'World', 'Championship', 'has', 'been', 'one', 'of', 'the', 'premier', 'forms', 'of', 'racing', 'around', 'the', 'world', 'since', 'its', 'inaugural', 'running', 'in', '1950', '.', 'The', 'word', 'formula', 'in', 'the', 'name', 'refers', 'to', 'the', 'set', 'of', 'rules', 'to', 'which', 'all', 'participants', \"'\", 'cars', 'must', 'conform', '.', 'A', 'Formula', 'One', 'season', 'consists', 'of', 'a', 'series', 'of', 'races', ',', 'known', 'as', 'Grands', 'Prix', '.', 'Grands', 'Prix', 'take', 'place', 'in', 'multiple', 'countries', 'and', 'continents', 'around', 'the', 'world', 'on', 'either', 'purpose-built', 'circuits', 'or', 'closed', 'public', 'roads', '.', 'A', 'point-system', 'is', 'used', 'at', 'Grands', 'Prix', 'to', 'determine', 'two', 'annual', 'World', 'Championships', ':', 'one', 'for', 'the', 'drivers', ',', 'and', 'one', 'for', 'the', 'constructors', '(', 'the', 'teams', ')', '.', 'Each', 'driver', 'must', 'hold', 'a', 'valid', 'Super', 'Licence', ',', 'the', 'highest', 'class', 'of', 'racing', 'licence', 'issued', 'by', 'the', 'FIA', ',', 'and', 'the', 'races', 'must', 'be', 'held', 'on', 'grade', 'one', 'tracks', ',', 'the', 'highest', 'grade-rating', 'issued', 'by', 'the', 'FIA', 'for', 'tracks', '.']\n"
     ]
    }
   ],
   "source": [
    "print(\"Tokenized document:\")\n",
    "print(tokenized_document)"
   ]
  },
  {
   "cell_type": "code",
   "execution_count": 14,
   "id": "2b0c4f68-391e-4b03-ac28-f84aee2f6026",
   "metadata": {},
   "outputs": [],
   "source": [
    "from nltk.corpus import stopwords"
   ]
  },
  {
   "cell_type": "code",
   "execution_count": 15,
   "id": "d1a6ce36-e9f9-4598-bc59-bcfce313e035",
   "metadata": {},
   "outputs": [
    {
     "name": "stderr",
     "output_type": "stream",
     "text": [
      "[nltk_data] Downloading package stopwords to\n",
      "[nltk_data]     C:\\Users\\devje\\AppData\\Roaming\\nltk_data...\n",
      "[nltk_data]   Package stopwords is already up-to-date!\n"
     ]
    },
    {
     "data": {
      "text/plain": [
       "True"
      ]
     },
     "execution_count": 15,
     "metadata": {},
     "output_type": "execute_result"
    }
   ],
   "source": [
    "nltk.download('stopwords')"
   ]
  },
  {
   "cell_type": "code",
   "execution_count": 16,
   "id": "c89f5bbf-7514-483b-a70c-64152afd71d6",
   "metadata": {},
   "outputs": [],
   "source": [
    "stop_words = set(stopwords.words('english'))"
   ]
  },
  {
   "cell_type": "code",
   "execution_count": 17,
   "id": "ddab80ce-e86b-47d8-a2c2-d990408b0fd4",
   "metadata": {},
   "outputs": [],
   "source": [
    "filtered_document = [word for word in tokenized_document if word.lower() not in stop_words]"
   ]
  },
  {
   "cell_type": "code",
   "execution_count": 18,
   "id": "ef5c2e89-f739-47e9-b2f9-8d746180b546",
   "metadata": {},
   "outputs": [
    {
     "data": {
      "text/plain": [
       "['Formula',\n",
       " 'One',\n",
       " ',',\n",
       " 'commonly',\n",
       " 'known',\n",
       " 'Formula',\n",
       " '1',\n",
       " 'F1',\n",
       " ',',\n",
       " 'highest',\n",
       " 'class',\n",
       " 'international',\n",
       " 'racing',\n",
       " 'open-wheel',\n",
       " 'single-seater',\n",
       " 'formula',\n",
       " 'racing',\n",
       " 'cars',\n",
       " 'sanctioned',\n",
       " 'Fédération',\n",
       " 'Internationale',\n",
       " 'de',\n",
       " \"l'Automobile\",\n",
       " '(',\n",
       " 'FIA',\n",
       " ')',\n",
       " '.',\n",
       " 'FIA',\n",
       " 'Formula',\n",
       " 'One',\n",
       " 'World',\n",
       " 'Championship',\n",
       " 'one',\n",
       " 'premier',\n",
       " 'forms',\n",
       " 'racing',\n",
       " 'around',\n",
       " 'world',\n",
       " 'since',\n",
       " 'inaugural',\n",
       " 'running',\n",
       " '1950',\n",
       " '.',\n",
       " 'word',\n",
       " 'formula',\n",
       " 'name',\n",
       " 'refers',\n",
       " 'set',\n",
       " 'rules',\n",
       " 'participants',\n",
       " \"'\",\n",
       " 'cars',\n",
       " 'must',\n",
       " 'conform',\n",
       " '.',\n",
       " 'Formula',\n",
       " 'One',\n",
       " 'season',\n",
       " 'consists',\n",
       " 'series',\n",
       " 'races',\n",
       " ',',\n",
       " 'known',\n",
       " 'Grands',\n",
       " 'Prix',\n",
       " '.',\n",
       " 'Grands',\n",
       " 'Prix',\n",
       " 'take',\n",
       " 'place',\n",
       " 'multiple',\n",
       " 'countries',\n",
       " 'continents',\n",
       " 'around',\n",
       " 'world',\n",
       " 'either',\n",
       " 'purpose-built',\n",
       " 'circuits',\n",
       " 'closed',\n",
       " 'public',\n",
       " 'roads',\n",
       " '.',\n",
       " 'point-system',\n",
       " 'used',\n",
       " 'Grands',\n",
       " 'Prix',\n",
       " 'determine',\n",
       " 'two',\n",
       " 'annual',\n",
       " 'World',\n",
       " 'Championships',\n",
       " ':',\n",
       " 'one',\n",
       " 'drivers',\n",
       " ',',\n",
       " 'one',\n",
       " 'constructors',\n",
       " '(',\n",
       " 'teams',\n",
       " ')',\n",
       " '.',\n",
       " 'driver',\n",
       " 'must',\n",
       " 'hold',\n",
       " 'valid',\n",
       " 'Super',\n",
       " 'Licence',\n",
       " ',',\n",
       " 'highest',\n",
       " 'class',\n",
       " 'racing',\n",
       " 'licence',\n",
       " 'issued',\n",
       " 'FIA',\n",
       " ',',\n",
       " 'races',\n",
       " 'must',\n",
       " 'held',\n",
       " 'grade',\n",
       " 'one',\n",
       " 'tracks',\n",
       " ',',\n",
       " 'highest',\n",
       " 'grade-rating',\n",
       " 'issued',\n",
       " 'FIA',\n",
       " 'tracks',\n",
       " '.']"
      ]
     },
     "execution_count": 18,
     "metadata": {},
     "output_type": "execute_result"
    }
   ],
   "source": [
    "filtered_document"
   ]
  },
  {
   "cell_type": "code",
   "execution_count": 19,
   "id": "462ab5d8-f8d4-4337-ab48-6c55d868e856",
   "metadata": {},
   "outputs": [
    {
     "name": "stdout",
     "output_type": "stream",
     "text": [
      "TF: 0.02127659574468085, Formula\n",
      "TF: 0.015957446808510637, One\n",
      "TF: 0.03723404255319149, ,\n",
      "TF: 0.005319148936170213, commonly\n",
      "TF: 0.010638297872340425, known\n",
      "TF: 0.010638297872340425, as\n",
      "TF: 0.005319148936170213, 1\n",
      "TF: 0.010638297872340425, or\n",
      "TF: 0.005319148936170213, F1\n",
      "TF: 0.010638297872340425, is\n",
      "TF: 0.0797872340425532, the\n",
      "TF: 0.015957446808510637, highest\n",
      "TF: 0.010638297872340425, class\n",
      "TF: 0.03723404255319149, of\n",
      "TF: 0.005319148936170213, international\n",
      "TF: 0.02127659574468085, racing\n",
      "TF: 0.02127659574468085, for\n",
      "TF: 0.005319148936170213, open-wheel\n",
      "TF: 0.005319148936170213, single-seater\n",
      "TF: 0.010638297872340425, formula\n",
      "TF: 0.010638297872340425, cars\n",
      "TF: 0.005319148936170213, sanctioned\n",
      "TF: 0.015957446808510637, by\n",
      "TF: 0.005319148936170213, Fédération\n",
      "TF: 0.005319148936170213, Internationale\n",
      "TF: 0.005319148936170213, de\n",
      "TF: 0.005319148936170213, l'Automobile\n",
      "TF: 0.010638297872340425, (\n",
      "TF: 0.02127659574468085, FIA\n",
      "TF: 0.010638297872340425, )\n",
      "TF: 0.03723404255319149, .\n",
      "TF: 0.010638297872340425, The\n",
      "TF: 0.010638297872340425, World\n",
      "TF: 0.005319148936170213, Championship\n",
      "TF: 0.005319148936170213, has\n",
      "TF: 0.005319148936170213, been\n",
      "TF: 0.02127659574468085, one\n",
      "TF: 0.005319148936170213, premier\n",
      "TF: 0.005319148936170213, forms\n",
      "TF: 0.010638297872340425, around\n",
      "TF: 0.010638297872340425, world\n",
      "TF: 0.005319148936170213, since\n",
      "TF: 0.005319148936170213, its\n",
      "TF: 0.005319148936170213, inaugural\n",
      "TF: 0.005319148936170213, running\n",
      "TF: 0.015957446808510637, in\n",
      "TF: 0.005319148936170213, 1950\n",
      "TF: 0.005319148936170213, word\n",
      "TF: 0.005319148936170213, name\n",
      "TF: 0.005319148936170213, refers\n",
      "TF: 0.015957446808510637, to\n",
      "TF: 0.005319148936170213, set\n",
      "TF: 0.005319148936170213, rules\n",
      "TF: 0.005319148936170213, which\n",
      "TF: 0.005319148936170213, all\n",
      "TF: 0.005319148936170213, participants\n",
      "TF: 0.005319148936170213, '\n",
      "TF: 0.015957446808510637, must\n",
      "TF: 0.005319148936170213, conform\n",
      "TF: 0.010638297872340425, A\n",
      "TF: 0.005319148936170213, season\n",
      "TF: 0.005319148936170213, consists\n",
      "TF: 0.010638297872340425, a\n",
      "TF: 0.005319148936170213, series\n",
      "TF: 0.010638297872340425, races\n",
      "TF: 0.015957446808510637, Grands\n",
      "TF: 0.015957446808510637, Prix\n",
      "TF: 0.005319148936170213, take\n",
      "TF: 0.005319148936170213, place\n",
      "TF: 0.005319148936170213, multiple\n",
      "TF: 0.005319148936170213, countries\n",
      "TF: 0.015957446808510637, and\n",
      "TF: 0.005319148936170213, continents\n",
      "TF: 0.010638297872340425, on\n",
      "TF: 0.005319148936170213, either\n",
      "TF: 0.005319148936170213, purpose-built\n",
      "TF: 0.005319148936170213, circuits\n",
      "TF: 0.005319148936170213, closed\n",
      "TF: 0.005319148936170213, public\n",
      "TF: 0.005319148936170213, roads\n",
      "TF: 0.005319148936170213, point-system\n",
      "TF: 0.005319148936170213, used\n",
      "TF: 0.005319148936170213, at\n",
      "TF: 0.005319148936170213, determine\n",
      "TF: 0.005319148936170213, two\n",
      "TF: 0.005319148936170213, annual\n",
      "TF: 0.005319148936170213, Championships\n",
      "TF: 0.005319148936170213, :\n",
      "TF: 0.005319148936170213, drivers\n",
      "TF: 0.005319148936170213, constructors\n",
      "TF: 0.005319148936170213, teams\n",
      "TF: 0.005319148936170213, Each\n",
      "TF: 0.005319148936170213, driver\n",
      "TF: 0.005319148936170213, hold\n",
      "TF: 0.005319148936170213, valid\n",
      "TF: 0.005319148936170213, Super\n",
      "TF: 0.005319148936170213, Licence\n",
      "TF: 0.005319148936170213, licence\n",
      "TF: 0.010638297872340425, issued\n",
      "TF: 0.005319148936170213, be\n",
      "TF: 0.005319148936170213, held\n",
      "TF: 0.005319148936170213, grade\n",
      "TF: 0.010638297872340425, tracks\n",
      "TF: 0.005319148936170213, grade-rating\n"
     ]
    }
   ],
   "source": [
    "word_counts = {}\n",
    "total_words = len(tokenized_document)\n",
    "\n",
    "for word in tokenized_document:\n",
    "    word_counts[word] = word_counts.get(word, 0) + 1\n",
    "\n",
    "# Calculate TF for each word\n",
    "tf = {}\n",
    "for word, count in word_counts.items():\n",
    "    tf[word] = count / total_words\n",
    "\n",
    "# Print TF for each word\n",
    "for word, tf_value in tf.items():\n",
    "    print(f\"TF: {tf_value}, {word}\")"
   ]
  },
  {
   "cell_type": "code",
   "execution_count": 20,
   "id": "a5737a9f-ae25-4e90-aee4-40d7e4971731",
   "metadata": {},
   "outputs": [
    {
     "data": {
      "text/plain": [
       "{'Formula': 0.02127659574468085,\n",
       " 'One': 0.015957446808510637,\n",
       " ',': 0.03723404255319149,\n",
       " 'commonly': 0.005319148936170213,\n",
       " 'known': 0.010638297872340425,\n",
       " 'as': 0.010638297872340425,\n",
       " '1': 0.005319148936170213,\n",
       " 'or': 0.010638297872340425,\n",
       " 'F1': 0.005319148936170213,\n",
       " 'is': 0.010638297872340425,\n",
       " 'the': 0.0797872340425532,\n",
       " 'highest': 0.015957446808510637,\n",
       " 'class': 0.010638297872340425,\n",
       " 'of': 0.03723404255319149,\n",
       " 'international': 0.005319148936170213,\n",
       " 'racing': 0.02127659574468085,\n",
       " 'for': 0.02127659574468085,\n",
       " 'open-wheel': 0.005319148936170213,\n",
       " 'single-seater': 0.005319148936170213,\n",
       " 'formula': 0.010638297872340425,\n",
       " 'cars': 0.010638297872340425,\n",
       " 'sanctioned': 0.005319148936170213,\n",
       " 'by': 0.015957446808510637,\n",
       " 'Fédération': 0.005319148936170213,\n",
       " 'Internationale': 0.005319148936170213,\n",
       " 'de': 0.005319148936170213,\n",
       " \"l'Automobile\": 0.005319148936170213,\n",
       " '(': 0.010638297872340425,\n",
       " 'FIA': 0.02127659574468085,\n",
       " ')': 0.010638297872340425,\n",
       " '.': 0.03723404255319149,\n",
       " 'The': 0.010638297872340425,\n",
       " 'World': 0.010638297872340425,\n",
       " 'Championship': 0.005319148936170213,\n",
       " 'has': 0.005319148936170213,\n",
       " 'been': 0.005319148936170213,\n",
       " 'one': 0.02127659574468085,\n",
       " 'premier': 0.005319148936170213,\n",
       " 'forms': 0.005319148936170213,\n",
       " 'around': 0.010638297872340425,\n",
       " 'world': 0.010638297872340425,\n",
       " 'since': 0.005319148936170213,\n",
       " 'its': 0.005319148936170213,\n",
       " 'inaugural': 0.005319148936170213,\n",
       " 'running': 0.005319148936170213,\n",
       " 'in': 0.015957446808510637,\n",
       " '1950': 0.005319148936170213,\n",
       " 'word': 0.005319148936170213,\n",
       " 'name': 0.005319148936170213,\n",
       " 'refers': 0.005319148936170213,\n",
       " 'to': 0.015957446808510637,\n",
       " 'set': 0.005319148936170213,\n",
       " 'rules': 0.005319148936170213,\n",
       " 'which': 0.005319148936170213,\n",
       " 'all': 0.005319148936170213,\n",
       " 'participants': 0.005319148936170213,\n",
       " \"'\": 0.005319148936170213,\n",
       " 'must': 0.015957446808510637,\n",
       " 'conform': 0.005319148936170213,\n",
       " 'A': 0.010638297872340425,\n",
       " 'season': 0.005319148936170213,\n",
       " 'consists': 0.005319148936170213,\n",
       " 'a': 0.010638297872340425,\n",
       " 'series': 0.005319148936170213,\n",
       " 'races': 0.010638297872340425,\n",
       " 'Grands': 0.015957446808510637,\n",
       " 'Prix': 0.015957446808510637,\n",
       " 'take': 0.005319148936170213,\n",
       " 'place': 0.005319148936170213,\n",
       " 'multiple': 0.005319148936170213,\n",
       " 'countries': 0.005319148936170213,\n",
       " 'and': 0.015957446808510637,\n",
       " 'continents': 0.005319148936170213,\n",
       " 'on': 0.010638297872340425,\n",
       " 'either': 0.005319148936170213,\n",
       " 'purpose-built': 0.005319148936170213,\n",
       " 'circuits': 0.005319148936170213,\n",
       " 'closed': 0.005319148936170213,\n",
       " 'public': 0.005319148936170213,\n",
       " 'roads': 0.005319148936170213,\n",
       " 'point-system': 0.005319148936170213,\n",
       " 'used': 0.005319148936170213,\n",
       " 'at': 0.005319148936170213,\n",
       " 'determine': 0.005319148936170213,\n",
       " 'two': 0.005319148936170213,\n",
       " 'annual': 0.005319148936170213,\n",
       " 'Championships': 0.005319148936170213,\n",
       " ':': 0.005319148936170213,\n",
       " 'drivers': 0.005319148936170213,\n",
       " 'constructors': 0.005319148936170213,\n",
       " 'teams': 0.005319148936170213,\n",
       " 'Each': 0.005319148936170213,\n",
       " 'driver': 0.005319148936170213,\n",
       " 'hold': 0.005319148936170213,\n",
       " 'valid': 0.005319148936170213,\n",
       " 'Super': 0.005319148936170213,\n",
       " 'Licence': 0.005319148936170213,\n",
       " 'licence': 0.005319148936170213,\n",
       " 'issued': 0.010638297872340425,\n",
       " 'be': 0.005319148936170213,\n",
       " 'held': 0.005319148936170213,\n",
       " 'grade': 0.005319148936170213,\n",
       " 'tracks': 0.010638297872340425,\n",
       " 'grade-rating': 0.005319148936170213}"
      ]
     },
     "execution_count": 20,
     "metadata": {},
     "output_type": "execute_result"
    }
   ],
   "source": [
    "tf"
   ]
  },
  {
   "cell_type": "code",
   "execution_count": 21,
   "id": "57c000a4-310d-4b6b-b55b-30317c789612",
   "metadata": {},
   "outputs": [],
   "source": [
    "from collections import defaultdict\n",
    "import heapq"
   ]
  },
  {
   "cell_type": "code",
   "execution_count": 22,
   "id": "9d26052d-08c7-42c5-a1ae-edd88d99bccd",
   "metadata": {},
   "outputs": [],
   "source": [
    "sentence_scores = defaultdict(float)"
   ]
  },
  {
   "cell_type": "code",
   "execution_count": 23,
   "id": "0a529fc0-1300-41ae-ace7-02ca14db2524",
   "metadata": {},
   "outputs": [],
   "source": [
    "sentences = []\n",
    "current_sentence = []\n",
    "for word in tokenized_document:\n",
    "    current_sentence.append(word)\n",
    "    if word.endswith('.') or word.endswith('!') or word.endswith('?'):\n",
    "        sentences.append(current_sentence)\n",
    "        current_sentence = []"
   ]
  },
  {
   "cell_type": "code",
   "execution_count": 24,
   "id": "b492e3b5-349a-4ed1-9728-d85496783061",
   "metadata": {},
   "outputs": [],
   "source": [
    "for sentence in sentences:\n",
    "    for word in sentence:\n",
    "        sentence_scores[tuple(sentence)] += tf.get(word, 0)"
   ]
  },
  {
   "cell_type": "code",
   "execution_count": 25,
   "id": "fe44aab4-22d2-4b00-92b1-c470c6aab053",
   "metadata": {},
   "outputs": [
    {
     "data": {
      "text/plain": [
       "defaultdict(float,\n",
       "            {('Formula',\n",
       "              'One',\n",
       "              ',',\n",
       "              'commonly',\n",
       "              'known',\n",
       "              'as',\n",
       "              'Formula',\n",
       "              '1',\n",
       "              'or',\n",
       "              'F1',\n",
       "              ',',\n",
       "              'is',\n",
       "              'the',\n",
       "              'highest',\n",
       "              'class',\n",
       "              'of',\n",
       "              'international',\n",
       "              'racing',\n",
       "              'for',\n",
       "              'open-wheel',\n",
       "              'single-seater',\n",
       "              'formula',\n",
       "              'racing',\n",
       "              'cars',\n",
       "              'sanctioned',\n",
       "              'by',\n",
       "              'the',\n",
       "              'Fédération',\n",
       "              'Internationale',\n",
       "              'de',\n",
       "              \"l'Automobile\",\n",
       "              '(',\n",
       "              'FIA',\n",
       "              ')',\n",
       "              '.'): 0.6382978723404256,\n",
       "             ('The',\n",
       "              'FIA',\n",
       "              'Formula',\n",
       "              'One',\n",
       "              'World',\n",
       "              'Championship',\n",
       "              'has',\n",
       "              'been',\n",
       "              'one',\n",
       "              'of',\n",
       "              'the',\n",
       "              'premier',\n",
       "              'forms',\n",
       "              'of',\n",
       "              'racing',\n",
       "              'around',\n",
       "              'the',\n",
       "              'world',\n",
       "              'since',\n",
       "              'its',\n",
       "              'inaugural',\n",
       "              'running',\n",
       "              'in',\n",
       "              '1950',\n",
       "              '.'): 0.48404255319148926,\n",
       "             ('The',\n",
       "              'word',\n",
       "              'formula',\n",
       "              'in',\n",
       "              'the',\n",
       "              'name',\n",
       "              'refers',\n",
       "              'to',\n",
       "              'the',\n",
       "              'set',\n",
       "              'of',\n",
       "              'rules',\n",
       "              'to',\n",
       "              'which',\n",
       "              'all',\n",
       "              'participants',\n",
       "              \"'\",\n",
       "              'cars',\n",
       "              'must',\n",
       "              'conform',\n",
       "              '.'): 0.3829787234042552,\n",
       "             ('A',\n",
       "              'Formula',\n",
       "              'One',\n",
       "              'season',\n",
       "              'consists',\n",
       "              'of',\n",
       "              'a',\n",
       "              'series',\n",
       "              'of',\n",
       "              'races',\n",
       "              ',',\n",
       "              'known',\n",
       "              'as',\n",
       "              'Grands',\n",
       "              'Prix',\n",
       "              '.'): 0.2872340425531914,\n",
       "             ('Grands',\n",
       "              'Prix',\n",
       "              'take',\n",
       "              'place',\n",
       "              'in',\n",
       "              'multiple',\n",
       "              'countries',\n",
       "              'and',\n",
       "              'continents',\n",
       "              'around',\n",
       "              'the',\n",
       "              'world',\n",
       "              'on',\n",
       "              'either',\n",
       "              'purpose-built',\n",
       "              'circuits',\n",
       "              'or',\n",
       "              'closed',\n",
       "              'public',\n",
       "              'roads',\n",
       "              '.'): 0.28191489361702127,\n",
       "             ('A',\n",
       "              'point-system',\n",
       "              'is',\n",
       "              'used',\n",
       "              'at',\n",
       "              'Grands',\n",
       "              'Prix',\n",
       "              'to',\n",
       "              'determine',\n",
       "              'two',\n",
       "              'annual',\n",
       "              'World',\n",
       "              'Championships',\n",
       "              ':',\n",
       "              'one',\n",
       "              'for',\n",
       "              'the',\n",
       "              'drivers',\n",
       "              ',',\n",
       "              'and',\n",
       "              'one',\n",
       "              'for',\n",
       "              'the',\n",
       "              'constructors',\n",
       "              '(',\n",
       "              'the',\n",
       "              'teams',\n",
       "              ')',\n",
       "              '.'): 0.5744680851063829,\n",
       "             ('Each',\n",
       "              'driver',\n",
       "              'must',\n",
       "              'hold',\n",
       "              'a',\n",
       "              'valid',\n",
       "              'Super',\n",
       "              'Licence',\n",
       "              ',',\n",
       "              'the',\n",
       "              'highest',\n",
       "              'class',\n",
       "              'of',\n",
       "              'racing',\n",
       "              'licence',\n",
       "              'issued',\n",
       "              'by',\n",
       "              'the',\n",
       "              'FIA',\n",
       "              ',',\n",
       "              'and',\n",
       "              'the',\n",
       "              'races',\n",
       "              'must',\n",
       "              'be',\n",
       "              'held',\n",
       "              'on',\n",
       "              'grade',\n",
       "              'one',\n",
       "              'tracks',\n",
       "              ',',\n",
       "              'the',\n",
       "              'highest',\n",
       "              'grade-rating',\n",
       "              'issued',\n",
       "              'by',\n",
       "              'the',\n",
       "              'FIA',\n",
       "              'for',\n",
       "              'tracks',\n",
       "              '.'): 0.9468085106382977})"
      ]
     },
     "execution_count": 25,
     "metadata": {},
     "output_type": "execute_result"
    }
   ],
   "source": [
    "sentence_scores"
   ]
  },
  {
   "cell_type": "code",
   "execution_count": 26,
   "id": "587e0c13-74c8-40a5-af7e-47e5f8f93994",
   "metadata": {},
   "outputs": [
    {
     "data": {
      "text/plain": [
       "['Each',\n",
       " 'driver',\n",
       " 'must',\n",
       " 'hold',\n",
       " 'a',\n",
       " 'valid',\n",
       " 'Super',\n",
       " 'Licence',\n",
       " ',',\n",
       " 'the',\n",
       " 'highest',\n",
       " 'class',\n",
       " 'of',\n",
       " 'racing',\n",
       " 'licence',\n",
       " 'issued',\n",
       " 'by',\n",
       " 'the',\n",
       " 'FIA',\n",
       " ',',\n",
       " 'and',\n",
       " 'the',\n",
       " 'races',\n",
       " 'must',\n",
       " 'be',\n",
       " 'held',\n",
       " 'on',\n",
       " 'grade',\n",
       " 'one',\n",
       " 'tracks',\n",
       " ',',\n",
       " 'the',\n",
       " 'highest',\n",
       " 'grade-rating',\n",
       " 'issued',\n",
       " 'by',\n",
       " 'the',\n",
       " 'FIA',\n",
       " 'for',\n",
       " 'tracks',\n",
       " '.']"
      ]
     },
     "execution_count": 26,
     "metadata": {},
     "output_type": "execute_result"
    }
   ],
   "source": [
    "sentence"
   ]
  },
  {
   "cell_type": "code",
   "execution_count": 27,
   "id": "22f53c6a-2c66-4632-b498-8ce44338c847",
   "metadata": {},
   "outputs": [],
   "source": [
    "num_sentences_in_summary = 3\n",
    "summary_sentences = heapq.nlargest(num_sentences_in_summary, sentence_scores, key=sentence_scores.get)"
   ]
  },
  {
   "cell_type": "code",
   "execution_count": 28,
   "id": "961eb2c3-fa5a-4982-b491-e21239c365ec",
   "metadata": {},
   "outputs": [],
   "source": [
    "summary = ' '.join(' '.join(sentence) for sentence in summary_sentences)"
   ]
  },
  {
   "cell_type": "code",
   "execution_count": 29,
   "id": "e0c0786c-93a2-41ce-8b0a-53718835c197",
   "metadata": {},
   "outputs": [
    {
     "data": {
      "text/plain": [
       "\"Each driver must hold a valid Super Licence , the highest class of racing licence issued by the FIA , and the races must be held on grade one tracks , the highest grade-rating issued by the FIA for tracks . Formula One , commonly known as Formula 1 or F1 , is the highest class of international racing for open-wheel single-seater formula racing cars sanctioned by the Fédération Internationale de l'Automobile ( FIA ) . A point-system is used at Grands Prix to determine two annual World Championships : one for the drivers , and one for the constructors ( the teams ) .\""
      ]
     },
     "execution_count": 29,
     "metadata": {},
     "output_type": "execute_result"
    }
   ],
   "source": [
    "summary"
   ]
  },
  {
   "cell_type": "code",
   "execution_count": null,
   "id": "14dfdfd8-1c5e-4036-a625-ba32a1150324",
   "metadata": {},
   "outputs": [],
   "source": []
  }
 ],
 "metadata": {
  "kernelspec": {
   "display_name": "Python 3 (ipykernel)",
   "language": "python",
   "name": "python3"
  },
  "language_info": {
   "codemirror_mode": {
    "name": "ipython",
    "version": 3
   },
   "file_extension": ".py",
   "mimetype": "text/x-python",
   "name": "python",
   "nbconvert_exporter": "python",
   "pygments_lexer": "ipython3",
   "version": "3.11.1"
  },
  "nbTranslate": {
   "displayLangs": [
    "*"
   ],
   "hotkey": "alt-t",
   "langInMainMenu": true,
   "sourceLang": "en",
   "targetLang": "fr",
   "useGoogleTranslate": true
  },
  "toc": {
   "base_numbering": 1,
   "nav_menu": {},
   "number_sections": true,
   "sideBar": true,
   "skip_h1_title": false,
   "title_cell": "Table of Contents",
   "title_sidebar": "Contents",
   "toc_cell": false,
   "toc_position": {},
   "toc_section_display": true,
   "toc_window_display": false
  },
  "varInspector": {
   "cols": {
    "lenName": 16,
    "lenType": 16,
    "lenVar": 40
   },
   "kernels_config": {
    "python": {
     "delete_cmd_postfix": "",
     "delete_cmd_prefix": "del ",
     "library": "var_list.py",
     "varRefreshCmd": "print(var_dic_list())"
    },
    "r": {
     "delete_cmd_postfix": ") ",
     "delete_cmd_prefix": "rm(",
     "library": "var_list.r",
     "varRefreshCmd": "cat(var_dic_list()) "
    }
   },
   "types_to_exclude": [
    "module",
    "function",
    "builtin_function_or_method",
    "instance",
    "_Feature"
   ],
   "window_display": false
  }
 },
 "nbformat": 4,
 "nbformat_minor": 5
}
