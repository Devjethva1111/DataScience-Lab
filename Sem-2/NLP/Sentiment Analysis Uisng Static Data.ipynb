{
 "cells": [
  {
   "cell_type": "code",
   "execution_count": 7,
   "id": "3c3dc7e3",
   "metadata": {},
   "outputs": [
    {
     "name": "stderr",
     "output_type": "stream",
     "text": [
      "[nltk_data] Downloading package stopwords to\n",
      "[nltk_data]     C:\\Users\\devje\\AppData\\Roaming\\nltk_data...\n",
      "[nltk_data]   Unzipping corpora\\stopwords.zip.\n"
     ]
    },
    {
     "data": {
      "text/plain": [
       "True"
      ]
     },
     "execution_count": 7,
     "metadata": {},
     "output_type": "execute_result"
    }
   ],
   "source": [
    "nltk.download('stopwords')"
   ]
  },
  {
   "cell_type": "code",
   "execution_count": 8,
   "id": "7cd16d57",
   "metadata": {},
   "outputs": [],
   "source": [
    "import nltk\n",
    "from nltk.corpus import stopwords"
   ]
  },
  {
   "cell_type": "code",
   "execution_count": 9,
   "id": "31df22ad",
   "metadata": {},
   "outputs": [],
   "source": [
    "stopwords = set(stopwords.words('english'))"
   ]
  },
  {
   "cell_type": "code",
   "execution_count": 10,
   "id": "992f348f",
   "metadata": {},
   "outputs": [],
   "source": [
    "pos_tweets=[('It is not impossible', 'positive'),\n",
    "                    ('You are my lovely friend', 'Positive'),\n",
    "                    ('She is beautiful girl', 'Positive'),\n",
    "                    ('He is looking handsome', 'Positive'),\n",
    "                    ('Exercise is good for health', 'Positive'),\n",
    "                    ('Today\\'s weather is fantastic', 'Positive'),\n",
    "                    ('I love Mango', 'Positive')]\n"
   ]
  },
  {
   "cell_type": "code",
   "execution_count": 11,
   "id": "21a54961",
   "metadata": {},
   "outputs": [],
   "source": [
    "neg_tweets=[('You are my enemy friend', 'Negative'),\n",
    "                    ('She is looking ugly ', 'Negative'),\n",
    "                    ('He is looking horrible', 'Negative'),\n",
    "                    ('Sleeping more makes you lazy', 'Negative'),\n",
    "                    ('Today\\'s weather is very bad', 'Negative'),\n",
    "                    ('I hate Banana', 'Negative')]\n"
   ]
  },
  {
   "cell_type": "code",
   "execution_count": 12,
   "id": "8d267f07",
   "metadata": {},
   "outputs": [
    {
     "name": "stdout",
     "output_type": "stream",
     "text": [
      "[('It is not impossible', 'positive'), ('You are my lovely friend', 'Positive'), ('She is beautiful girl', 'Positive'), ('He is looking handsome', 'Positive'), ('Exercise is good for health', 'Positive'), (\"Today's weather is fantastic\", 'Positive'), ('I love Mango', 'Positive')]\n"
     ]
    }
   ],
   "source": [
    "print(pos_tweets)"
   ]
  },
  {
   "cell_type": "code",
   "execution_count": 13,
   "id": "da63c6c8",
   "metadata": {},
   "outputs": [
    {
     "name": "stdout",
     "output_type": "stream",
     "text": [
      "[('You are my enemy friend', 'Negative'), ('She is looking ugly ', 'Negative'), ('He is looking horrible', 'Negative'), ('Sleeping more makes you lazy', 'Negative'), (\"Today's weather is very bad\", 'Negative'), ('I hate Banana', 'Negative')]\n"
     ]
    }
   ],
   "source": [
    "print(neg_tweets)"
   ]
  },
  {
   "cell_type": "code",
   "execution_count": 14,
   "id": "66c6ddab",
   "metadata": {},
   "outputs": [
    {
     "name": "stdout",
     "output_type": "stream",
     "text": [
      "[(['not', 'impossible'], 'positive'), (['you', 'are', 'lovely', 'friend'], 'Positive'), (['she', 'beautiful', 'girl'], 'Positive'), (['looking', 'handsome'], 'Positive'), (['exercise', 'good', 'for', 'health'], 'Positive'), ([\"today's\", 'weather', 'fantastic'], 'Positive'), (['love', 'mango'], 'Positive'), (['you', 'are', 'enemy', 'friend'], 'Negative'), (['she', 'looking', 'ugly'], 'Negative'), (['looking', 'horrible'], 'Negative'), (['sleeping', 'more', 'makes', 'you', 'lazy'], 'Negative'), ([\"today's\", 'weather', 'very', 'bad'], 'Negative'), (['hate', 'banana'], 'Negative')]\n"
     ]
    }
   ],
   "source": [
    "Senti_tweets=[]\n",
    "for (words, sentiment) in pos_tweets + neg_tweets:\n",
    "    words_filtered=[e.lower() for e in words.split() if len(e)>=3]\n",
    "    Senti_tweets.append((words_filtered, sentiment))\n",
    "print(Senti_tweets)\n"
   ]
  },
  {
   "cell_type": "code",
   "execution_count": 15,
   "id": "e90ca75d",
   "metadata": {},
   "outputs": [],
   "source": [
    "def get_words_in_tweets(tweets):\n",
    "    all_words=[]\n",
    "    for (words, sentiment) in Senti_tweets:\n",
    "        all_words.extend(words)\n",
    "    return (all_words)\n"
   ]
  },
  {
   "cell_type": "code",
   "execution_count": 16,
   "id": "cec76f8f",
   "metadata": {},
   "outputs": [],
   "source": [
    "def get_word_features(wordlist):\n",
    "    wordlist=nltk.FreqDist(wordlist)\n",
    "    word_features=wordlist.keys()\n",
    "    return word_features\n"
   ]
  },
  {
   "cell_type": "code",
   "execution_count": 17,
   "id": "73831be2",
   "metadata": {
    "scrolled": true
   },
   "outputs": [
    {
     "name": "stdout",
     "output_type": "stream",
     "text": [
      "dict_keys(['not', 'impossible', 'you', 'are', 'lovely', 'friend', 'she', 'beautiful', 'girl', 'looking', 'handsome', 'exercise', 'good', 'for', 'health', \"today's\", 'weather', 'fantastic', 'love', 'mango', 'enemy', 'ugly', 'horrible', 'sleeping', 'more', 'makes', 'lazy', 'very', 'bad', 'hate', 'banana'])\n"
     ]
    }
   ],
   "source": [
    "word_features=get_word_features(get_words_in_tweets(Senti_tweets))\n",
    "print(word_features)"
   ]
  },
  {
   "cell_type": "code",
   "execution_count": 18,
   "id": "3187305c",
   "metadata": {},
   "outputs": [
    {
     "name": "stdout",
     "output_type": "stream",
     "text": [
      "['impossible', 'lovely', 'friend', 'beautiful', 'girl', 'looking', 'handsome', 'exercise', 'good', 'health', \"today's\", 'weather', 'fantastic', 'love', 'mango', 'enemy', 'ugly', 'horrible', 'sleeping', 'makes', 'lazy', 'bad', 'hate', 'banana']\n"
     ]
    }
   ],
   "source": [
    "word_features_filtered=[]\n",
    "for w in word_features:\n",
    "    if w not in stopwords:\n",
    "        word_features_filtered.append(w)\n",
    "\n",
    "print(word_features_filtered)\n"
   ]
  },
  {
   "cell_type": "code",
   "execution_count": 19,
   "id": "07c068eb",
   "metadata": {},
   "outputs": [],
   "source": [
    "def extract_features(document):\n",
    "    document_words=set(document)\n",
    "    features={}\n",
    "    for word in word_features_filtered:\n",
    "        features['contains(%s)' %word] = (word in document_words)\n",
    "    return features"
   ]
  },
  {
   "cell_type": "code",
   "execution_count": 20,
   "id": "2b7c920a",
   "metadata": {},
   "outputs": [],
   "source": [
    "training_set = nltk.classify.apply_features(extract_features, Senti_tweets)\n",
    "classifier = nltk.NaiveBayesClassifier.train(training_set)"
   ]
  },
  {
   "cell_type": "code",
   "execution_count": 21,
   "id": "f685952d",
   "metadata": {},
   "outputs": [
    {
     "name": "stdout",
     "output_type": "stream",
     "text": [
      "This is a horrible book: Sentiment=Negative\n"
     ]
    }
   ],
   "source": [
    "test_tweet='This is a horrible book'\n",
    "print(\"{}: Sentiment={}\".format(test_tweet, classifier.classify(extract_features(test_tweet.split()))))"
   ]
  },
  {
   "cell_type": "code",
   "execution_count": null,
   "id": "aa336120",
   "metadata": {},
   "outputs": [],
   "source": []
  }
 ],
 "metadata": {
  "kernelspec": {
   "display_name": "Python 3 (ipykernel)",
   "language": "python",
   "name": "python3"
  },
  "language_info": {
   "codemirror_mode": {
    "name": "ipython",
    "version": 3
   },
   "file_extension": ".py",
   "mimetype": "text/x-python",
   "name": "python",
   "nbconvert_exporter": "python",
   "pygments_lexer": "ipython3",
   "version": "3.11.1"
  },
  "nbTranslate": {
   "displayLangs": [
    "*"
   ],
   "hotkey": "alt-t",
   "langInMainMenu": true,
   "sourceLang": "en",
   "targetLang": "fr",
   "useGoogleTranslate": true
  },
  "toc": {
   "base_numbering": 1,
   "nav_menu": {},
   "number_sections": true,
   "sideBar": true,
   "skip_h1_title": false,
   "title_cell": "Table of Contents",
   "title_sidebar": "Contents",
   "toc_cell": false,
   "toc_position": {},
   "toc_section_display": true,
   "toc_window_display": false
  },
  "varInspector": {
   "cols": {
    "lenName": 16,
    "lenType": 16,
    "lenVar": 40
   },
   "kernels_config": {
    "python": {
     "delete_cmd_postfix": "",
     "delete_cmd_prefix": "del ",
     "library": "var_list.py",
     "varRefreshCmd": "print(var_dic_list())"
    },
    "r": {
     "delete_cmd_postfix": ") ",
     "delete_cmd_prefix": "rm(",
     "library": "var_list.r",
     "varRefreshCmd": "cat(var_dic_list()) "
    }
   },
   "types_to_exclude": [
    "module",
    "function",
    "builtin_function_or_method",
    "instance",
    "_Feature"
   ],
   "window_display": false
  }
 },
 "nbformat": 4,
 "nbformat_minor": 5
}
