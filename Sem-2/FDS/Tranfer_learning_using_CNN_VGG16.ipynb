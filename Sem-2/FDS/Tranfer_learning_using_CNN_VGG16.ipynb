{
 "cells": [
  {
   "cell_type": "code",
   "execution_count": 1,
   "metadata": {
    "colab": {
     "base_uri": "https://localhost:8080/"
    },
    "executionInfo": {
     "elapsed": 5561,
     "status": "ok",
     "timestamp": 1712057830416,
     "user": {
      "displayName": "Er. Dev Jethva",
      "userId": "01731661872769925054"
     },
     "user_tz": -330
    },
    "id": "F7T0Im7Zb9JE",
    "outputId": "d71e0923-9f71-49ee-ad6e-3e13e46fb1d7"
   },
   "outputs": [
    {
     "name": "stdout",
     "output_type": "stream",
     "text": [
      "Drive already mounted at /content/drive; to attempt to forcibly remount, call drive.mount(\"/content/drive\", force_remount=True).\n"
     ]
    }
   ],
   "source": [
    "from google.colab import drive\n",
    "drive.mount('/content/drive')"
   ]
  },
  {
   "cell_type": "markdown",
   "metadata": {
    "id": "AaPf4qrqexPZ"
   },
   "source": [
    "Import Libraries"
   ]
  },
  {
   "cell_type": "code",
   "execution_count": 2,
   "metadata": {
    "executionInfo": {
     "elapsed": 6342,
     "status": "ok",
     "timestamp": 1712057836751,
     "user": {
      "displayName": "Er. Dev Jethva",
      "userId": "01731661872769925054"
     },
     "user_tz": -330
    },
    "id": "kmrTugRGb-6F"
   },
   "outputs": [],
   "source": [
    "import numpy as np\n",
    "import pandas as pd\n",
    "import matplotlib.pyplot as plt\n",
    "from glob import glob\n",
    "import sklearn.metrics as metrics\n",
    "import tensorflow as tf\n",
    "from keras.preprocessing.image import ImageDataGenerator\n",
    "from tensorflow.keras.models import Model\n",
    "from tensorflow.keras.layers import Flatten, Dense\n",
    "from tensorflow.keras.applications import VGG16"
   ]
  },
  {
   "cell_type": "markdown",
   "metadata": {
    "id": "Fgj8q-lUe1AK"
   },
   "source": [
    "Initialization"
   ]
  },
  {
   "cell_type": "code",
   "execution_count": 3,
   "metadata": {
    "executionInfo": {
     "elapsed": 8,
     "status": "ok",
     "timestamp": 1712057836751,
     "user": {
      "displayName": "Er. Dev Jethva",
      "userId": "01731661872769925054"
     },
     "user_tz": -330
    },
    "id": "yTDPLutPdbH_"
   },
   "outputs": [],
   "source": [
    "num_classes=2\n",
    "IMAGE_SHAPE = [224, 224]\n",
    "batch_size=32 #change for better accuracy based on your dataset\n",
    "epochs = 5 #change for better accuracy based on your dataset"
   ]
  },
  {
   "cell_type": "markdown",
   "metadata": {
    "id": "VLH4fhC6fHGx"
   },
   "source": [
    "Load the compile and VGG Model"
   ]
  },
  {
   "cell_type": "code",
   "execution_count": 4,
   "metadata": {
    "executionInfo": {
     "elapsed": 1046,
     "status": "ok",
     "timestamp": 1712057837791,
     "user": {
      "displayName": "Er. Dev Jethva",
      "userId": "01731661872769925054"
     },
     "user_tz": -330
    },
    "id": "TODoo0okdu1d"
   },
   "outputs": [],
   "source": [
    "vgg = VGG16(input_shape = (224,224,3), weights = \"imagenet\", include_top = False)\n",
    "for layer in vgg.layers:\n",
    " layer.trainable = False\n",
    "x = Flatten()(vgg.output)\n",
    "x = Dense(128, activation = \"relu\")(x)\n",
    "x = Dense(64, activation = \"relu\")(x)\n",
    "x = Dense(num_classes, activation = \"softmax\")(x)\n",
    "model = Model(inputs = vgg.input, outputs = x)\n",
    "model.compile(loss=\"categorical_crossentropy\", optimizer=\"adam\", metrics=[\"accuracy\"])"
   ]
  },
  {
   "cell_type": "markdown",
   "metadata": {
    "id": "F8U8yGeSfK8A"
   },
   "source": [
    "Image data Generator"
   ]
  },
  {
   "cell_type": "code",
   "execution_count": 5,
   "metadata": {
    "colab": {
     "base_uri": "https://localhost:8080/"
    },
    "executionInfo": {
     "elapsed": 10,
     "status": "ok",
     "timestamp": 1712057837791,
     "user": {
      "displayName": "Er. Dev Jethva",
      "userId": "01731661872769925054"
     },
     "user_tz": -330
    },
    "id": "l7nTLvuXdz_r",
    "outputId": "2677d535-04f6-4590-b333-8de8ff9b0563"
   },
   "outputs": [
    {
     "name": "stdout",
     "output_type": "stream",
     "text": [
      "Found 557 images belonging to 2 classes.\n",
      "Found 140 images belonging to 2 classes.\n"
     ]
    }
   ],
   "source": [
    "trdata = ImageDataGenerator()\n",
    "train_data_gen = trdata.flow_from_directory(directory=\"/content/drive/MyDrive/dog_cat/train\",target_size=(224,224), shuffle=False, class_mode=\"categorical\")\n",
    "tsdata = ImageDataGenerator()\n",
    "test_data_gen = tsdata.flow_from_directory(directory=\"/content/drive/MyDrive/dog_cat/test\", target_size=(224,224),shuffle=False, class_mode=\"categorical\")"
   ]
  },
  {
   "cell_type": "markdown",
   "metadata": {
    "id": "4NcM9mlfgyGn"
   },
   "source": [
    "Train the model"
   ]
  },
  {
   "cell_type": "code",
   "execution_count": 6,
   "metadata": {
    "colab": {
     "base_uri": "https://localhost:8080/"
    },
    "executionInfo": {
     "elapsed": 66672,
     "status": "ok",
     "timestamp": 1712057904455,
     "user": {
      "displayName": "Er. Dev Jethva",
      "userId": "01731661872769925054"
     },
     "user_tz": -330
    },
    "id": "eRVYlMyUfbEQ",
    "outputId": "bf773826-9091-4bf7-c6c4-1690327b0145"
   },
   "outputs": [
    {
     "name": "stderr",
     "output_type": "stream",
     "text": [
      "<ipython-input-6-96bda0dba74b>:3: UserWarning: `Model.fit_generator` is deprecated and will be removed in a future version. Please use `Model.fit`, which supports generators.\n",
      "  model.fit_generator(train_data_gen, steps_per_epoch = training_steps_per_epoch, validation_data=test_data_gen, validation_steps=validation_steps_per_epoch,epochs=epochs, verbose=1)\n"
     ]
    },
    {
     "name": "stdout",
     "output_type": "stream",
     "text": [
      "Epoch 1/5\n",
      "18/18 [==============================] - 26s 950ms/step - loss: 36.8219 - accuracy: 0.5853 - val_loss: 4.4585 - val_accuracy: 0.8357\n",
      "Epoch 2/5\n",
      "18/18 [==============================] - 8s 446ms/step - loss: 1.5079 - accuracy: 0.9174 - val_loss: 3.0606 - val_accuracy: 0.8714\n",
      "Epoch 3/5\n",
      "18/18 [==============================] - 7s 376ms/step - loss: 0.1231 - accuracy: 0.9856 - val_loss: 2.2922 - val_accuracy: 0.8857\n",
      "Epoch 4/5\n",
      "18/18 [==============================] - 7s 408ms/step - loss: 0.2910 - accuracy: 0.9677 - val_loss: 5.0375 - val_accuracy: 0.8357\n",
      "Epoch 5/5\n",
      "18/18 [==============================] - 8s 432ms/step - loss: 0.1119 - accuracy: 0.9928 - val_loss: 3.2118 - val_accuracy: 0.8786\n",
      "Training Completed!\n"
     ]
    }
   ],
   "source": [
    "training_steps_per_epoch = np.ceil(train_data_gen.samples / batch_size)\n",
    "validation_steps_per_epoch = np.ceil(test_data_gen.samples / batch_size)\n",
    "model.fit_generator(train_data_gen, steps_per_epoch = training_steps_per_epoch, validation_data=test_data_gen, validation_steps=validation_steps_per_epoch,epochs=epochs, verbose=1)\n",
    "print(\"Training Completed!\")"
   ]
  },
  {
   "cell_type": "markdown",
   "metadata": {
    "id": "8ryuHxA3jKkO"
   },
   "source": [
    "Accuracy"
   ]
  },
  {
   "cell_type": "code",
   "execution_count": 7,
   "metadata": {
    "colab": {
     "base_uri": "https://localhost:8080/"
    },
    "executionInfo": {
     "elapsed": 1937,
     "status": "ok",
     "timestamp": 1712057906375,
     "user": {
      "displayName": "Er. Dev Jethva",
      "userId": "01731661872769925054"
     },
     "user_tz": -330
    },
    "id": "aQ5iL6cYg2PE",
    "outputId": "b21701d7-43ac-4807-ca01-4bf3541c79b8"
   },
   "outputs": [
    {
     "name": "stdout",
     "output_type": "stream",
     "text": [
      "5/5 [==============================] - 1s 279ms/step\n",
      "              precision    recall  f1-score   support\n",
      "\n",
      "           0       0.90      0.86      0.88        70\n",
      "           1       0.86      0.90      0.88        70\n",
      "\n",
      "    accuracy                           0.88       140\n",
      "   macro avg       0.88      0.88      0.88       140\n",
      "weighted avg       0.88      0.88      0.88       140\n",
      "\n"
     ]
    }
   ],
   "source": [
    "Y_pred = model.predict(test_data_gen, test_data_gen.samples / batch_size)\n",
    "val_preds = np.argmax(Y_pred, axis=1)\n",
    "# Create a matrix\n",
    "import sklearn.metrics as metrics\n",
    "val_trues =test_data_gen.classes\n",
    "#Create classification report\n",
    "from sklearn.metrics import classification_report\n",
    "print(classification_report(val_trues, val_preds))"
   ]
  },
  {
   "cell_type": "markdown",
   "metadata": {
    "id": "bVLuwfEpjjjS"
   },
   "source": [
    "Confusion Matrix"
   ]
  },
  {
   "cell_type": "code",
   "execution_count": 8,
   "metadata": {
    "colab": {
     "base_uri": "https://localhost:8080/"
    },
    "executionInfo": {
     "elapsed": 1660,
     "status": "ok",
     "timestamp": 1712057908026,
     "user": {
      "displayName": "Er. Dev Jethva",
      "userId": "01731661872769925054"
     },
     "user_tz": -330
    },
    "id": "ysNlNFEyjUta",
    "outputId": "9572586e-1e47-459e-8059-ff79083668bf"
   },
   "outputs": [
    {
     "name": "stdout",
     "output_type": "stream",
     "text": [
      "5/5 [==============================] - 1s 278ms/step\n"
     ]
    },
    {
     "data": {
      "text/plain": [
       "array([[60, 10],\n",
       "       [ 7, 63]])"
      ]
     },
     "execution_count": 8,
     "metadata": {},
     "output_type": "execute_result"
    }
   ],
   "source": [
    "Y_pred = model.predict(test_data_gen, test_data_gen.samples / batch_size)\n",
    "val_preds = np.argmax(Y_pred, axis=1)\n",
    "val_trues =test_data_gen.classes\n",
    "cm = metrics.confusion_matrix(val_trues, val_preds)\n",
    "cm"
   ]
  },
  {
   "cell_type": "markdown",
   "metadata": {
    "id": "_JmfLeB5keWv"
   },
   "source": [
    "Save the Model"
   ]
  },
  {
   "cell_type": "code",
   "execution_count": 12,
   "metadata": {
    "colab": {
     "base_uri": "https://localhost:8080/"
    },
    "executionInfo": {
     "elapsed": 786,
     "status": "ok",
     "timestamp": 1712058056092,
     "user": {
      "displayName": "Er. Dev Jethva",
      "userId": "01731661872769925054"
     },
     "user_tz": -330
    },
    "id": "UXQxJB8_jl0i",
    "outputId": "ba383855-fad9-4a82-c5f7-fc4c2015bae8"
   },
   "outputs": [
    {
     "name": "stderr",
     "output_type": "stream",
     "text": [
      "<ipython-input-12-981ad33596cb>:2: UserWarning: You are saving your model as an HDF5 file via `model.save()`. This file format is considered legacy. We recommend using instead the native Keras format, e.g. `model.save('my_model.keras')`.\n",
      "  tf.keras.models.save_model(model,keras_file)\n"
     ]
    }
   ],
   "source": [
    "keras_file=\"Model.h5\"\n",
    "tf.keras.models.save_model(model,keras_file)"
   ]
  },
  {
   "cell_type": "markdown",
   "metadata": {
    "id": "YjeVZ-5Nkn-F"
   },
   "source": [
    "Prediction using new image"
   ]
  },
  {
   "cell_type": "code",
   "execution_count": 14,
   "metadata": {
    "colab": {
     "base_uri": "https://localhost:8080/"
    },
    "executionInfo": {
     "elapsed": 3289,
     "status": "ok",
     "timestamp": 1712058186814,
     "user": {
      "displayName": "Er. Dev Jethva",
      "userId": "01731661872769925054"
     },
     "user_tz": -330
    },
    "id": "ZIDbAOhZkhF5",
    "outputId": "2668607d-5ccd-4146-f299-369d33e748da"
   },
   "outputs": [
    {
     "name": "stdout",
     "output_type": "stream",
     "text": [
      "1/1 [==============================] - 0s 370ms/step\n",
      "Cat\n"
     ]
    }
   ],
   "source": [
    "#create new file test.py and run this file\n",
    "from tensorflow.keras.models import load_model\n",
    "from tensorflow.keras.preprocessing import image\n",
    "from tensorflow.keras.applications.vgg16 import preprocess_input, decode_predictions\n",
    "import numpy as np\n",
    "#load saved model\n",
    "model = load_model(\"Model.h5\")\n",
    "img_path = '/content/drive/MyDrive/dog_cat/test/cats/cat_306.jpg'\n",
    "img = image.load_img(img_path, target_size=(224, 224))\n",
    "x = image.img_to_array(img)\n",
    "x = np.expand_dims(x, axis=0)\n",
    "x = preprocess_input(x)\n",
    "preds=model.predict(x)\n",
    "# create a list containing the class labels\n",
    "class_labels = [\"Dog\",\"Cat\"]\n",
    "# find the index of the class with maximum score\n",
    "pred = np.argmax(preds, axis=-1)\n",
    "# print the label of the class with maximum score\n",
    "print(class_labels[pred[0]])"
   ]
  },
  {
   "cell_type": "code",
   "execution_count": null,
   "metadata": {
    "id": "-fMSNMm2oKVU"
   },
   "outputs": [],
   "source": []
  }
 ],
 "metadata": {
  "accelerator": "GPU",
  "colab": {
   "authorship_tag": "ABX9TyO0kLPxMaxPXpTRmhQss6eX",
   "gpuType": "T4",
   "provenance": []
  },
  "kernelspec": {
   "display_name": "Python 3 (ipykernel)",
   "language": "python",
   "name": "python3"
  },
  "language_info": {
   "codemirror_mode": {
    "name": "ipython",
    "version": 3
   },
   "file_extension": ".py",
   "mimetype": "text/x-python",
   "name": "python",
   "nbconvert_exporter": "python",
   "pygments_lexer": "ipython3",
   "version": "3.11.1"
  },
  "nbTranslate": {
   "displayLangs": [
    "*"
   ],
   "hotkey": "alt-t",
   "langInMainMenu": true,
   "sourceLang": "en",
   "targetLang": "fr",
   "useGoogleTranslate": true
  },
  "toc": {
   "base_numbering": 1,
   "nav_menu": {},
   "number_sections": true,
   "sideBar": true,
   "skip_h1_title": false,
   "title_cell": "Table of Contents",
   "title_sidebar": "Contents",
   "toc_cell": false,
   "toc_position": {},
   "toc_section_display": true,
   "toc_window_display": false
  },
  "varInspector": {
   "cols": {
    "lenName": 16,
    "lenType": 16,
    "lenVar": 40
   },
   "kernels_config": {
    "python": {
     "delete_cmd_postfix": "",
     "delete_cmd_prefix": "del ",
     "library": "var_list.py",
     "varRefreshCmd": "print(var_dic_list())"
    },
    "r": {
     "delete_cmd_postfix": ") ",
     "delete_cmd_prefix": "rm(",
     "library": "var_list.r",
     "varRefreshCmd": "cat(var_dic_list()) "
    }
   },
   "types_to_exclude": [
    "module",
    "function",
    "builtin_function_or_method",
    "instance",
    "_Feature"
   ],
   "window_display": false
  }
 },
 "nbformat": 4,
 "nbformat_minor": 1
}
