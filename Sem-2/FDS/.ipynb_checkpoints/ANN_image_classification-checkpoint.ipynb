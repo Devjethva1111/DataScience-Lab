{
 "cells": [
  {
   "cell_type": "code",
   "execution_count": 1,
   "metadata": {
    "id": "0mrBWV44OmxV"
   },
   "outputs": [],
   "source": [
    "import tensorflow as tf\n",
    "from tensorflow.keras.models import Sequential\n",
    "from tensorflow.keras.layers import Dense, Flatten, Dropout\n",
    "from tensorflow.keras.preprocessing.image import ImageDataGenerator\n"
   ]
  },
  {
   "cell_type": "code",
   "execution_count": 2,
   "metadata": {
    "id": "N5yHW8EbOoHu"
   },
   "outputs": [],
   "source": [
    "# Define constants\n",
    "IMG_HEIGHT = 150\n",
    "IMG_WIDTH = 150\n",
    "batch_size = 32\n",
    "epochs = 10"
   ]
  },
  {
   "cell_type": "code",
   "execution_count": 3,
   "metadata": {
    "colab": {
     "base_uri": "https://localhost:8080/"
    },
    "id": "YtDRFrZnOp-b",
    "outputId": "b4598d79-fe4f-4ae6-e1ae-a46acca3b4fc"
   },
   "outputs": [
    {
     "name": "stdout",
     "output_type": "stream",
     "text": [
      "Found 557 images belonging to 2 classes.\n"
     ]
    }
   ],
   "source": [
    "\n",
    "# Data preprocessing\n",
    "train_data_gen = ImageDataGenerator(rescale=1./255)\n",
    "train_generator = train_data_gen.flow_from_directory(\n",
    "    directory='/content/drive/MyDrive/DATASET/Sem 2/NN &DL/dog cat/train',\n",
    "    target_size=(IMG_HEIGHT, IMG_WIDTH),\n",
    "    batch_size=batch_size,\n",
    "    class_mode='binary'\n",
    ")"
   ]
  },
  {
   "cell_type": "code",
   "execution_count": 4,
   "metadata": {
    "id": "xw-pbeWVOroj"
   },
   "outputs": [],
   "source": [
    "\n",
    "# Build the model\n",
    "model = Sequential([\n",
    "    Flatten(input_shape=(IMG_HEIGHT, IMG_WIDTH, 3)),\n",
    "    Dense(128, activation='relu'),\n",
    "    Dropout(0.5),\n",
    "    Dense(1, activation='sigmoid')\n",
    "])"
   ]
  },
  {
   "cell_type": "code",
   "execution_count": 5,
   "metadata": {
    "colab": {
     "base_uri": "https://localhost:8080/"
    },
    "id": "U892daWiOu_b",
    "outputId": "1032b553-bff3-4a22-daa7-0c2fa27b7df3"
   },
   "outputs": [
    {
     "name": "stdout",
     "output_type": "stream",
     "text": [
      "Epoch 1/10\n",
      "17/17 [==============================] - 134s 8s/step - loss: 13.7723 - accuracy: 0.5505\n",
      "Epoch 2/10\n",
      "17/17 [==============================] - 10s 608ms/step - loss: 1.4832 - accuracy: 0.5092\n",
      "Epoch 3/10\n",
      "17/17 [==============================] - 8s 480ms/step - loss: 0.7433 - accuracy: 0.5295\n",
      "Epoch 4/10\n",
      "17/17 [==============================] - 9s 507ms/step - loss: 0.6914 - accuracy: 0.5276\n",
      "Epoch 5/10\n",
      "17/17 [==============================] - 10s 564ms/step - loss: 0.6922 - accuracy: 0.5314\n",
      "Epoch 6/10\n",
      "17/17 [==============================] - 9s 521ms/step - loss: 0.6901 - accuracy: 0.5429\n",
      "Epoch 7/10\n",
      "17/17 [==============================] - 8s 466ms/step - loss: 0.6908 - accuracy: 0.5124\n",
      "Epoch 8/10\n",
      "17/17 [==============================] - 10s 555ms/step - loss: 0.6915 - accuracy: 0.5314\n",
      "Epoch 9/10\n",
      "17/17 [==============================] - 10s 563ms/step - loss: 0.6882 - accuracy: 0.5333\n",
      "Epoch 10/10\n",
      "17/17 [==============================] - 9s 509ms/step - loss: 0.6936 - accuracy: 0.5352\n"
     ]
    }
   ],
   "source": [
    "# Compile the model\n",
    "model.compile(optimizer='adam',\n",
    "              loss='binary_crossentropy',\n",
    "              metrics=['accuracy'])\n",
    "\n",
    "# Train the model\n",
    "history = model.fit(\n",
    "    train_generator,\n",
    "    steps_per_epoch=train_generator.samples // batch_size,\n",
    "    epochs=5\n",
    ")"
   ]
  },
  {
   "cell_type": "code",
   "execution_count": 6,
   "metadata": {
    "colab": {
     "base_uri": "https://localhost:8080/"
    },
    "id": "9nX4YWHGOyJ7",
    "outputId": "40191b1e-b489-4e55-a3f0-ae8f6a5c3409"
   },
   "outputs": [
    {
     "name": "stdout",
     "output_type": "stream",
     "text": [
      "Found 140 images belonging to 2 classes.\n"
     ]
    }
   ],
   "source": [
    "# Evaluate the model\n",
    "test_data_gen = ImageDataGenerator(rescale=1./255)\n",
    "test_generator = test_data_gen.flow_from_directory(\n",
    "    directory='/content/drive/MyDrive/DATASET/Sem 2/NN &DL/dog cat/test',\n",
    "    target_size=(IMG_HEIGHT, IMG_WIDTH),\n",
    "    batch_size=batch_size,\n",
    "    class_mode='binary',\n",
    "    shuffle=False\n",
    ")"
   ]
  },
  {
   "cell_type": "code",
   "execution_count": 7,
   "metadata": {
    "colab": {
     "base_uri": "https://localhost:8080/"
    },
    "id": "H0uYOymEOec-",
    "outputId": "89bf617e-9f9f-41a7-983b-2f334b2900ad"
   },
   "outputs": [
    {
     "name": "stdout",
     "output_type": "stream",
     "text": [
      "5/5 [==============================] - 58s 14s/step - loss: 0.6954 - accuracy: 0.5214\n",
      "Test Accuracy: 0.5214285850524902\n"
     ]
    }
   ],
   "source": [
    "# Evaluate the model on the test data\n",
    "loss, accuracy = model.evaluate(test_generator)\n",
    "print(\"Test Accuracy:\", accuracy)\n"
   ]
  },
  {
   "cell_type": "code",
   "execution_count": null,
   "metadata": {},
   "outputs": [],
   "source": []
  }
 ],
 "metadata": {
  "colab": {
   "provenance": []
  },
  "kernelspec": {
   "display_name": "Python 3 (ipykernel)",
   "language": "python",
   "name": "python3"
  },
  "language_info": {
   "codemirror_mode": {
    "name": "ipython",
    "version": 3
   },
   "file_extension": ".py",
   "mimetype": "text/x-python",
   "name": "python",
   "nbconvert_exporter": "python",
   "pygments_lexer": "ipython3",
   "version": "3.11.1"
  },
  "nbTranslate": {
   "displayLangs": [
    "*"
   ],
   "hotkey": "alt-t",
   "langInMainMenu": true,
   "sourceLang": "en",
   "targetLang": "fr",
   "useGoogleTranslate": true
  },
  "toc": {
   "base_numbering": 1,
   "nav_menu": {},
   "number_sections": true,
   "sideBar": true,
   "skip_h1_title": false,
   "title_cell": "Table of Contents",
   "title_sidebar": "Contents",
   "toc_cell": false,
   "toc_position": {},
   "toc_section_display": true,
   "toc_window_display": false
  },
  "varInspector": {
   "cols": {
    "lenName": 16,
    "lenType": 16,
    "lenVar": 40
   },
   "kernels_config": {
    "python": {
     "delete_cmd_postfix": "",
     "delete_cmd_prefix": "del ",
     "library": "var_list.py",
     "varRefreshCmd": "print(var_dic_list())"
    },
    "r": {
     "delete_cmd_postfix": ") ",
     "delete_cmd_prefix": "rm(",
     "library": "var_list.r",
     "varRefreshCmd": "cat(var_dic_list()) "
    }
   },
   "types_to_exclude": [
    "module",
    "function",
    "builtin_function_or_method",
    "instance",
    "_Feature"
   ],
   "window_display": false
  }
 },
 "nbformat": 4,
 "nbformat_minor": 1
}
