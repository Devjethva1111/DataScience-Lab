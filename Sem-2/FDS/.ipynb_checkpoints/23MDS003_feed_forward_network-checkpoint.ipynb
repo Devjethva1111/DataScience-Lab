{
 "cells": [
  {
   "cell_type": "code",
   "execution_count": 2,
   "id": "586664fb",
   "metadata": {},
   "outputs": [],
   "source": [
    "import numpy as np\n",
    "import pandas as pd\n",
    "import random "
   ]
  },
  {
   "cell_type": "code",
   "execution_count": 7,
   "id": "becc4701",
   "metadata": {},
   "outputs": [],
   "source": [
    "w1 = np.random.rand()\n",
    "w2 = np.random.rand()\n",
    "b = np.random.rand()"
   ]
  },
  {
   "cell_type": "code",
   "execution_count": 9,
   "id": "96ec6e27",
   "metadata": {},
   "outputs": [],
   "source": [
    "i1 = np.array([1,3,5,6,8,9])\n",
    "i2 = np.array([2,4,6,5,9,1])\n",
    "y = np.array([1,0,0,1,0,0])"
   ]
  },
  {
   "cell_type": "code",
   "execution_count": 10,
   "id": "efe24763",
   "metadata": {},
   "outputs": [],
   "source": [
    "def nn(i1,i2,w1,w2,b):\n",
    "    s = i1 * w1 + i2 * w2 + b\n",
    "    return sigmoid(s)\n",
    "def sigmoid(x):\n",
    "    sig = (1 / 1 + np.exp(-x))\n",
    "    return sig\n",
    "    if sig >=0.5:\n",
    "        return 1\n",
    "    else: 0 "
   ]
  },
  {
   "cell_type": "code",
   "execution_count": 11,
   "id": "6c4374db",
   "metadata": {},
   "outputs": [
    {
     "data": {
      "text/plain": [
       "array([1.13208674, 1.01719872, 1.00223941, 1.00232439, 1.00010522,\n",
       "       1.00440823])"
      ]
     },
     "execution_count": 11,
     "metadata": {},
     "output_type": "execute_result"
    }
   ],
   "source": [
    "nn(i1,i2,w1,w2,b)"
   ]
  },
  {
   "cell_type": "code",
   "execution_count": 12,
   "id": "18945e8d",
   "metadata": {},
   "outputs": [
    {
     "name": "stdout",
     "output_type": "stream",
     "text": [
      "Generated Input Data:\n",
      "[[0.1878358  0.65231807 0.82412315]\n",
      " [0.29876008 0.09567378 0.67655525]\n",
      " [0.24744777 0.48982268 0.35603491]\n",
      " [0.59040879 0.73695218 0.08636799]\n",
      " [0.38455671 0.02116937 0.07459059]\n",
      " [0.50114767 0.54106197 0.3227101 ]\n",
      " [0.51795876 0.94152941 0.59740388]]\n",
      "\n",
      "Neural Network Predictions:\n",
      "[[0.60908377]\n",
      " [0.56814554]\n",
      " [0.55951172]\n",
      " [0.54989756]\n",
      " [0.510047  ]\n",
      " [0.5605457 ]\n",
      " [0.60560181]]\n"
     ]
    }
   ],
   "source": [
    "import numpy as np\n",
    "\n",
    "def sigmoid(x):\n",
    "    return 1 / (1 + np.exp(-x))\n",
    "\n",
    "# Randomly initialize weights and bias\n",
    "w = np.random.rand(3, 1)\n",
    "b = np.zeros((1, 1))\n",
    "\n",
    "def nn(input_data):\n",
    "    # Calculate the weighted sum of inputs and apply the sigmoid activation function\n",
    "    s = np.dot(input_data, w) + b\n",
    "    output = sigmoid(s)\n",
    "    return output\n",
    "\n",
    "# Generated input data (7 rows and 3 columns)\n",
    "input_data = np.random.rand(7, 3)\n",
    "\n",
    "# Perform a forward pass through the neural network\n",
    "predictions = nn(input_data)\n",
    "\n",
    "# Print the results\n",
    "print(\"Generated Input Data:\")\n",
    "print(input_data)\n",
    "print(\"\\nNeural Network Predictions:\")\n",
    "print(predictions)"
   ]
  },
  {
   "cell_type": "code",
   "execution_count": 13,
   "id": "2446e51d",
   "metadata": {},
   "outputs": [
    {
     "name": "stdout",
     "output_type": "stream",
     "text": [
      "Neural Network Output:\n",
      "[[0.73533256]\n",
      " [0.70566097]\n",
      " [0.53679489]\n",
      " [0.5       ]]\n"
     ]
    }
   ],
   "source": [
    "import numpy as np\n",
    "import pandas as pd\n",
    "\n",
    "def sigmoid(x):\n",
    "    return 1 / (1 + np.exp(-x))\n",
    "\n",
    "w = np.random.rand(2, 1)\n",
    "b = np.zeros((1, 1))       \n",
    "\n",
    "def nn(inputs):\n",
    "    s = np.dot(inputs, w) + b\n",
    "    out = sigmoid(s)\n",
    "    return out\n",
    "\n",
    "# Input DataFrame\n",
    "data = {\"x1\": [1, 1, 0, 0], \"x2\": [1, 0, 1, 0], \"y\": [1, 0, 0, 0]}\n",
    "df = pd.DataFrame(data)\n",
    "\n",
    "# Extracting input values (excluding the 'y' column)\n",
    "input_data = df.drop(columns=['y']).values\n",
    "\n",
    "# Perform a forward pass through the neural network\n",
    "output = nn(input_data)\n",
    "\n",
    "print(\"Neural Network Output:\")\n",
    "print(output)"
   ]
  },
  {
   "cell_type": "code",
   "execution_count": 16,
   "id": "b9eea36a",
   "metadata": {},
   "outputs": [
    {
     "name": "stdout",
     "output_type": "stream",
     "text": [
      "Epoch 0, Error: 0.509608437989116\n",
      "Epoch 100, Error: 0.32203726085085693\n",
      "Epoch 200, Error: 0.27122678511359266\n",
      "Epoch 300, Error: 0.2365876944579723\n",
      "Epoch 400, Error: 0.21073186943841296\n",
      "Epoch 500, Error: 0.19046443739990887\n",
      "Epoch 600, Error: 0.1740127111534862\n",
      "Epoch 700, Error: 0.16031158542117602\n",
      "Epoch 800, Error: 0.1486781558896032\n",
      "Epoch 900, Error: 0.13865036197235675\n",
      "Trained Weights:\n",
      "[[3.01187767]\n",
      " [3.0202648 ]]\n",
      "\n",
      "Trained Bias:\n",
      "[[-4.82638443]]\n"
     ]
    }
   ],
   "source": [
    "import numpy as np\n",
    "import pandas as pd\n",
    "\n",
    "def sigmoid(x):\n",
    "    return 1 / (1 + np.exp(-x))\n",
    "\n",
    "def sigmoid_derivative(x):\n",
    "    return sigmoid(x) * (1 - sigmoid(x))\n",
    "\n",
    "# Randomly initialize weights and bias\n",
    "w = np.random.rand(2, 1)\n",
    "b = np.zeros((1, 1))       \n",
    "\n",
    "def nn(inputs):\n",
    "    s = np.dot(inputs, w) + b\n",
    "    out = sigmoid(s)\n",
    "    return out\n",
    "\n",
    "def backpropagation(inputs, targets, learning_rate=0.1, epochs=1000):\n",
    "    global w, b  # Declare w and b as global variables\n",
    "    \n",
    "    for epoch in range(epochs):\n",
    "        # Forward pass\n",
    "        predicted_output = nn(inputs)\n",
    "        \n",
    "        # Calculate the error\n",
    "        error = targets - predicted_output\n",
    "\n",
    "        # Backpropagation\n",
    "        output_gradient = sigmoid_derivative(predicted_output)\n",
    "        delta_output = error * output_gradient\n",
    "\n",
    "        # Update weights\n",
    "        w += learning_rate * np.dot(inputs.T, delta_output)\n",
    "        b += learning_rate * np.sum(delta_output, axis=0, keepdims=True)\n",
    "\n",
    "        # Print the error every 100 epochs\n",
    "        if epoch % 100 == 0:\n",
    "            print(f\"Epoch {epoch}, Error: {np.mean(np.abs(error))}\")\n",
    "\n",
    "    return w, b\n",
    "\n",
    "# Input DataFrame\n",
    "d = {\"x1\": [1, 1, 0, 0], \"x2\": [1, 0, 1, 0], \"y\": [1, 0, 0, 0]}\n",
    "df = pd.DataFrame(d)\n",
    "\n",
    "# Extracting input and target values\n",
    "input_data = df.drop(columns=['y']).values\n",
    "targets = df['y'].values.reshape(-1, 1)\n",
    "\n",
    "# Perform backpropagation\n",
    "trained_w, trained_b = backpropagation(input_data, targets)\n",
    "\n",
    "# Print the final weights and bias\n",
    "print(\"Trained Weights:\")\n",
    "print(trained_w)\n",
    "print(\"\\nTrained Bias:\")\n",
    "print(trained_b)"
   ]
  },
  {
   "cell_type": "code",
   "execution_count": 17,
   "id": "fc09c060",
   "metadata": {},
   "outputs": [],
   "source": [
    "import numpy as np\n",
    "import pandas as pd\n",
    "\n",
    "def sigmoid(x):\n",
    "    return 1 / (1 + np.exp(-x))\n",
    "\n",
    "w = np.random.rand(2, 1)\n",
    "b = np.zeros((1, 1))       \n",
    "\n",
    "def nn(inputs):\n",
    "    s = np.dot(inputs, w) + b\n",
    "    out = sigmoid(s)\n",
    "    return out\n",
    "\n",
    "d = {\"x1\": [1, 1, 0, 0], \"x2\": [1, 0, 1, 0], \"y\": [1, 0, 0, 0]}\n",
    "df = pd.DataFrame(d)\n",
    "\n",
    "input_data = df.drop(columns=['y']).values\n",
    "\n",
    "output = nn(input_data)\n",
    "\n",
    "output\n",
    "\n",
    "y1= np.round(output)"
   ]
  },
  {
   "cell_type": "code",
   "execution_count": 18,
   "id": "4800fb05",
   "metadata": {},
   "outputs": [
    {
     "data": {
      "text/plain": [
       "array([[1.],\n",
       "       [1.],\n",
       "       [1.],\n",
       "       [0.]])"
      ]
     },
     "execution_count": 18,
     "metadata": {},
     "output_type": "execute_result"
    }
   ],
   "source": [
    "y1"
   ]
  },
  {
   "cell_type": "code",
   "execution_count": 19,
   "id": "06dbc625",
   "metadata": {},
   "outputs": [
    {
     "data": {
      "text/plain": [
       "array([[1.],\n",
       "       [1.],\n",
       "       [1.],\n",
       "       [0.]])"
      ]
     },
     "execution_count": 19,
     "metadata": {},
     "output_type": "execute_result"
    }
   ],
   "source": [
    "np.round(output)"
   ]
  },
  {
   "cell_type": "code",
   "execution_count": 20,
   "id": "daaeaf8d",
   "metadata": {},
   "outputs": [
    {
     "data": {
      "text/plain": [
       "array([1., 1., 1., 0.])"
      ]
     },
     "execution_count": 20,
     "metadata": {},
     "output_type": "execute_result"
    }
   ],
   "source": [
    "y1.flatten()"
   ]
  },
  {
   "cell_type": "code",
   "execution_count": 22,
   "id": "af543aa2",
   "metadata": {},
   "outputs": [
    {
     "data": {
      "text/plain": [
       "array([0., 1., 1., 0.])"
      ]
     },
     "execution_count": 22,
     "metadata": {},
     "output_type": "execute_result"
    }
   ],
   "source": [
    "(y1.flatten() - df[\"y\"].values)"
   ]
  },
  {
   "cell_type": "code",
   "execution_count": 23,
   "id": "ab66e80b",
   "metadata": {},
   "outputs": [
    {
     "data": {
      "text/plain": [
       "array([[1.],\n",
       "       [1.],\n",
       "       [1.],\n",
       "       [0.]])"
      ]
     },
     "execution_count": 23,
     "metadata": {},
     "output_type": "execute_result"
    }
   ],
   "source": [
    "df[\"y\"].values\n",
    "y1"
   ]
  },
  {
   "cell_type": "code",
   "execution_count": 24,
   "id": "fdf641b8",
   "metadata": {},
   "outputs": [],
   "source": [
    "c = ((y1.flatten() - df[\"y\"].values) ** 2) / 2"
   ]
  },
  {
   "cell_type": "code",
   "execution_count": 25,
   "id": "163481b3",
   "metadata": {},
   "outputs": [
    {
     "data": {
      "text/plain": [
       "array([0. , 0.5, 0.5, 0. ])"
      ]
     },
     "execution_count": 25,
     "metadata": {},
     "output_type": "execute_result"
    }
   ],
   "source": [
    "c"
   ]
  },
  {
   "cell_type": "code",
   "execution_count": null,
   "id": "f77d57ef",
   "metadata": {},
   "outputs": [],
   "source": []
  }
 ],
 "metadata": {
  "kernelspec": {
   "display_name": "Python 3 (ipykernel)",
   "language": "python",
   "name": "python3"
  },
  "language_info": {
   "codemirror_mode": {
    "name": "ipython",
    "version": 3
   },
   "file_extension": ".py",
   "mimetype": "text/x-python",
   "name": "python",
   "nbconvert_exporter": "python",
   "pygments_lexer": "ipython3",
   "version": "3.11.1"
  },
  "nbTranslate": {
   "displayLangs": [
    "*"
   ],
   "hotkey": "alt-t",
   "langInMainMenu": true,
   "sourceLang": "en",
   "targetLang": "fr",
   "useGoogleTranslate": true
  },
  "toc": {
   "base_numbering": 1,
   "nav_menu": {},
   "number_sections": true,
   "sideBar": true,
   "skip_h1_title": false,
   "title_cell": "Table of Contents",
   "title_sidebar": "Contents",
   "toc_cell": false,
   "toc_position": {},
   "toc_section_display": true,
   "toc_window_display": false
  },
  "varInspector": {
   "cols": {
    "lenName": 16,
    "lenType": 16,
    "lenVar": 40
   },
   "kernels_config": {
    "python": {
     "delete_cmd_postfix": "",
     "delete_cmd_prefix": "del ",
     "library": "var_list.py",
     "varRefreshCmd": "print(var_dic_list())"
    },
    "r": {
     "delete_cmd_postfix": ") ",
     "delete_cmd_prefix": "rm(",
     "library": "var_list.r",
     "varRefreshCmd": "cat(var_dic_list()) "
    }
   },
   "types_to_exclude": [
    "module",
    "function",
    "builtin_function_or_method",
    "instance",
    "_Feature"
   ],
   "window_display": false
  }
 },
 "nbformat": 4,
 "nbformat_minor": 5
}
