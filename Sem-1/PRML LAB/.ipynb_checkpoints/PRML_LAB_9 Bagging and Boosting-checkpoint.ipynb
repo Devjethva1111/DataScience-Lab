{
 "cells": [
  {
   "cell_type": "markdown",
   "id": "2afaa95f",
   "metadata": {},
   "source": [
    "# Assignment 9"
   ]
  },
  {
   "cell_type": "markdown",
   "id": "57fb9099",
   "metadata": {},
   "source": [
    "## Bagging and Boosting"
   ]
  },
  {
   "cell_type": "code",
   "execution_count": 1,
   "id": "fd02f320",
   "metadata": {},
   "outputs": [],
   "source": [
    "import pandas as pd\n",
    "from sklearn.model_selection import train_test_split\n",
    "from sklearn.ensemble import BaggingClassifier\n",
    "from sklearn.metrics import accuracy_score\n",
    "\n",
    "# Load the dataset using pandas with a custom separator."
   ]
  },
  {
   "cell_type": "markdown",
   "id": "c35e315f",
   "metadata": {},
   "source": [
    "Exercise 1"
   ]
  },
  {
   "cell_type": "markdown",
   "id": "061f057f",
   "metadata": {},
   "source": [
    "* Download the wine quality dataset and save it as winequality-white.csv in your working directory.\n",
    "\n",
    "* Load the dataset using pandas and split it into features (X) and target (y). The target variable is quality, which is a rating from 0 to 10. Convert the target variable into binary labels, where 1 means good quality (quality > 6) and 0 means bad quality (quality <= 6)."
   ]
  },
  {
   "cell_type": "code",
   "execution_count": 2,
   "id": "7ffa168c",
   "metadata": {},
   "outputs": [],
   "source": [
    "# Load the dataset using pandas with a custom separator.\n",
    "\n",
    "dataset = pd.read_csv(r\"H:\\M.tech Data science PDPU\\PRML LAB\\CSV\\winequality-white.csv\",sep=\";\")"
   ]
  },
  {
   "cell_type": "code",
   "execution_count": 3,
   "id": "44bc8e2f",
   "metadata": {},
   "outputs": [],
   "source": [
    "# Step 3: Split the dataset into features (X) and the target variable (y) and convert it into binary labels.\n",
    "X = dataset.drop(columns=[\"quality\"])\n",
    "y = dataset[\"quality\"].apply(lambda x: 1 if x > 6 else 0)"
   ]
  },
  {
   "cell_type": "markdown",
   "id": "42818fcd",
   "metadata": {},
   "source": [
    "Exercise 2\n",
    "* Split the data into training and test sets, using 80% of the data for training and 20% for testing. Use a random state of 42 for reproducibility."
   ]
  },
  {
   "cell_type": "code",
   "execution_count": 4,
   "id": "c1215553",
   "metadata": {},
   "outputs": [],
   "source": [
    "# Step 4: Split the data into training and test sets (80% training, 20% testing).\n",
    "X_train, X_test, y_train, y_test = train_test_split(X, y, test_size=0.2, random_state=42)"
   ]
  },
  {
   "cell_type": "markdown",
   "id": "41aaf92e",
   "metadata": {},
   "source": [
    "Exercise 3\n",
    "* Create a bagging classifier with 100 base estimators, using the default parameters of scikit-learn. Fit the classifier to the training data and predict the labels of the test data. Compute and print the accuracy score of the bagging classifier on the test data."
   ]
  },
  {
   "cell_type": "code",
   "execution_count": 5,
   "id": "06656f63",
   "metadata": {},
   "outputs": [],
   "source": [
    "# Step 5: Create a bagging classifier with 100 base estimators.\n",
    "bagging_classifier = BaggingClassifier(n_estimators=100)\n",
    "\n",
    "# Step 6: Fit the classifier to the training data.\n",
    "bagging_classifier.fit(X_train, y_train)\n",
    "\n",
    "# Step 7: Predict the labels of the test data.\n",
    "y_pred = bagging_classifier.predict(X_test)\n",
    "\n",
    "# Step 8: Compute and print the accuracy score of the bagging classifier on the test data.\n",
    "accuracy = accuracy_score(y_test, y_pred)\n",
    "# print(\"Accuracy score on the test data:\", accuracy)"
   ]
  },
  {
   "cell_type": "code",
   "execution_count": 6,
   "id": "3b20ce12",
   "metadata": {},
   "outputs": [
    {
     "name": "stdout",
     "output_type": "stream",
     "text": [
      "Accuracy score on the test data 0.889795918367347\n"
     ]
    }
   ],
   "source": [
    "print(\"Accuracy score on the test data\", accuracy)"
   ]
  },
  {
   "cell_type": "markdown",
   "id": "d80be88a",
   "metadata": {},
   "source": [
    "Exercise 4\n",
    "* Create an AdaBoost classifier with 100 base estimators, using the default parameters of scikit-learn. Fit the classifier to the training data and predict the labels of the test data. Compute and print the accuracy score of the AdaBoost classifier on the test data."
   ]
  },
  {
   "cell_type": "code",
   "execution_count": 7,
   "id": "4dc6ffae",
   "metadata": {},
   "outputs": [
    {
     "name": "stdout",
     "output_type": "stream",
     "text": [
      "AdaBoost Classifier Accuracy: 0.813265306122449\n"
     ]
    }
   ],
   "source": [
    "from sklearn.ensemble import AdaBoostClassifier\n",
    "\n",
    "# Create an AdaBoost classifier with 100 base estimators.\n",
    "adaboost_classifier = AdaBoostClassifier(n_estimators=100)\n",
    "\n",
    "# Fit the AdaBoost classifier to the training data.\n",
    "adaboost_classifier.fit(X_train, y_train)\n",
    "\n",
    "# Predict the labels of the test data using the AdaBoost classifier.\n",
    "adaboost_pred = adaboost_classifier.predict(X_test)\n",
    "\n",
    "# Compute and print the accuracy score of the AdaBoost classifier on the test data.\n",
    "adaboost_accuracy = accuracy_score(y_test, adaboost_pred)\n",
    "print(\"AdaBoost Classifier Accuracy:\", adaboost_accuracy)"
   ]
  },
  {
   "cell_type": "code",
   "execution_count": null,
   "id": "537d8c90",
   "metadata": {},
   "outputs": [],
   "source": []
  }
 ],
 "metadata": {
  "kernelspec": {
   "display_name": "Python 3 (ipykernel)",
   "language": "python",
   "name": "python3"
  },
  "language_info": {
   "codemirror_mode": {
    "name": "ipython",
    "version": 3
   },
   "file_extension": ".py",
   "mimetype": "text/x-python",
   "name": "python",
   "nbconvert_exporter": "python",
   "pygments_lexer": "ipython3",
   "version": "3.11.1"
  },
  "nbTranslate": {
   "displayLangs": [
    "*"
   ],
   "hotkey": "alt-t",
   "langInMainMenu": true,
   "sourceLang": "en",
   "targetLang": "fr",
   "useGoogleTranslate": true
  },
  "toc": {
   "base_numbering": 1,
   "nav_menu": {},
   "number_sections": true,
   "sideBar": true,
   "skip_h1_title": false,
   "title_cell": "Table of Contents",
   "title_sidebar": "Contents",
   "toc_cell": false,
   "toc_position": {},
   "toc_section_display": true,
   "toc_window_display": false
  },
  "varInspector": {
   "cols": {
    "lenName": 16,
    "lenType": 16,
    "lenVar": 40
   },
   "kernels_config": {
    "python": {
     "delete_cmd_postfix": "",
     "delete_cmd_prefix": "del ",
     "library": "var_list.py",
     "varRefreshCmd": "print(var_dic_list())"
    },
    "r": {
     "delete_cmd_postfix": ") ",
     "delete_cmd_prefix": "rm(",
     "library": "var_list.r",
     "varRefreshCmd": "cat(var_dic_list()) "
    }
   },
   "types_to_exclude": [
    "module",
    "function",
    "builtin_function_or_method",
    "instance",
    "_Feature"
   ],
   "window_display": false
  }
 },
 "nbformat": 4,
 "nbformat_minor": 5
}
