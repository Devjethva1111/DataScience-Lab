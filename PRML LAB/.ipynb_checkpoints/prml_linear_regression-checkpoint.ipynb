{
 "cells": [
  {
   "cell_type": "markdown",
   "metadata": {
    "id": "5HwNpMy9B2Z4"
   },
   "source": [
    "# Assignment 2\n",
    "## simple linear regression\n"
   ]
  },
  {
   "cell_type": "markdown",
   "metadata": {
    "id": "yBBDOy7UCOOi"
   },
   "source": [
    "exercise 1\n",
    "* draw a scatter plot for the data mentioned for given attributes.\n",
    "\n",
    "exercise 2\n",
    "* perform data pre-processing"
   ]
  },
  {
   "cell_type": "code",
   "execution_count": 1,
   "metadata": {
    "id": "wy9_MSEpy4K3"
   },
   "outputs": [],
   "source": [
    "import numpy as np\n",
    "import pandas as pd\n",
    "import matplotlib.pyplot as plt"
   ]
  },
  {
   "cell_type": "code",
   "execution_count": 2,
   "metadata": {
    "colab": {
     "base_uri": "https://localhost:8080/",
     "height": 424
    },
    "id": "ep9GU4DaBsnQ",
    "outputId": "0f4366bf-7942-4814-995d-4142a78db6eb"
   },
   "outputs": [
    {
     "data": {
      "text/html": [
       "<div>\n",
       "<style scoped>\n",
       "    .dataframe tbody tr th:only-of-type {\n",
       "        vertical-align: middle;\n",
       "    }\n",
       "\n",
       "    .dataframe tbody tr th {\n",
       "        vertical-align: top;\n",
       "    }\n",
       "\n",
       "    .dataframe thead th {\n",
       "        text-align: right;\n",
       "    }\n",
       "</style>\n",
       "<table border=\"1\" class=\"dataframe\">\n",
       "  <thead>\n",
       "    <tr style=\"text-align: right;\">\n",
       "      <th></th>\n",
       "      <th>total_sqft</th>\n",
       "      <th>price</th>\n",
       "    </tr>\n",
       "  </thead>\n",
       "  <tbody>\n",
       "    <tr>\n",
       "      <th>0</th>\n",
       "      <td>1056.0</td>\n",
       "      <td>39.07</td>\n",
       "    </tr>\n",
       "    <tr>\n",
       "      <th>1</th>\n",
       "      <td>2600.0</td>\n",
       "      <td>120.00</td>\n",
       "    </tr>\n",
       "    <tr>\n",
       "      <th>2</th>\n",
       "      <td>1440.0</td>\n",
       "      <td>62.00</td>\n",
       "    </tr>\n",
       "    <tr>\n",
       "      <th>3</th>\n",
       "      <td>1521.0</td>\n",
       "      <td>95.00</td>\n",
       "    </tr>\n",
       "    <tr>\n",
       "      <th>4</th>\n",
       "      <td>1200.0</td>\n",
       "      <td>51.00</td>\n",
       "    </tr>\n",
       "    <tr>\n",
       "      <th>...</th>\n",
       "      <td>...</td>\n",
       "      <td>...</td>\n",
       "    </tr>\n",
       "    <tr>\n",
       "      <th>13315</th>\n",
       "      <td>3453.0</td>\n",
       "      <td>231.00</td>\n",
       "    </tr>\n",
       "    <tr>\n",
       "      <th>13316</th>\n",
       "      <td>3600.0</td>\n",
       "      <td>400.00</td>\n",
       "    </tr>\n",
       "    <tr>\n",
       "      <th>13317</th>\n",
       "      <td>1141.0</td>\n",
       "      <td>60.00</td>\n",
       "    </tr>\n",
       "    <tr>\n",
       "      <th>13318</th>\n",
       "      <td>4689.0</td>\n",
       "      <td>488.00</td>\n",
       "    </tr>\n",
       "    <tr>\n",
       "      <th>13319</th>\n",
       "      <td>550.0</td>\n",
       "      <td>17.00</td>\n",
       "    </tr>\n",
       "  </tbody>\n",
       "</table>\n",
       "<p>13274 rows × 2 columns</p>\n",
       "</div>"
      ],
      "text/plain": [
       "       total_sqft   price\n",
       "0          1056.0   39.07\n",
       "1          2600.0  120.00\n",
       "2          1440.0   62.00\n",
       "3          1521.0   95.00\n",
       "4          1200.0   51.00\n",
       "...           ...     ...\n",
       "13315      3453.0  231.00\n",
       "13316      3600.0  400.00\n",
       "13317      1141.0   60.00\n",
       "13318      4689.0  488.00\n",
       "13319       550.0   17.00\n",
       "\n",
       "[13274 rows x 2 columns]"
      ]
     },
     "execution_count": 2,
     "metadata": {},
     "output_type": "execute_result"
    }
   ],
   "source": [
    "# reading data\n",
    "\n",
    "d = pd.read_csv('bengaluru_house_prices.csv')\n",
    "df = pd.DataFrame(d[['total_sqft','price']])\n",
    "\n",
    "\n",
    "# Define a function to clean the 'total_sqft' column\n",
    "def clean_sqft(x):\n",
    "    if '-' in x:\n",
    "        tokens = x.split('-')\n",
    "        return (float(tokens[0]) + float(tokens[1])) / 2\n",
    "    try:\n",
    "        return float(x)\n",
    "    except:\n",
    "        return np.nan\n",
    "\n",
    "# Apply the cleaning function to the 'total_sqft' column\n",
    "df['total_sqft'] = df['total_sqft'].apply(clean_sqft)\n",
    "\n",
    "# Convert the 'total_sqft' column to numeric data type\n",
    "df['total_sqft'] = pd.to_numeric(df['total_sqft'], errors=\"coerce\")\n",
    "\n",
    "# Drop rows with NaN values in the 'total_sqft' column\n",
    "df.dropna(subset=['total_sqft'], inplace=True)\n",
    "\n",
    "df"
   ]
  },
  {
   "cell_type": "code",
   "execution_count": 3,
   "metadata": {
    "colab": {
     "base_uri": "https://localhost:8080/",
     "height": 845
    },
    "id": "guzKMcw3DPGV",
    "outputId": "7c79b10d-6f13-4e17-a1ea-bc40f11fb3df",
    "scrolled": false
   },
   "outputs": [
    {
     "data": {
      "image/png": "[encoded data removed]",
      "text/plain": [
       "<Figure size 640x480 with 1 Axes>"
      ]
     },
     "metadata": {},
     "output_type": "display_data"
    }
   ],
   "source": [
    "plt.scatter(df['total_sqft'], df['price'])\n",
    "plt.xlabel('total_sqft')\n",
    "plt.ylabel('price')\n",
    "plt.rcParams['figure.figsize'] = [10, 30]\n",
    "plt.show()"
   ]
  },
  {
   "cell_type": "code",
   "execution_count": 4,
   "metadata": {
    "colab": {
     "base_uri": "https://localhost:8080/"
    },
    "id": "O6pTzU5kKB3N",
    "outputId": "a528297c-ceaf-4652-e84d-5559f0fc310a"
   },
   "outputs": [],
   "source": [
    "x = df['total_sqft']\n",
    "y = df['price']"
   ]
  },
  {
   "cell_type": "code",
   "execution_count": 7,
   "metadata": {
    "colab": {
     "base_uri": "https://localhost:8080/",
     "height": 442
    },
    "id": "2DMcpY_1FI5Y",
    "outputId": "8a997a30-953e-466e-ab58-e9c01aaf018a"
   },
   "outputs": [
    {
     "name": "stdout",
     "output_type": "stream",
     "text": [
      "nan nan\n"
     ]
    }
   ],
   "source": [
    "Theta_1 = 0\n",
    "Theta_0 = 0\n",
    "\n",
    "l = 0.0001  # learning rate\n",
    "epochs = 1000 # the number itreations to performs the gradients\n",
    "\n",
    "n = float(len(x))\n",
    "\n",
    "for i in range(epochs):\n",
    "  y_pred = Theta_1*x + Theta_0\n",
    "  d_theta_1 = (-2/n) * sum(x * (y - y_pred))\n",
    "  d_theta_0 = (-2/n) * sum(y - y_pred)\n",
    "  Theta_1 = Theta_1 - L * d_theta_1\n",
    "  Theta_0 = Theta_0 - L * d_theta_0\n",
    "  \n",
    "print(Theta_1, Theta_0)"
   ]
  },
  {
   "cell_type": "code",
   "execution_count": null,
   "metadata": {},
   "outputs": [],
   "source": []
  }
 ],
 "metadata": {
  "colab": {
   "provenance": []
  },
  "kernelspec": {
   "display_name": "Python 3 (ipykernel)",
   "language": "python",
   "name": "python3"
  },
  "language_info": {
   "codemirror_mode": {
    "name": "ipython",
    "version": 3
   },
   "file_extension": ".py",
   "mimetype": "text/x-python",
   "name": "python",
   "nbconvert_exporter": "python",
   "pygments_lexer": "ipython3",
   "version": "3.11.1"
  },
  "nbTranslate": {
   "displayLangs": [
    "*"
   ],
   "hotkey": "alt-t",
   "langInMainMenu": true,
   "sourceLang": "en",
   "targetLang": "fr",
   "useGoogleTranslate": true
  },
  "toc": {
   "base_numbering": 1,
   "nav_menu": {},
   "number_sections": true,
   "sideBar": true,
   "skip_h1_title": false,
   "title_cell": "Table of Contents",
   "title_sidebar": "Contents",
   "toc_cell": false,
   "toc_position": {},
   "toc_section_display": true,
   "toc_window_display": false
  },
  "varInspector": {
   "cols": {
    "lenName": 16,
    "lenType": 16,
    "lenVar": 40
   },
   "kernels_config": {
    "python": {
     "delete_cmd_postfix": "",
     "delete_cmd_prefix": "del ",
     "library": "var_list.py",
     "varRefreshCmd": "print(var_dic_list())"
    },
    "r": {
     "delete_cmd_postfix": ") ",
     "delete_cmd_prefix": "rm(",
     "library": "var_list.r",
     "varRefreshCmd": "cat(var_dic_list()) "
    }
   },
   "types_to_exclude": [
    "module",
    "function",
    "builtin_function_or_method",
    "instance",
    "_Feature"
   ],
   "window_display": false
  }
 },
 "nbformat": 4,
 "nbformat_minor": 1
}
